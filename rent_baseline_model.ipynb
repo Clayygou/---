{
 "cells": [
  {
   "cell_type": "code",
   "execution_count": 1,
   "metadata": {},
   "outputs": [],
   "source": [
    "import sys"
   ]
  },
  {
   "cell_type": "markdown",
   "metadata": {},
   "source": [
    "- 电脑重装问题"
   ]
  },
  {
   "cell_type": "code",
   "execution_count": 48,
   "metadata": {},
   "outputs": [
    {
     "data": {
      "text/plain": [
       "['',\n",
       " 'F:\\\\AI比赛\\\\DataWhle',\n",
       " 'E:\\\\anaconda_install\\\\python37.zip',\n",
       " 'E:\\\\anaconda_install\\\\DLLs',\n",
       " 'E:\\\\anaconda_install\\\\lib',\n",
       " 'E:\\\\anaconda_install',\n",
       " 'E:\\\\anaconda_install\\\\lib\\\\site-packages',\n",
       " 'E:\\\\anaconda_install\\\\lib\\\\site-packages\\\\win32',\n",
       " 'E:\\\\anaconda_install\\\\lib\\\\site-packages\\\\win32\\\\lib',\n",
       " 'E:\\\\anaconda_install\\\\lib\\\\site-packages\\\\Pythonwin',\n",
       " 'E:\\\\anaconda_install\\\\lib\\\\site-packages\\\\IPython\\\\extensions',\n",
       " 'C:\\\\Users\\\\mzy\\\\.ipython',\n",
       " 'E:\\\\anaconda_install\\\\envs\\\\AI',\n",
       " 'E:\\\\anaconda_install\\\\envs\\\\AI\\\\Lib\\\\site-packages']"
      ]
     },
     "execution_count": 48,
     "metadata": {},
     "output_type": "execute_result"
    }
   ],
   "source": [
    "sys.path"
   ]
  },
  {
   "cell_type": "markdown",
   "metadata": {},
   "source": [
    "- 重新安装之后需要添加路径"
   ]
  },
  {
   "cell_type": "code",
   "execution_count": 53,
   "metadata": {},
   "outputs": [],
   "source": [
    "sys.path.append(\"E:\\\\anaconda_install\\\\envs\\\\AI\")\n",
    "sys.path.append(\"E:\\\\anaconda_install\\\\envs\\\\AI\\\\Lib\\\\site-packages\")\n",
    "sys.path.append(\"E:\\\\anaconda_install\\\\xgboost\\\\xgboost.dll\")\n",
    "sys.path.append(\"E:\\\\anaconda_install\\\\envs\\\\AI\\\\Lib\\\\site-packages\\\\xgboost\")"
   ]
  },
  {
   "cell_type": "code",
   "execution_count": null,
   "metadata": {},
   "outputs": [],
   "source": []
  },
  {
   "cell_type": "code",
   "execution_count": 4,
   "metadata": {},
   "outputs": [],
   "source": [
    "import pandas as pd\n",
    "import numpy as np\n",
    "import matplotlib.pyplot as plt\n",
    "import seaborn as sns\n",
    "import warnings\n",
    "warnings.filterwarnings(\"ignore\")"
   ]
  },
  {
   "cell_type": "code",
   "execution_count": 5,
   "metadata": {},
   "outputs": [],
   "source": [
    "from sklearn.preprocessing import LabelEncoder\n",
    "from sklearn.model_selection import KFold\n",
    "from sklearn.metrics import r2_score\n",
    "import lightgbm as lgb"
   ]
  },
  {
   "cell_type": "code",
   "execution_count": 6,
   "metadata": {},
   "outputs": [],
   "source": [
    "pd.set_option('display.max_columns', None)"
   ]
  },
  {
   "cell_type": "code",
   "execution_count": 7,
   "metadata": {},
   "outputs": [],
   "source": [
    "train_data = pd.read_csv(\"./train_data.csv\")\n",
    "test_data = pd.read_csv(\"./test_a.csv\")"
   ]
  },
  {
   "cell_type": "code",
   "execution_count": 8,
   "metadata": {},
   "outputs": [],
   "source": [
    "train_data = train_data.drop([\"ID\",\"city\"],axis = 1)\n",
    "test_data = test_data.drop([\"ID\",\"city\"],axis = 1)"
   ]
  },
  {
   "cell_type": "code",
   "execution_count": 9,
   "metadata": {},
   "outputs": [],
   "source": [
    "for df in [train_data,test_data]:\n",
    "    df['rentType'][df['rentType']=='--'] = '未知方式'\n",
    "    # 转换object类型数据\n",
    "    columns = ['rentType', 'houseFloor', 'houseToward', 'houseDecoration', 'communityName', 'region', 'plate']\n",
    "    for col in columns:\n",
    "        df[col] = df[col].astype('category')"
   ]
  },
  {
   "cell_type": "code",
   "execution_count": 10,
   "metadata": {},
   "outputs": [],
   "source": [
    "for df in [train_data,test_data]:\n",
    "    tmp = df['buildYear'].copy()\n",
    "    tmp2 = tmp[tmp!='暂无信息'].astype('int')\n",
    "    tmp[tmp=='暂无信息'] = tmp2.mode().iloc[0]\n",
    "    df['buildYear'] = tmp\n",
    "    df['buildYear'] = df['buildYear'].astype('int')\n",
    "    \n",
    "    df['pv'].fillna(df['pv'].mean(),inplace=True)\n",
    "    df['uv'].fillna(df['uv'].mean(),inplace=True)\n",
    "    df['pv'] = df['pv'].astype('int')\n",
    "    df['uv'] = df['uv'].astype('int')\n",
    "    df.drop('communityName',axis=1, inplace=True)"
   ]
  },
  {
   "cell_type": "code",
   "execution_count": 11,
   "metadata": {},
   "outputs": [],
   "source": [
    "for df in [train_data,test_data]:\n",
    "    # 将houseType转化为‘房间数’，‘厅数’，‘卫生间数’\n",
    "    def parseRoom(info, index):\n",
    "        res = int(info[index*2])\n",
    "        return res\n",
    "    df.insert(3,'室',None)\n",
    "    df.insert(4, '厅', None)\n",
    "    df.insert(5, '卫', None)\n",
    "    df['室'] = df['houseType'].apply(parseRoom, index=0)\n",
    "    df['厅'] = df['houseType'].apply(parseRoom, index=1)\n",
    "    df['卫'] = df['houseType'].apply(parseRoom, index=2)\n",
    "    \n",
    "    df['交易月份'] = df['tradeTime'].apply(lambda x: int(x.split('/')[1]))\n",
    "#     df['pv/uv'] = df['pv'] / df['uv']\n",
    "#     df['房间总数'] = df['室'] + df['厅'] + df['卫']\n",
    "    \n",
    "    df.drop('houseType', axis=1, inplace=True)\n",
    "    df.drop('tradeTime', axis=1, inplace=True)"
   ]
  },
  {
   "cell_type": "markdown",
   "metadata": {},
   "source": [
    "### 简单数据清洗"
   ]
  },
  {
   "cell_type": "code",
   "execution_count": 12,
   "metadata": {},
   "outputs": [],
   "source": [
    "train_data = train_data[train_data['area']<=700]\n",
    "train_data = train_data[train_data['tradeMoney']<=100000]"
   ]
  },
  {
   "cell_type": "markdown",
   "metadata": {},
   "source": [
    "### new1 删除离群点"
   ]
  },
  {
   "cell_type": "code",
   "execution_count": 13,
   "metadata": {},
   "outputs": [],
   "source": [
    "train_data = train_data[train_data[\"area\"]<400]\n",
    "train_data = train_data[(train_data[\"area\"]<400)&(train_data[\"tradeMoney\"]<60000)]\n",
    "train_data = train_data.drop(train_data[(train_data['area']<130)&(train_data[\"tradeMoney\"]>40000)].index)\n",
    "train_data = train_data.drop(train_data[(train_data['area']>350)&(train_data[\"tradeMoney\"]<5000)].index)\n",
    "train_data = train_data.drop(train_data[train_data[\"tradeMoney\"]<1].index)\n",
    "train_data = train_data.drop(train_data[train_data[\"area\"]<10].index)"
   ]
  },
  {
   "cell_type": "markdown",
   "metadata": {},
   "source": [
    "### new2 删除test中没有的值"
   ]
  },
  {
   "cell_type": "code",
   "execution_count": 14,
   "metadata": {},
   "outputs": [],
   "source": [
    "train_data = train_data.drop(train_data[train_data['室']==0].index)\n",
    "train_data = train_data.drop(train_data[train_data['室']==7].index)\n",
    "train_data = train_data.drop(train_data[train_data['室']==8].index)\n",
    "train_data = train_data.drop(train_data[train_data['室']==9].index)\n",
    "\n",
    "train_data = train_data.drop(train_data[train_data['厅']==4].index)\n",
    "train_data = train_data.drop(train_data[train_data['厅']==5].index)\n",
    "\n",
    "train_data = train_data.drop(train_data[train_data['卫']==8].index)\n",
    "train_data = train_data.drop(train_data[train_data['卫']==7].index)\n",
    "train_data = train_data.drop(train_data[train_data['卫']==5].index)"
   ]
  },
  {
   "cell_type": "markdown",
   "metadata": {},
   "source": [
    "### new3 删除test中没有的值"
   ]
  },
  {
   "cell_type": "code",
   "execution_count": 15,
   "metadata": {},
   "outputs": [],
   "source": [
    "train_data = train_data.drop(train_data[train_data['region']==\"RG00015\"].index)"
   ]
  },
  {
   "cell_type": "markdown",
   "metadata": {},
   "source": [
    "### new4 删除test中没有的值"
   ]
  },
  {
   "cell_type": "code",
   "execution_count": 16,
   "metadata": {},
   "outputs": [],
   "source": [
    "trian_data = train_data.drop(train_data[(train_data[\"plate\"] == \"BK00058\")|(train_data[\"plate\"] == \"BK00032\")].index)"
   ]
  },
  {
   "cell_type": "markdown",
   "metadata": {},
   "source": [
    "### 特征工程"
   ]
  },
  {
   "cell_type": "code",
   "execution_count": 17,
   "metadata": {},
   "outputs": [
    {
     "data": {
      "text/html": [
       "<div>\n",
       "<style scoped>\n",
       "    .dataframe tbody tr th:only-of-type {\n",
       "        vertical-align: middle;\n",
       "    }\n",
       "\n",
       "    .dataframe tbody tr th {\n",
       "        vertical-align: top;\n",
       "    }\n",
       "\n",
       "    .dataframe thead th {\n",
       "        text-align: right;\n",
       "    }\n",
       "</style>\n",
       "<table border=\"1\" class=\"dataframe\">\n",
       "  <thead>\n",
       "    <tr style=\"text-align: right;\">\n",
       "      <th></th>\n",
       "      <th>area</th>\n",
       "      <th>rentType</th>\n",
       "      <th>室</th>\n",
       "      <th>厅</th>\n",
       "      <th>卫</th>\n",
       "      <th>houseFloor</th>\n",
       "      <th>totalFloor</th>\n",
       "      <th>houseToward</th>\n",
       "      <th>houseDecoration</th>\n",
       "      <th>region</th>\n",
       "      <th>plate</th>\n",
       "      <th>buildYear</th>\n",
       "      <th>saleSecHouseNum</th>\n",
       "      <th>subwayStationNum</th>\n",
       "      <th>busStationNum</th>\n",
       "      <th>interSchoolNum</th>\n",
       "      <th>schoolNum</th>\n",
       "      <th>privateSchoolNum</th>\n",
       "      <th>hospitalNum</th>\n",
       "      <th>drugStoreNum</th>\n",
       "      <th>gymNum</th>\n",
       "      <th>bankNum</th>\n",
       "      <th>shopNum</th>\n",
       "      <th>parkNum</th>\n",
       "      <th>mallNum</th>\n",
       "      <th>superMarketNum</th>\n",
       "      <th>totalTradeMoney</th>\n",
       "      <th>totalTradeArea</th>\n",
       "      <th>tradeMeanPrice</th>\n",
       "      <th>tradeSecNum</th>\n",
       "      <th>totalNewTradeMoney</th>\n",
       "      <th>totalNewTradeArea</th>\n",
       "      <th>tradeNewMeanPrice</th>\n",
       "      <th>tradeNewNum</th>\n",
       "      <th>remainNewNum</th>\n",
       "      <th>supplyNewNum</th>\n",
       "      <th>supplyLandNum</th>\n",
       "      <th>supplyLandArea</th>\n",
       "      <th>tradeLandNum</th>\n",
       "      <th>tradeLandArea</th>\n",
       "      <th>landTotalPrice</th>\n",
       "      <th>landMeanPrice</th>\n",
       "      <th>totalWorkers</th>\n",
       "      <th>newWorkers</th>\n",
       "      <th>residentPopulation</th>\n",
       "      <th>pv</th>\n",
       "      <th>uv</th>\n",
       "      <th>lookNum</th>\n",
       "      <th>tradeMoney</th>\n",
       "      <th>交易月份</th>\n",
       "    </tr>\n",
       "  </thead>\n",
       "  <tbody>\n",
       "    <tr>\n",
       "      <th>0</th>\n",
       "      <td>68.06</td>\n",
       "      <td>未知方式</td>\n",
       "      <td>2</td>\n",
       "      <td>1</td>\n",
       "      <td>1</td>\n",
       "      <td>低</td>\n",
       "      <td>16</td>\n",
       "      <td>暂无数据</td>\n",
       "      <td>其他</td>\n",
       "      <td>RG00001</td>\n",
       "      <td>BK00064</td>\n",
       "      <td>1953</td>\n",
       "      <td>0</td>\n",
       "      <td>7</td>\n",
       "      <td>36</td>\n",
       "      <td>0</td>\n",
       "      <td>28</td>\n",
       "      <td>1</td>\n",
       "      <td>1</td>\n",
       "      <td>12</td>\n",
       "      <td>15</td>\n",
       "      <td>16</td>\n",
       "      <td>76</td>\n",
       "      <td>5</td>\n",
       "      <td>3</td>\n",
       "      <td>22</td>\n",
       "      <td>355584000</td>\n",
       "      <td>7411.98</td>\n",
       "      <td>47974.22551</td>\n",
       "      <td>111</td>\n",
       "      <td>810967373</td>\n",
       "      <td>7755</td>\n",
       "      <td>104573.48460</td>\n",
       "      <td>25</td>\n",
       "      <td>264</td>\n",
       "      <td>0</td>\n",
       "      <td>0</td>\n",
       "      <td>0.0</td>\n",
       "      <td>0</td>\n",
       "      <td>0.0</td>\n",
       "      <td>0</td>\n",
       "      <td>0.0000</td>\n",
       "      <td>28248</td>\n",
       "      <td>614</td>\n",
       "      <td>111546</td>\n",
       "      <td>1124</td>\n",
       "      <td>284</td>\n",
       "      <td>0</td>\n",
       "      <td>2000.0</td>\n",
       "      <td>11</td>\n",
       "    </tr>\n",
       "    <tr>\n",
       "      <th>1</th>\n",
       "      <td>125.55</td>\n",
       "      <td>未知方式</td>\n",
       "      <td>3</td>\n",
       "      <td>2</td>\n",
       "      <td>2</td>\n",
       "      <td>中</td>\n",
       "      <td>14</td>\n",
       "      <td>暂无数据</td>\n",
       "      <td>简装</td>\n",
       "      <td>RG00002</td>\n",
       "      <td>BK00049</td>\n",
       "      <td>2007</td>\n",
       "      <td>0</td>\n",
       "      <td>2</td>\n",
       "      <td>184</td>\n",
       "      <td>0</td>\n",
       "      <td>26</td>\n",
       "      <td>0</td>\n",
       "      <td>1</td>\n",
       "      <td>27</td>\n",
       "      <td>5</td>\n",
       "      <td>16</td>\n",
       "      <td>163</td>\n",
       "      <td>6</td>\n",
       "      <td>4</td>\n",
       "      <td>51</td>\n",
       "      <td>5000000</td>\n",
       "      <td>122.83</td>\n",
       "      <td>40706.66775</td>\n",
       "      <td>2</td>\n",
       "      <td>9668955</td>\n",
       "      <td>286</td>\n",
       "      <td>33807.53497</td>\n",
       "      <td>2</td>\n",
       "      <td>4</td>\n",
       "      <td>0</td>\n",
       "      <td>0</td>\n",
       "      <td>0.0</td>\n",
       "      <td>0</td>\n",
       "      <td>0.0</td>\n",
       "      <td>0</td>\n",
       "      <td>0.0000</td>\n",
       "      <td>14823</td>\n",
       "      <td>148</td>\n",
       "      <td>157552</td>\n",
       "      <td>701</td>\n",
       "      <td>22</td>\n",
       "      <td>1</td>\n",
       "      <td>2000.0</td>\n",
       "      <td>12</td>\n",
       "    </tr>\n",
       "    <tr>\n",
       "      <th>2</th>\n",
       "      <td>132.00</td>\n",
       "      <td>未知方式</td>\n",
       "      <td>3</td>\n",
       "      <td>2</td>\n",
       "      <td>2</td>\n",
       "      <td>低</td>\n",
       "      <td>32</td>\n",
       "      <td>暂无数据</td>\n",
       "      <td>其他</td>\n",
       "      <td>RG00002</td>\n",
       "      <td>BK00050</td>\n",
       "      <td>1994</td>\n",
       "      <td>3</td>\n",
       "      <td>6</td>\n",
       "      <td>60</td>\n",
       "      <td>1</td>\n",
       "      <td>43</td>\n",
       "      <td>2</td>\n",
       "      <td>3</td>\n",
       "      <td>24</td>\n",
       "      <td>35</td>\n",
       "      <td>37</td>\n",
       "      <td>85</td>\n",
       "      <td>6</td>\n",
       "      <td>4</td>\n",
       "      <td>30</td>\n",
       "      <td>1687284798</td>\n",
       "      <td>49071.30</td>\n",
       "      <td>34384.35089</td>\n",
       "      <td>555</td>\n",
       "      <td>344894466</td>\n",
       "      <td>3143</td>\n",
       "      <td>109734.16040</td>\n",
       "      <td>11</td>\n",
       "      <td>159</td>\n",
       "      <td>126</td>\n",
       "      <td>0</td>\n",
       "      <td>0.0</td>\n",
       "      <td>0</td>\n",
       "      <td>0.0</td>\n",
       "      <td>0</td>\n",
       "      <td>0.0000</td>\n",
       "      <td>77645</td>\n",
       "      <td>520</td>\n",
       "      <td>131744</td>\n",
       "      <td>57</td>\n",
       "      <td>20</td>\n",
       "      <td>1</td>\n",
       "      <td>16000.0</td>\n",
       "      <td>12</td>\n",
       "    </tr>\n",
       "    <tr>\n",
       "      <th>3</th>\n",
       "      <td>57.00</td>\n",
       "      <td>未知方式</td>\n",
       "      <td>1</td>\n",
       "      <td>1</td>\n",
       "      <td>1</td>\n",
       "      <td>中</td>\n",
       "      <td>17</td>\n",
       "      <td>暂无数据</td>\n",
       "      <td>精装</td>\n",
       "      <td>RG00002</td>\n",
       "      <td>BK00051</td>\n",
       "      <td>1994</td>\n",
       "      <td>0</td>\n",
       "      <td>3</td>\n",
       "      <td>364</td>\n",
       "      <td>2</td>\n",
       "      <td>60</td>\n",
       "      <td>1</td>\n",
       "      <td>8</td>\n",
       "      <td>83</td>\n",
       "      <td>30</td>\n",
       "      <td>47</td>\n",
       "      <td>358</td>\n",
       "      <td>3</td>\n",
       "      <td>1</td>\n",
       "      <td>131</td>\n",
       "      <td>468272888</td>\n",
       "      <td>22809.70</td>\n",
       "      <td>20529.55050</td>\n",
       "      <td>260</td>\n",
       "      <td>196307819</td>\n",
       "      <td>6418</td>\n",
       "      <td>30587.07058</td>\n",
       "      <td>58</td>\n",
       "      <td>730</td>\n",
       "      <td>0</td>\n",
       "      <td>1</td>\n",
       "      <td>108037.8</td>\n",
       "      <td>1</td>\n",
       "      <td>108037.8</td>\n",
       "      <td>332760000</td>\n",
       "      <td>3080.0331</td>\n",
       "      <td>8750</td>\n",
       "      <td>1665</td>\n",
       "      <td>253337</td>\n",
       "      <td>888</td>\n",
       "      <td>279</td>\n",
       "      <td>9</td>\n",
       "      <td>1600.0</td>\n",
       "      <td>12</td>\n",
       "    </tr>\n",
       "    <tr>\n",
       "      <th>4</th>\n",
       "      <td>129.00</td>\n",
       "      <td>未知方式</td>\n",
       "      <td>3</td>\n",
       "      <td>2</td>\n",
       "      <td>3</td>\n",
       "      <td>低</td>\n",
       "      <td>2</td>\n",
       "      <td>暂无数据</td>\n",
       "      <td>毛坯</td>\n",
       "      <td>RG00003</td>\n",
       "      <td>BK00044</td>\n",
       "      <td>1994</td>\n",
       "      <td>1</td>\n",
       "      <td>0</td>\n",
       "      <td>141</td>\n",
       "      <td>0</td>\n",
       "      <td>15</td>\n",
       "      <td>0</td>\n",
       "      <td>0</td>\n",
       "      <td>21</td>\n",
       "      <td>5</td>\n",
       "      <td>10</td>\n",
       "      <td>100</td>\n",
       "      <td>5</td>\n",
       "      <td>2</td>\n",
       "      <td>34</td>\n",
       "      <td>108851470</td>\n",
       "      <td>4463.62</td>\n",
       "      <td>24386.36577</td>\n",
       "      <td>38</td>\n",
       "      <td>286722058</td>\n",
       "      <td>5608</td>\n",
       "      <td>51127.32846</td>\n",
       "      <td>34</td>\n",
       "      <td>851</td>\n",
       "      <td>216</td>\n",
       "      <td>0</td>\n",
       "      <td>0.0</td>\n",
       "      <td>0</td>\n",
       "      <td>0.0</td>\n",
       "      <td>0</td>\n",
       "      <td>0.0000</td>\n",
       "      <td>800</td>\n",
       "      <td>117</td>\n",
       "      <td>125309</td>\n",
       "      <td>2038</td>\n",
       "      <td>480</td>\n",
       "      <td>0</td>\n",
       "      <td>2900.0</td>\n",
       "      <td>11</td>\n",
       "    </tr>\n",
       "  </tbody>\n",
       "</table>\n",
       "</div>"
      ],
      "text/plain": [
       "     area rentType  室  厅  卫 houseFloor  totalFloor houseToward  \\\n",
       "0   68.06     未知方式  2  1  1          低          16        暂无数据   \n",
       "1  125.55     未知方式  3  2  2          中          14        暂无数据   \n",
       "2  132.00     未知方式  3  2  2          低          32        暂无数据   \n",
       "3   57.00     未知方式  1  1  1          中          17        暂无数据   \n",
       "4  129.00     未知方式  3  2  3          低           2        暂无数据   \n",
       "\n",
       "  houseDecoration   region    plate  buildYear  saleSecHouseNum  \\\n",
       "0              其他  RG00001  BK00064       1953                0   \n",
       "1              简装  RG00002  BK00049       2007                0   \n",
       "2              其他  RG00002  BK00050       1994                3   \n",
       "3              精装  RG00002  BK00051       1994                0   \n",
       "4              毛坯  RG00003  BK00044       1994                1   \n",
       "\n",
       "   subwayStationNum  busStationNum  interSchoolNum  schoolNum  \\\n",
       "0                 7             36               0         28   \n",
       "1                 2            184               0         26   \n",
       "2                 6             60               1         43   \n",
       "3                 3            364               2         60   \n",
       "4                 0            141               0         15   \n",
       "\n",
       "   privateSchoolNum  hospitalNum  drugStoreNum  gymNum  bankNum  shopNum  \\\n",
       "0                 1            1            12      15       16       76   \n",
       "1                 0            1            27       5       16      163   \n",
       "2                 2            3            24      35       37       85   \n",
       "3                 1            8            83      30       47      358   \n",
       "4                 0            0            21       5       10      100   \n",
       "\n",
       "   parkNum  mallNum  superMarketNum  totalTradeMoney  totalTradeArea  \\\n",
       "0        5        3              22        355584000         7411.98   \n",
       "1        6        4              51          5000000          122.83   \n",
       "2        6        4              30       1687284798        49071.30   \n",
       "3        3        1             131        468272888        22809.70   \n",
       "4        5        2              34        108851470         4463.62   \n",
       "\n",
       "   tradeMeanPrice  tradeSecNum  totalNewTradeMoney  totalNewTradeArea  \\\n",
       "0     47974.22551          111           810967373               7755   \n",
       "1     40706.66775            2             9668955                286   \n",
       "2     34384.35089          555           344894466               3143   \n",
       "3     20529.55050          260           196307819               6418   \n",
       "4     24386.36577           38           286722058               5608   \n",
       "\n",
       "   tradeNewMeanPrice  tradeNewNum  remainNewNum  supplyNewNum  supplyLandNum  \\\n",
       "0       104573.48460           25           264             0              0   \n",
       "1        33807.53497            2             4             0              0   \n",
       "2       109734.16040           11           159           126              0   \n",
       "3        30587.07058           58           730             0              1   \n",
       "4        51127.32846           34           851           216              0   \n",
       "\n",
       "   supplyLandArea  tradeLandNum  tradeLandArea  landTotalPrice  landMeanPrice  \\\n",
       "0             0.0             0            0.0               0         0.0000   \n",
       "1             0.0             0            0.0               0         0.0000   \n",
       "2             0.0             0            0.0               0         0.0000   \n",
       "3        108037.8             1       108037.8       332760000      3080.0331   \n",
       "4             0.0             0            0.0               0         0.0000   \n",
       "\n",
       "   totalWorkers  newWorkers  residentPopulation    pv   uv  lookNum  \\\n",
       "0         28248         614              111546  1124  284        0   \n",
       "1         14823         148              157552   701   22        1   \n",
       "2         77645         520              131744    57   20        1   \n",
       "3          8750        1665              253337   888  279        9   \n",
       "4           800         117              125309  2038  480        0   \n",
       "\n",
       "   tradeMoney  交易月份  \n",
       "0      2000.0    11  \n",
       "1      2000.0    12  \n",
       "2     16000.0    12  \n",
       "3      1600.0    12  \n",
       "4      2900.0    11  "
      ]
     },
     "execution_count": 17,
     "metadata": {},
     "output_type": "execute_result"
    }
   ],
   "source": [
    "trian_data.head()"
   ]
  },
  {
   "cell_type": "markdown",
   "metadata": {},
   "source": [
    "- 房间总数"
   ]
  },
  {
   "cell_type": "code",
   "execution_count": 18,
   "metadata": {},
   "outputs": [],
   "source": [
    "train_data[\"HomeNum\"] = train_data[\"室\"] + train_data[\"卫\"] + train_data[\"厅\"]"
   ]
  },
  {
   "cell_type": "code",
   "execution_count": 19,
   "metadata": {},
   "outputs": [
    {
     "data": {
      "text/plain": [
       "0"
      ]
     },
     "execution_count": 19,
     "metadata": {},
     "output_type": "execute_result"
    }
   ],
   "source": [
    "train_data[\"HomeNum\"].isnull().sum()"
   ]
  },
  {
   "cell_type": "code",
   "execution_count": 20,
   "metadata": {},
   "outputs": [
    {
     "data": {
      "text/plain": [
       "0"
      ]
     },
     "execution_count": 20,
     "metadata": {},
     "output_type": "execute_result"
    }
   ],
   "source": [
    "train_data[\"室\"].isnull().sum()"
   ]
  },
  {
   "cell_type": "code",
   "execution_count": 21,
   "metadata": {},
   "outputs": [
    {
     "data": {
      "text/plain": [
       "0"
      ]
     },
     "execution_count": 21,
     "metadata": {},
     "output_type": "execute_result"
    }
   ],
   "source": [
    "train_data[\"卫\"].isnull().sum()"
   ]
  },
  {
   "cell_type": "code",
   "execution_count": 22,
   "metadata": {},
   "outputs": [
    {
     "data": {
      "text/plain": [
       "0"
      ]
     },
     "execution_count": 22,
     "metadata": {},
     "output_type": "execute_result"
    }
   ],
   "source": [
    "train_data[\"厅\"].isnull().sum()"
   ]
  },
  {
   "cell_type": "markdown",
   "metadata": {},
   "source": [
    "- 成交均价"
   ]
  },
  {
   "cell_type": "code",
   "execution_count": 23,
   "metadata": {},
   "outputs": [],
   "source": [
    "trian_data[\"tradeMean\"] = train_data[\"totalTradeMoney\"]/train_data[\"totalTradeArea\"]\n",
    "trian_data[\"tradeNewMean\"] = train_data[\"totalNewTradeMoney\"]/train_data[\"totalNewTradeArea\"]\n",
    "trian_data[\"landMean\"] = train_data[\"landTotalPrice\"]/train_data[\"tradeLandArea\"]"
   ]
  },
  {
   "cell_type": "markdown",
   "metadata": {},
   "source": [
    "- 总数量"
   ]
  },
  {
   "cell_type": "code",
   "execution_count": 24,
   "metadata": {},
   "outputs": [],
   "source": [
    "trian_data[\"bus\"] = train_data[\"subwayStationNum\"] + train_data[\"busStationNum\"]"
   ]
  },
  {
   "cell_type": "code",
   "execution_count": 25,
   "metadata": {},
   "outputs": [],
   "source": [
    "train_data[\"school\"]  = train_data[\"interSchoolNum\"]+train_data[\"schoolNum\"]+train_data[\"privateSchoolNum\"]"
   ]
  },
  {
   "cell_type": "code",
   "execution_count": 26,
   "metadata": {},
   "outputs": [],
   "source": [
    "trian_data[\"docter\"] = train_data[\"hospitalNum\"] + train_data[\"drugStoreNum\"]"
   ]
  },
  {
   "cell_type": "code",
   "execution_count": 27,
   "metadata": {},
   "outputs": [],
   "source": [
    "trian_data[\"shop\"] = train_data[\"shopNum\"] + train_data[\"superMarketNum\"]+ train_data[\"mallNum\"]"
   ]
  },
  {
   "cell_type": "code",
   "execution_count": 28,
   "metadata": {},
   "outputs": [],
   "source": [
    "trian_data[\"sport\"] = train_data[\"gymNum\"] + train_data[\"parkNum\"]"
   ]
  },
  {
   "cell_type": "markdown",
   "metadata": {},
   "source": [
    "- test"
   ]
  },
  {
   "cell_type": "code",
   "execution_count": 29,
   "metadata": {},
   "outputs": [],
   "source": [
    "test_data[\"HomeNum\"] = test_data[\"室\"] + test_data[\"卫\"] + test_data[\"厅\"]\n",
    "\n",
    "test_data[\"tradeMean\"] = test_data[\"totalTradeMoney\"]/test_data[\"totalTradeArea\"]\n",
    "test_data[\"tradeNewMean\"] = test_data[\"totalNewTradeMoney\"]/test_data[\"totalNewTradeArea\"]\n",
    "test_data[\"landMean\"] = test_data[\"landTotalPrice\"]/test_data[\"tradeLandArea\"]\n",
    "\n",
    "test_data[\"bus\"] = test_data[\"subwayStationNum\"] + test_data[\"busStationNum\"]\n",
    "test_data[\"school\"]  = test_data[\"interSchoolNum\"]+test_data[\"schoolNum\"]+test_data[\"privateSchoolNum\"]\n",
    "test_data[\"docter\"] = test_data[\"hospitalNum\"] + test_data[\"drugStoreNum\"]\n",
    "test_data[\"shop\"] = test_data[\"shopNum\"] + test_data[\"superMarketNum\"]+ test_data[\"mallNum\"]\n",
    "test_data[\"sport\"] = test_data[\"gymNum\"] + test_data[\"parkNum\"]"
   ]
  },
  {
   "cell_type": "code",
   "execution_count": 30,
   "metadata": {},
   "outputs": [],
   "source": [
    "# train_data[\"tradeMoney\"] = np.log1p(train_data[\"tradeMoney\"])"
   ]
  },
  {
   "cell_type": "code",
   "execution_count": 31,
   "metadata": {},
   "outputs": [
    {
     "data": {
      "text/html": [
       "<div>\n",
       "<style scoped>\n",
       "    .dataframe tbody tr th:only-of-type {\n",
       "        vertical-align: middle;\n",
       "    }\n",
       "\n",
       "    .dataframe tbody tr th {\n",
       "        vertical-align: top;\n",
       "    }\n",
       "\n",
       "    .dataframe thead th {\n",
       "        text-align: right;\n",
       "    }\n",
       "</style>\n",
       "<table border=\"1\" class=\"dataframe\">\n",
       "  <thead>\n",
       "    <tr style=\"text-align: right;\">\n",
       "      <th></th>\n",
       "      <th>area</th>\n",
       "      <th>rentType</th>\n",
       "      <th>室</th>\n",
       "      <th>厅</th>\n",
       "      <th>卫</th>\n",
       "      <th>houseFloor</th>\n",
       "      <th>totalFloor</th>\n",
       "      <th>houseToward</th>\n",
       "      <th>houseDecoration</th>\n",
       "      <th>region</th>\n",
       "      <th>plate</th>\n",
       "      <th>buildYear</th>\n",
       "      <th>saleSecHouseNum</th>\n",
       "      <th>subwayStationNum</th>\n",
       "      <th>busStationNum</th>\n",
       "      <th>interSchoolNum</th>\n",
       "      <th>schoolNum</th>\n",
       "      <th>privateSchoolNum</th>\n",
       "      <th>hospitalNum</th>\n",
       "      <th>drugStoreNum</th>\n",
       "      <th>gymNum</th>\n",
       "      <th>bankNum</th>\n",
       "      <th>shopNum</th>\n",
       "      <th>parkNum</th>\n",
       "      <th>mallNum</th>\n",
       "      <th>superMarketNum</th>\n",
       "      <th>totalTradeMoney</th>\n",
       "      <th>totalTradeArea</th>\n",
       "      <th>tradeMeanPrice</th>\n",
       "      <th>tradeSecNum</th>\n",
       "      <th>totalNewTradeMoney</th>\n",
       "      <th>totalNewTradeArea</th>\n",
       "      <th>tradeNewMeanPrice</th>\n",
       "      <th>tradeNewNum</th>\n",
       "      <th>remainNewNum</th>\n",
       "      <th>supplyNewNum</th>\n",
       "      <th>supplyLandNum</th>\n",
       "      <th>supplyLandArea</th>\n",
       "      <th>tradeLandNum</th>\n",
       "      <th>tradeLandArea</th>\n",
       "      <th>landTotalPrice</th>\n",
       "      <th>landMeanPrice</th>\n",
       "      <th>totalWorkers</th>\n",
       "      <th>newWorkers</th>\n",
       "      <th>residentPopulation</th>\n",
       "      <th>pv</th>\n",
       "      <th>uv</th>\n",
       "      <th>lookNum</th>\n",
       "      <th>tradeMoney</th>\n",
       "      <th>交易月份</th>\n",
       "      <th>HomeNum</th>\n",
       "      <th>school</th>\n",
       "    </tr>\n",
       "  </thead>\n",
       "  <tbody>\n",
       "    <tr>\n",
       "      <th>0</th>\n",
       "      <td>68.06</td>\n",
       "      <td>未知方式</td>\n",
       "      <td>2</td>\n",
       "      <td>1</td>\n",
       "      <td>1</td>\n",
       "      <td>低</td>\n",
       "      <td>16</td>\n",
       "      <td>暂无数据</td>\n",
       "      <td>其他</td>\n",
       "      <td>RG00001</td>\n",
       "      <td>BK00064</td>\n",
       "      <td>1953</td>\n",
       "      <td>0</td>\n",
       "      <td>7</td>\n",
       "      <td>36</td>\n",
       "      <td>0</td>\n",
       "      <td>28</td>\n",
       "      <td>1</td>\n",
       "      <td>1</td>\n",
       "      <td>12</td>\n",
       "      <td>15</td>\n",
       "      <td>16</td>\n",
       "      <td>76</td>\n",
       "      <td>5</td>\n",
       "      <td>3</td>\n",
       "      <td>22</td>\n",
       "      <td>355584000</td>\n",
       "      <td>7411.98</td>\n",
       "      <td>47974.22551</td>\n",
       "      <td>111</td>\n",
       "      <td>810967373</td>\n",
       "      <td>7755</td>\n",
       "      <td>104573.48460</td>\n",
       "      <td>25</td>\n",
       "      <td>264</td>\n",
       "      <td>0</td>\n",
       "      <td>0</td>\n",
       "      <td>0.0</td>\n",
       "      <td>0</td>\n",
       "      <td>0.0</td>\n",
       "      <td>0</td>\n",
       "      <td>0.0000</td>\n",
       "      <td>28248</td>\n",
       "      <td>614</td>\n",
       "      <td>111546</td>\n",
       "      <td>1124</td>\n",
       "      <td>284</td>\n",
       "      <td>0</td>\n",
       "      <td>2000.0</td>\n",
       "      <td>11</td>\n",
       "      <td>4</td>\n",
       "      <td>29</td>\n",
       "    </tr>\n",
       "    <tr>\n",
       "      <th>1</th>\n",
       "      <td>125.55</td>\n",
       "      <td>未知方式</td>\n",
       "      <td>3</td>\n",
       "      <td>2</td>\n",
       "      <td>2</td>\n",
       "      <td>中</td>\n",
       "      <td>14</td>\n",
       "      <td>暂无数据</td>\n",
       "      <td>简装</td>\n",
       "      <td>RG00002</td>\n",
       "      <td>BK00049</td>\n",
       "      <td>2007</td>\n",
       "      <td>0</td>\n",
       "      <td>2</td>\n",
       "      <td>184</td>\n",
       "      <td>0</td>\n",
       "      <td>26</td>\n",
       "      <td>0</td>\n",
       "      <td>1</td>\n",
       "      <td>27</td>\n",
       "      <td>5</td>\n",
       "      <td>16</td>\n",
       "      <td>163</td>\n",
       "      <td>6</td>\n",
       "      <td>4</td>\n",
       "      <td>51</td>\n",
       "      <td>5000000</td>\n",
       "      <td>122.83</td>\n",
       "      <td>40706.66775</td>\n",
       "      <td>2</td>\n",
       "      <td>9668955</td>\n",
       "      <td>286</td>\n",
       "      <td>33807.53497</td>\n",
       "      <td>2</td>\n",
       "      <td>4</td>\n",
       "      <td>0</td>\n",
       "      <td>0</td>\n",
       "      <td>0.0</td>\n",
       "      <td>0</td>\n",
       "      <td>0.0</td>\n",
       "      <td>0</td>\n",
       "      <td>0.0000</td>\n",
       "      <td>14823</td>\n",
       "      <td>148</td>\n",
       "      <td>157552</td>\n",
       "      <td>701</td>\n",
       "      <td>22</td>\n",
       "      <td>1</td>\n",
       "      <td>2000.0</td>\n",
       "      <td>12</td>\n",
       "      <td>7</td>\n",
       "      <td>26</td>\n",
       "    </tr>\n",
       "    <tr>\n",
       "      <th>2</th>\n",
       "      <td>132.00</td>\n",
       "      <td>未知方式</td>\n",
       "      <td>3</td>\n",
       "      <td>2</td>\n",
       "      <td>2</td>\n",
       "      <td>低</td>\n",
       "      <td>32</td>\n",
       "      <td>暂无数据</td>\n",
       "      <td>其他</td>\n",
       "      <td>RG00002</td>\n",
       "      <td>BK00050</td>\n",
       "      <td>1994</td>\n",
       "      <td>3</td>\n",
       "      <td>6</td>\n",
       "      <td>60</td>\n",
       "      <td>1</td>\n",
       "      <td>43</td>\n",
       "      <td>2</td>\n",
       "      <td>3</td>\n",
       "      <td>24</td>\n",
       "      <td>35</td>\n",
       "      <td>37</td>\n",
       "      <td>85</td>\n",
       "      <td>6</td>\n",
       "      <td>4</td>\n",
       "      <td>30</td>\n",
       "      <td>1687284798</td>\n",
       "      <td>49071.30</td>\n",
       "      <td>34384.35089</td>\n",
       "      <td>555</td>\n",
       "      <td>344894466</td>\n",
       "      <td>3143</td>\n",
       "      <td>109734.16040</td>\n",
       "      <td>11</td>\n",
       "      <td>159</td>\n",
       "      <td>126</td>\n",
       "      <td>0</td>\n",
       "      <td>0.0</td>\n",
       "      <td>0</td>\n",
       "      <td>0.0</td>\n",
       "      <td>0</td>\n",
       "      <td>0.0000</td>\n",
       "      <td>77645</td>\n",
       "      <td>520</td>\n",
       "      <td>131744</td>\n",
       "      <td>57</td>\n",
       "      <td>20</td>\n",
       "      <td>1</td>\n",
       "      <td>16000.0</td>\n",
       "      <td>12</td>\n",
       "      <td>7</td>\n",
       "      <td>46</td>\n",
       "    </tr>\n",
       "    <tr>\n",
       "      <th>3</th>\n",
       "      <td>57.00</td>\n",
       "      <td>未知方式</td>\n",
       "      <td>1</td>\n",
       "      <td>1</td>\n",
       "      <td>1</td>\n",
       "      <td>中</td>\n",
       "      <td>17</td>\n",
       "      <td>暂无数据</td>\n",
       "      <td>精装</td>\n",
       "      <td>RG00002</td>\n",
       "      <td>BK00051</td>\n",
       "      <td>1994</td>\n",
       "      <td>0</td>\n",
       "      <td>3</td>\n",
       "      <td>364</td>\n",
       "      <td>2</td>\n",
       "      <td>60</td>\n",
       "      <td>1</td>\n",
       "      <td>8</td>\n",
       "      <td>83</td>\n",
       "      <td>30</td>\n",
       "      <td>47</td>\n",
       "      <td>358</td>\n",
       "      <td>3</td>\n",
       "      <td>1</td>\n",
       "      <td>131</td>\n",
       "      <td>468272888</td>\n",
       "      <td>22809.70</td>\n",
       "      <td>20529.55050</td>\n",
       "      <td>260</td>\n",
       "      <td>196307819</td>\n",
       "      <td>6418</td>\n",
       "      <td>30587.07058</td>\n",
       "      <td>58</td>\n",
       "      <td>730</td>\n",
       "      <td>0</td>\n",
       "      <td>1</td>\n",
       "      <td>108037.8</td>\n",
       "      <td>1</td>\n",
       "      <td>108037.8</td>\n",
       "      <td>332760000</td>\n",
       "      <td>3080.0331</td>\n",
       "      <td>8750</td>\n",
       "      <td>1665</td>\n",
       "      <td>253337</td>\n",
       "      <td>888</td>\n",
       "      <td>279</td>\n",
       "      <td>9</td>\n",
       "      <td>1600.0</td>\n",
       "      <td>12</td>\n",
       "      <td>3</td>\n",
       "      <td>63</td>\n",
       "    </tr>\n",
       "    <tr>\n",
       "      <th>4</th>\n",
       "      <td>129.00</td>\n",
       "      <td>未知方式</td>\n",
       "      <td>3</td>\n",
       "      <td>2</td>\n",
       "      <td>3</td>\n",
       "      <td>低</td>\n",
       "      <td>2</td>\n",
       "      <td>暂无数据</td>\n",
       "      <td>毛坯</td>\n",
       "      <td>RG00003</td>\n",
       "      <td>BK00044</td>\n",
       "      <td>1994</td>\n",
       "      <td>1</td>\n",
       "      <td>0</td>\n",
       "      <td>141</td>\n",
       "      <td>0</td>\n",
       "      <td>15</td>\n",
       "      <td>0</td>\n",
       "      <td>0</td>\n",
       "      <td>21</td>\n",
       "      <td>5</td>\n",
       "      <td>10</td>\n",
       "      <td>100</td>\n",
       "      <td>5</td>\n",
       "      <td>2</td>\n",
       "      <td>34</td>\n",
       "      <td>108851470</td>\n",
       "      <td>4463.62</td>\n",
       "      <td>24386.36577</td>\n",
       "      <td>38</td>\n",
       "      <td>286722058</td>\n",
       "      <td>5608</td>\n",
       "      <td>51127.32846</td>\n",
       "      <td>34</td>\n",
       "      <td>851</td>\n",
       "      <td>216</td>\n",
       "      <td>0</td>\n",
       "      <td>0.0</td>\n",
       "      <td>0</td>\n",
       "      <td>0.0</td>\n",
       "      <td>0</td>\n",
       "      <td>0.0000</td>\n",
       "      <td>800</td>\n",
       "      <td>117</td>\n",
       "      <td>125309</td>\n",
       "      <td>2038</td>\n",
       "      <td>480</td>\n",
       "      <td>0</td>\n",
       "      <td>2900.0</td>\n",
       "      <td>11</td>\n",
       "      <td>8</td>\n",
       "      <td>15</td>\n",
       "    </tr>\n",
       "  </tbody>\n",
       "</table>\n",
       "</div>"
      ],
      "text/plain": [
       "     area rentType  室  厅  卫 houseFloor  totalFloor houseToward  \\\n",
       "0   68.06     未知方式  2  1  1          低          16        暂无数据   \n",
       "1  125.55     未知方式  3  2  2          中          14        暂无数据   \n",
       "2  132.00     未知方式  3  2  2          低          32        暂无数据   \n",
       "3   57.00     未知方式  1  1  1          中          17        暂无数据   \n",
       "4  129.00     未知方式  3  2  3          低           2        暂无数据   \n",
       "\n",
       "  houseDecoration   region    plate  buildYear  saleSecHouseNum  \\\n",
       "0              其他  RG00001  BK00064       1953                0   \n",
       "1              简装  RG00002  BK00049       2007                0   \n",
       "2              其他  RG00002  BK00050       1994                3   \n",
       "3              精装  RG00002  BK00051       1994                0   \n",
       "4              毛坯  RG00003  BK00044       1994                1   \n",
       "\n",
       "   subwayStationNum  busStationNum  interSchoolNum  schoolNum  \\\n",
       "0                 7             36               0         28   \n",
       "1                 2            184               0         26   \n",
       "2                 6             60               1         43   \n",
       "3                 3            364               2         60   \n",
       "4                 0            141               0         15   \n",
       "\n",
       "   privateSchoolNum  hospitalNum  drugStoreNum  gymNum  bankNum  shopNum  \\\n",
       "0                 1            1            12      15       16       76   \n",
       "1                 0            1            27       5       16      163   \n",
       "2                 2            3            24      35       37       85   \n",
       "3                 1            8            83      30       47      358   \n",
       "4                 0            0            21       5       10      100   \n",
       "\n",
       "   parkNum  mallNum  superMarketNum  totalTradeMoney  totalTradeArea  \\\n",
       "0        5        3              22        355584000         7411.98   \n",
       "1        6        4              51          5000000          122.83   \n",
       "2        6        4              30       1687284798        49071.30   \n",
       "3        3        1             131        468272888        22809.70   \n",
       "4        5        2              34        108851470         4463.62   \n",
       "\n",
       "   tradeMeanPrice  tradeSecNum  totalNewTradeMoney  totalNewTradeArea  \\\n",
       "0     47974.22551          111           810967373               7755   \n",
       "1     40706.66775            2             9668955                286   \n",
       "2     34384.35089          555           344894466               3143   \n",
       "3     20529.55050          260           196307819               6418   \n",
       "4     24386.36577           38           286722058               5608   \n",
       "\n",
       "   tradeNewMeanPrice  tradeNewNum  remainNewNum  supplyNewNum  supplyLandNum  \\\n",
       "0       104573.48460           25           264             0              0   \n",
       "1        33807.53497            2             4             0              0   \n",
       "2       109734.16040           11           159           126              0   \n",
       "3        30587.07058           58           730             0              1   \n",
       "4        51127.32846           34           851           216              0   \n",
       "\n",
       "   supplyLandArea  tradeLandNum  tradeLandArea  landTotalPrice  landMeanPrice  \\\n",
       "0             0.0             0            0.0               0         0.0000   \n",
       "1             0.0             0            0.0               0         0.0000   \n",
       "2             0.0             0            0.0               0         0.0000   \n",
       "3        108037.8             1       108037.8       332760000      3080.0331   \n",
       "4             0.0             0            0.0               0         0.0000   \n",
       "\n",
       "   totalWorkers  newWorkers  residentPopulation    pv   uv  lookNum  \\\n",
       "0         28248         614              111546  1124  284        0   \n",
       "1         14823         148              157552   701   22        1   \n",
       "2         77645         520              131744    57   20        1   \n",
       "3          8750        1665              253337   888  279        9   \n",
       "4           800         117              125309  2038  480        0   \n",
       "\n",
       "   tradeMoney  交易月份  HomeNum  school  \n",
       "0      2000.0    11        4      29  \n",
       "1      2000.0    12        7      26  \n",
       "2     16000.0    12        7      46  \n",
       "3      1600.0    12        3      63  \n",
       "4      2900.0    11        8      15  "
      ]
     },
     "execution_count": 31,
     "metadata": {},
     "output_type": "execute_result"
    }
   ],
   "source": [
    "train_data.head()"
   ]
  },
  {
   "cell_type": "code",
   "execution_count": 32,
   "metadata": {},
   "outputs": [
    {
     "data": {
      "text/plain": [
       "(40142, 52)"
      ]
     },
     "execution_count": 32,
     "metadata": {},
     "output_type": "execute_result"
    }
   ],
   "source": [
    "train_data.shape"
   ]
  },
  {
   "cell_type": "code",
   "execution_count": 33,
   "metadata": {},
   "outputs": [],
   "source": [
    "columns = ['rentType', 'houseFloor', 'houseToward', 'houseDecoration', 'region', 'plate']\n",
    "for col in columns:\n",
    "    train_data[col] = train_data[col].astype('category')\n",
    "    test_data[col] = test_data[col].astype('category')"
   ]
  },
  {
   "cell_type": "code",
   "execution_count": 34,
   "metadata": {
    "scrolled": true
   },
   "outputs": [
    {
     "name": "stdout",
     "output_type": "stream",
     "text": [
      "rentType\n",
      "houseFloor\n",
      "houseToward\n",
      "houseDecoration\n",
      "region\n",
      "plate\n"
     ]
    }
   ],
   "source": [
    "for col in train_data.columns:\n",
    "    if train_data[col].dtype.name == \"category\":\n",
    "        print(col)\n"
   ]
  },
  {
   "cell_type": "markdown",
   "metadata": {},
   "source": [
    "### 需要的数据\n",
    "- train\n",
    "- target\n",
    "- test\n",
    "- features\n",
    "- categorical_feats"
   ]
  },
  {
   "cell_type": "markdown",
   "metadata": {},
   "source": [
    "### lightgbm"
   ]
  },
  {
   "cell_type": "code",
   "execution_count": 35,
   "metadata": {},
   "outputs": [],
   "source": [
    "train = train_data.drop([\"tradeMoney\"],axis = 1)\n",
    "target = train_data[\"tradeMoney\"]"
   ]
  },
  {
   "cell_type": "code",
   "execution_count": 36,
   "metadata": {},
   "outputs": [],
   "source": [
    "test = test_data"
   ]
  },
  {
   "cell_type": "code",
   "execution_count": 37,
   "metadata": {},
   "outputs": [],
   "source": [
    "features = train.columns"
   ]
  },
  {
   "cell_type": "code",
   "execution_count": 38,
   "metadata": {},
   "outputs": [],
   "source": [
    "categorical_feats = ['rentType', 'houseFloor', 'houseToward', 'houseDecoration', 'region', 'plate']"
   ]
  },
  {
   "cell_type": "code",
   "execution_count": 39,
   "metadata": {},
   "outputs": [],
   "source": [
    "params = {\n",
    "    'num_leaves': 31,\n",
    "    'min_data_in_leaf': 20,\n",
    "    'min_child_samples':20,\n",
    "    'objective': 'regression',\n",
    "    'learning_rate': 0.01,\n",
    "    \"boosting\": \"gbdt\",\n",
    "    \"feature_fraction\": 0.8,\n",
    "    \"bagging_freq\": 1,\n",
    "    \"bagging_fraction\": 0.85,\n",
    "    \"bagging_seed\": 23,\n",
    "    \"metric\": 'rmse',\n",
    "    \"lambda_l1\": 0.2,\n",
    "    \"nthread\": 4,\n",
    "}"
   ]
  },
  {
   "cell_type": "code",
   "execution_count": 40,
   "metadata": {
    "scrolled": true
   },
   "outputs": [
    {
     "name": "stdout",
     "output_type": "stream",
     "text": [
      "fold 0\n",
      "Training until validation scores don't improve for 200 rounds.\n",
      "[500]\ttraining's rmse: 1168.69\tvalid_1's rmse: 1254.96\n",
      "[1000]\ttraining's rmse: 1019.85\tvalid_1's rmse: 1207.57\n",
      "[1500]\ttraining's rmse: 931.986\tvalid_1's rmse: 1187.47\n",
      "[2000]\ttraining's rmse: 867.876\tvalid_1's rmse: 1174.88\n",
      "[2500]\ttraining's rmse: 818.417\tvalid_1's rmse: 1167.8\n",
      "[3000]\ttraining's rmse: 778.598\tvalid_1's rmse: 1162.95\n",
      "[3500]\ttraining's rmse: 744.37\tvalid_1's rmse: 1158.75\n",
      "[4000]\ttraining's rmse: 715.447\tvalid_1's rmse: 1156.42\n",
      "[4500]\ttraining's rmse: 690.009\tvalid_1's rmse: 1155.07\n",
      "Early stopping, best iteration is:\n",
      "[4533]\ttraining's rmse: 688.419\tvalid_1's rmse: 1154.95\n",
      "fold 1\n",
      "Training until validation scores don't improve for 200 rounds.\n",
      "[500]\ttraining's rmse: 1174.5\tvalid_1's rmse: 1287.39\n",
      "[1000]\ttraining's rmse: 1032.19\tvalid_1's rmse: 1237.88\n",
      "[1500]\ttraining's rmse: 945.807\tvalid_1's rmse: 1213.27\n",
      "[2000]\ttraining's rmse: 882.496\tvalid_1's rmse: 1200.1\n",
      "[2500]\ttraining's rmse: 834.105\tvalid_1's rmse: 1192.23\n",
      "[3000]\ttraining's rmse: 794.229\tvalid_1's rmse: 1186.19\n",
      "[3500]\ttraining's rmse: 761.326\tvalid_1's rmse: 1181.59\n",
      "[4000]\ttraining's rmse: 732.038\tvalid_1's rmse: 1177.97\n",
      "[4500]\ttraining's rmse: 706.597\tvalid_1's rmse: 1175.14\n",
      "[5000]\ttraining's rmse: 684.442\tvalid_1's rmse: 1173.4\n",
      "[5500]\ttraining's rmse: 663.436\tvalid_1's rmse: 1172.15\n",
      "[6000]\ttraining's rmse: 645.095\tvalid_1's rmse: 1171.63\n",
      "[6500]\ttraining's rmse: 628.075\tvalid_1's rmse: 1170.5\n",
      "Early stopping, best iteration is:\n",
      "[6616]\ttraining's rmse: 624.164\tvalid_1's rmse: 1170.32\n",
      "fold 2\n",
      "Training until validation scores don't improve for 200 rounds.\n",
      "[500]\ttraining's rmse: 1154.88\tvalid_1's rmse: 1396.26\n",
      "[1000]\ttraining's rmse: 1008.94\tvalid_1's rmse: 1365.88\n",
      "[1500]\ttraining's rmse: 923.763\tvalid_1's rmse: 1356.28\n",
      "[2000]\ttraining's rmse: 861.937\tvalid_1's rmse: 1345.61\n",
      "[2500]\ttraining's rmse: 814.097\tvalid_1's rmse: 1339.52\n",
      "[3000]\ttraining's rmse: 775.998\tvalid_1's rmse: 1334.87\n",
      "[3500]\ttraining's rmse: 744.131\tvalid_1's rmse: 1331.5\n",
      "[4000]\ttraining's rmse: 716.007\tvalid_1's rmse: 1329.09\n",
      "[4500]\ttraining's rmse: 691.708\tvalid_1's rmse: 1326.99\n",
      "Early stopping, best iteration is:\n",
      "[4694]\ttraining's rmse: 683.236\tvalid_1's rmse: 1326.39\n",
      "fold 3\n",
      "Training until validation scores don't improve for 200 rounds.\n",
      "[500]\ttraining's rmse: 1124.52\tvalid_1's rmse: 1489.1\n",
      "[1000]\ttraining's rmse: 984.224\tvalid_1's rmse: 1440.55\n",
      "[1500]\ttraining's rmse: 903.768\tvalid_1's rmse: 1418.98\n",
      "[2000]\ttraining's rmse: 845.816\tvalid_1's rmse: 1406.99\n",
      "[2500]\ttraining's rmse: 801.502\tvalid_1's rmse: 1399.48\n",
      "[3000]\ttraining's rmse: 765.015\tvalid_1's rmse: 1393.25\n",
      "[3500]\ttraining's rmse: 734.727\tvalid_1's rmse: 1388.76\n",
      "[4000]\ttraining's rmse: 708.334\tvalid_1's rmse: 1386.01\n",
      "[4500]\ttraining's rmse: 684.763\tvalid_1's rmse: 1383.86\n",
      "[5000]\ttraining's rmse: 663.89\tvalid_1's rmse: 1382.29\n",
      "[5500]\ttraining's rmse: 645.046\tvalid_1's rmse: 1381.2\n",
      "[6000]\ttraining's rmse: 628.176\tvalid_1's rmse: 1379.61\n",
      "Early stopping, best iteration is:\n",
      "[6291]\ttraining's rmse: 618.782\tvalid_1's rmse: 1379.12\n",
      "fold 4\n",
      "Training until validation scores don't improve for 200 rounds.\n",
      "[500]\ttraining's rmse: 1158.08\tvalid_1's rmse: 1337.42\n",
      "[1000]\ttraining's rmse: 1013.32\tvalid_1's rmse: 1289.13\n",
      "[1500]\ttraining's rmse: 927.495\tvalid_1's rmse: 1266.53\n",
      "[2000]\ttraining's rmse: 865.739\tvalid_1's rmse: 1254.4\n",
      "[2500]\ttraining's rmse: 817.995\tvalid_1's rmse: 1247.08\n",
      "[3000]\ttraining's rmse: 779.074\tvalid_1's rmse: 1242.24\n",
      "[3500]\ttraining's rmse: 746.155\tvalid_1's rmse: 1240.75\n",
      "Early stopping, best iteration is:\n",
      "[3646]\ttraining's rmse: 737.599\tvalid_1's rmse: 1240.09\n",
      "CV Score: 0.88656 \n"
     ]
    }
   ],
   "source": [
    "folds = KFold(n_splits=5, shuffle=True, random_state=2333)\n",
    "\n",
    "oof_lgb = np.zeros(len(train))\n",
    "predictions_lgb = np.zeros(len(test))\n",
    "feature_importance_df = pd.DataFrame()\n",
    "\n",
    "for fold_, (trn_idx, val_idx) in enumerate(folds.split(train.values, target.values)):\n",
    "    print(\"fold {}\".format(fold_))\n",
    "    trn_data = lgb.Dataset(train.iloc[trn_idx], label=target.iloc[trn_idx])# categorical_feature=categorical_feats)\n",
    "    val_data = lgb.Dataset(train.iloc[val_idx], label=target.iloc[val_idx])#, categorical_feature=categorical_feats)\n",
    "\n",
    "    num_round = 10000\n",
    "    clf = lgb.train(params, trn_data, num_round, valid_sets = [trn_data, val_data], verbose_eval=500, early_stopping_rounds = 200)\n",
    "    \n",
    "    oof_lgb[val_idx] = clf.predict(train.iloc[val_idx], num_iteration=clf.best_iteration)\n",
    "    \n",
    "    fold_importance_df = pd.DataFrame()\n",
    "    fold_importance_df[\"feature\"] = features\n",
    "    fold_importance_df[\"importance\"] = clf.feature_importance()\n",
    "    fold_importance_df[\"fold\"] = fold_ + 1\n",
    "    feature_importance_df = pd.concat([feature_importance_df, fold_importance_df], axis=0)\n",
    "    \n",
    "    predictions_lgb += clf.predict(test, num_iteration=clf.best_iteration) / folds.n_splits\n",
    "    \n",
    "print(\"CV Score: {:<8.5f}\".format(r2_score(target, oof_lgb)))"
   ]
  },
  {
   "cell_type": "code",
   "execution_count": 41,
   "metadata": {},
   "outputs": [
    {
     "data": {
      "image/png": "[encoded data removed]",
      "text/plain": [
       "<Figure size 1008x2880 with 1 Axes>"
      ]
     },
     "metadata": {
      "needs_background": "light"
     },
     "output_type": "display_data"
    }
   ],
   "source": [
    "cols = (feature_importance_df[[\"feature\", \"importance\"]]\n",
    "        .groupby(\"feature\")\n",
    "        .mean()\n",
    "        .sort_values(by=\"importance\", ascending=False)[:1000].index)\n",
    "\n",
    "best_features = feature_importance_df.loc[feature_importance_df.feature.isin(cols)]\n",
    "\n",
    "plt.figure(figsize=(14,40))\n",
    "sns.barplot(x=\"importance\",\n",
    "            y=\"feature\",\n",
    "            data=best_features.sort_values(by=\"importance\",\n",
    "                                           ascending=False))\n",
    "plt.title('LightGBM Features (avg over folds)')\n",
    "plt.tight_layout()"
   ]
  },
  {
   "cell_type": "code",
   "execution_count": 42,
   "metadata": {},
   "outputs": [],
   "source": [
    "from sklearn.metrics import r2_score\n",
    "def online_score(pred):\n",
    "    print(\"预测结果最大值：{},预测结果最小值：{}\".format(pred.max(),pred.min()))\n",
    "    # a榜测分\n",
    "    conmbine1 = pd.read_csv(\"./label.csv\",engine = \"python\")#,header=None)\n",
    "    score1 = r2_score(pred, conmbine1)\n",
    "    print(score1)\n",
    "    return score1\n",
    "#     # b榜测分\n",
    "#     conmbine3 = pd.read_csv(\"D:/城市-房产租金预测/best_result/sub_b_9194.csv\",engine = \"python\",header=None)\n",
    "#     score3= r2_score(pred, conmbine3)\n",
    "#     print(\"对比919分数:{}\".format(score3))"
   ]
  },
  {
   "cell_type": "code",
   "execution_count": 43,
   "metadata": {},
   "outputs": [],
   "source": [
    "# predictions_lgb = np.expm1(predictions_lgb)"
   ]
  },
  {
   "cell_type": "code",
   "execution_count": 44,
   "metadata": {},
   "outputs": [
    {
     "name": "stdout",
     "output_type": "stream",
     "text": [
      "预测结果最大值：18181.473394218847,预测结果最小值：1179.6343209811814\n",
      "0.9442224332866131\n"
     ]
    },
    {
     "data": {
      "text/plain": [
       "0.9442224332866131"
      ]
     },
     "execution_count": 44,
     "metadata": {},
     "output_type": "execute_result"
    }
   ],
   "source": [
    "online_score(predictions_lgb)"
   ]
  },
  {
   "cell_type": "markdown",
   "metadata": {},
   "source": [
    "### xgboost"
   ]
  },
  {
   "cell_type": "code",
   "execution_count": 54,
   "metadata": {
    "scrolled": true
   },
   "outputs": [
    {
     "ename": "XGBoostLibraryNotFound",
     "evalue": "Cannot find XGBoost Library in the candidate path, did you install compilers and run build.sh in root path?\nList of candidates:\nE:\\anaconda_install\\envs\\AI\\Lib\\site-packages\\xgboost\\xgboost.dll\nE:\\anaconda_install\\envs\\AI\\Lib\\site-packages\\xgboost\\../../lib/xgboost.dll\nE:\\anaconda_install\\envs\\AI\\Lib\\site-packages\\xgboost\\./lib/xgboost.dll\nE:\\anaconda_install\\xgboost\\xgboost.dll\nE:\\anaconda_install\\envs\\AI\\Lib\\site-packages\\xgboost\\../../windows/x64/Release/xgboost.dll\nE:\\anaconda_install\\envs\\AI\\Lib\\site-packages\\xgboost\\./windows/x64/Release/xgboost.dll",
     "output_type": "error",
     "traceback": [
      "\u001b[1;31m---------------------------------------------------------------------------\u001b[0m",
      "\u001b[1;31mXGBoostLibraryNotFound\u001b[0m                    Traceback (most recent call last)",
      "\u001b[1;32m<ipython-input-54-8a6e7da3ad36>\u001b[0m in \u001b[0;36m<module>\u001b[1;34m()\u001b[0m\n\u001b[1;32m----> 1\u001b[1;33m \u001b[1;32mfrom\u001b[0m \u001b[0mxgboost\u001b[0m \u001b[1;32mimport\u001b[0m \u001b[0mXGBClassifier\u001b[0m\u001b[1;33m\u001b[0m\u001b[0m\n\u001b[0m\u001b[0;32m      2\u001b[0m xgb_model = XGBClassifier(\n\u001b[0;32m      3\u001b[0m  \u001b[0mlearning_rate\u001b[0m \u001b[1;33m=\u001b[0m\u001b[1;36m0.05\u001b[0m\u001b[1;33m,\u001b[0m\u001b[1;33m\u001b[0m\u001b[0m\n\u001b[0;32m      4\u001b[0m  \u001b[0mn_estimators\u001b[0m\u001b[1;33m=\u001b[0m\u001b[1;36m1000\u001b[0m\u001b[1;33m,\u001b[0m\u001b[1;33m\u001b[0m\u001b[0m\n\u001b[0;32m      5\u001b[0m  \u001b[0mmax_depth\u001b[0m\u001b[1;33m=\u001b[0m\u001b[1;36m5\u001b[0m\u001b[1;33m,\u001b[0m\u001b[1;33m\u001b[0m\u001b[0m\n",
      "\u001b[1;32mE:\\anaconda_install\\envs\\AI\\Lib\\site-packages\\xgboost\\__init__.py\u001b[0m in \u001b[0;36m<module>\u001b[1;34m()\u001b[0m\n\u001b[0;32m      9\u001b[0m \u001b[1;32mimport\u001b[0m \u001b[0mos\u001b[0m\u001b[1;33m\u001b[0m\u001b[0m\n\u001b[0;32m     10\u001b[0m \u001b[1;33m\u001b[0m\u001b[0m\n\u001b[1;32m---> 11\u001b[1;33m \u001b[1;32mfrom\u001b[0m \u001b[1;33m.\u001b[0m\u001b[0mcore\u001b[0m \u001b[1;32mimport\u001b[0m \u001b[0mDMatrix\u001b[0m\u001b[1;33m,\u001b[0m \u001b[0mBooster\u001b[0m\u001b[1;33m\u001b[0m\u001b[0m\n\u001b[0m\u001b[0;32m     12\u001b[0m \u001b[1;32mfrom\u001b[0m \u001b[1;33m.\u001b[0m\u001b[0mtraining\u001b[0m \u001b[1;32mimport\u001b[0m \u001b[0mtrain\u001b[0m\u001b[1;33m,\u001b[0m \u001b[0mcv\u001b[0m\u001b[1;33m\u001b[0m\u001b[0m\n\u001b[0;32m     13\u001b[0m \u001b[1;32mfrom\u001b[0m \u001b[1;33m.\u001b[0m \u001b[1;32mimport\u001b[0m \u001b[0mrabit\u001b[0m                   \u001b[1;31m# noqa\u001b[0m\u001b[1;33m\u001b[0m\u001b[0m\n",
      "\u001b[1;32mE:\\anaconda_install\\envs\\AI\\Lib\\site-packages\\xgboost\\core.py\u001b[0m in \u001b[0;36m<module>\u001b[1;34m()\u001b[0m\n\u001b[0;32m    159\u001b[0m \u001b[1;33m\u001b[0m\u001b[0m\n\u001b[0;32m    160\u001b[0m \u001b[1;31m# load the XGBoost library globally\u001b[0m\u001b[1;33m\u001b[0m\u001b[1;33m\u001b[0m\u001b[0m\n\u001b[1;32m--> 161\u001b[1;33m \u001b[0m_LIB\u001b[0m \u001b[1;33m=\u001b[0m \u001b[0m_load_lib\u001b[0m\u001b[1;33m(\u001b[0m\u001b[1;33m)\u001b[0m\u001b[1;33m\u001b[0m\u001b[0m\n\u001b[0m\u001b[0;32m    162\u001b[0m \u001b[1;33m\u001b[0m\u001b[0m\n\u001b[0;32m    163\u001b[0m \u001b[1;33m\u001b[0m\u001b[0m\n",
      "\u001b[1;32mE:\\anaconda_install\\envs\\AI\\Lib\\site-packages\\xgboost\\core.py\u001b[0m in \u001b[0;36m_load_lib\u001b[1;34m()\u001b[0m\n\u001b[0;32m    121\u001b[0m \u001b[1;32mdef\u001b[0m \u001b[0m_load_lib\u001b[0m\u001b[1;33m(\u001b[0m\u001b[1;33m)\u001b[0m\u001b[1;33m:\u001b[0m\u001b[1;33m\u001b[0m\u001b[0m\n\u001b[0;32m    122\u001b[0m     \u001b[1;34m\"\"\"Load xgboost Library.\"\"\"\u001b[0m\u001b[1;33m\u001b[0m\u001b[0m\n\u001b[1;32m--> 123\u001b[1;33m     \u001b[0mlib_paths\u001b[0m \u001b[1;33m=\u001b[0m \u001b[0mfind_lib_path\u001b[0m\u001b[1;33m(\u001b[0m\u001b[1;33m)\u001b[0m\u001b[1;33m\u001b[0m\u001b[0m\n\u001b[0m\u001b[0;32m    124\u001b[0m     \u001b[1;32mif\u001b[0m \u001b[1;32mnot\u001b[0m \u001b[0mlib_paths\u001b[0m\u001b[1;33m:\u001b[0m\u001b[1;33m\u001b[0m\u001b[0m\n\u001b[0;32m    125\u001b[0m         \u001b[1;32mreturn\u001b[0m \u001b[1;32mNone\u001b[0m\u001b[1;33m\u001b[0m\u001b[0m\n",
      "\u001b[1;32mE:\\anaconda_install\\envs\\AI\\Lib\\site-packages\\xgboost\\libpath.py\u001b[0m in \u001b[0;36mfind_lib_path\u001b[1;34m()\u001b[0m\n\u001b[0;32m     46\u001b[0m             \u001b[1;34m'Cannot find XGBoost Library in the candidate path, '\u001b[0m \u001b[1;33m+\u001b[0m\u001b[1;33m\u001b[0m\u001b[0m\n\u001b[0;32m     47\u001b[0m             \u001b[1;34m'did you install compilers and run build.sh in root path?\\n'\u001b[0m\u001b[1;33m\u001b[0m\u001b[0m\n\u001b[1;32m---> 48\u001b[1;33m             'List of candidates:\\n' + ('\\n'.join(dll_path)))\n\u001b[0m\u001b[0;32m     49\u001b[0m     \u001b[1;32mreturn\u001b[0m \u001b[0mlib_path\u001b[0m\u001b[1;33m\u001b[0m\u001b[0m\n",
      "\u001b[1;31mXGBoostLibraryNotFound\u001b[0m: Cannot find XGBoost Library in the candidate path, did you install compilers and run build.sh in root path?\nList of candidates:\nE:\\anaconda_install\\envs\\AI\\Lib\\site-packages\\xgboost\\xgboost.dll\nE:\\anaconda_install\\envs\\AI\\Lib\\site-packages\\xgboost\\../../lib/xgboost.dll\nE:\\anaconda_install\\envs\\AI\\Lib\\site-packages\\xgboost\\./lib/xgboost.dll\nE:\\anaconda_install\\xgboost\\xgboost.dll\nE:\\anaconda_install\\envs\\AI\\Lib\\site-packages\\xgboost\\../../windows/x64/Release/xgboost.dll\nE:\\anaconda_install\\envs\\AI\\Lib\\site-packages\\xgboost\\./windows/x64/Release/xgboost.dll"
     ]
    }
   ],
   "source": [
    "from xgboost import XGBClassifier\n",
    "xgb_model = XGBClassifier(\n",
    " learning_rate =0.05,\n",
    " n_estimators=1000,\n",
    " max_depth=5,\n",
    " min_child_weight=2,\n",
    " gamma=0,\n",
    " subsample=0.8,\n",
    " colsample_bytree=0.8,\n",
    " nthread=3,\n",
    " seed=2019)"
   ]
  },
  {
   "cell_type": "code",
   "execution_count": null,
   "metadata": {},
   "outputs": [],
   "source": [
    "xgb_model.fit(x_train,y_train)\n",
    "xgb_model.score(x_test,y_test)"
   ]
  },
  {
   "cell_type": "markdown",
   "metadata": {},
   "source": [
    "- 随机森林"
   ]
  },
  {
   "cell_type": "code",
   "execution_count": 56,
   "metadata": {
    "scrolled": true
   },
   "outputs": [
    {
     "ename": "ValueError",
     "evalue": "could not convert string to float: 'BK00020'",
     "output_type": "error",
     "traceback": [
      "\u001b[1;31m---------------------------------------------------------------------------\u001b[0m",
      "\u001b[1;31mValueError\u001b[0m                                Traceback (most recent call last)",
      "\u001b[1;32m<ipython-input-56-f4056ab8585a>\u001b[0m in \u001b[0;36m<module>\u001b[1;34m()\u001b[0m\n\u001b[0;32m      1\u001b[0m \u001b[1;32mfrom\u001b[0m \u001b[0msklearn\u001b[0m\u001b[1;33m.\u001b[0m\u001b[0mtree\u001b[0m \u001b[1;32mimport\u001b[0m \u001b[0mDecisionTreeClassifier\u001b[0m\u001b[1;33m\u001b[0m\u001b[0m\n\u001b[0;32m      2\u001b[0m \u001b[0mDTC_model\u001b[0m \u001b[1;33m=\u001b[0m \u001b[0mDecisionTreeClassifier\u001b[0m\u001b[1;33m(\u001b[0m\u001b[1;33m)\u001b[0m\u001b[1;33m\u001b[0m\u001b[0m\n\u001b[1;32m----> 3\u001b[1;33m \u001b[0mDTC_model\u001b[0m\u001b[1;33m.\u001b[0m\u001b[0mfit\u001b[0m\u001b[1;33m(\u001b[0m\u001b[0mtrain\u001b[0m\u001b[1;33m,\u001b[0m\u001b[0mtarget\u001b[0m\u001b[1;33m)\u001b[0m\u001b[1;33m\u001b[0m\u001b[0m\n\u001b[0m",
      "\u001b[1;32mE:\\anaconda_install\\lib\\site-packages\\sklearn\\tree\\tree.py\u001b[0m in \u001b[0;36mfit\u001b[1;34m(self, X, y, sample_weight, check_input, X_idx_sorted)\u001b[0m\n\u001b[0;32m    788\u001b[0m             \u001b[0msample_weight\u001b[0m\u001b[1;33m=\u001b[0m\u001b[0msample_weight\u001b[0m\u001b[1;33m,\u001b[0m\u001b[1;33m\u001b[0m\u001b[0m\n\u001b[0;32m    789\u001b[0m             \u001b[0mcheck_input\u001b[0m\u001b[1;33m=\u001b[0m\u001b[0mcheck_input\u001b[0m\u001b[1;33m,\u001b[0m\u001b[1;33m\u001b[0m\u001b[0m\n\u001b[1;32m--> 790\u001b[1;33m             X_idx_sorted=X_idx_sorted)\n\u001b[0m\u001b[0;32m    791\u001b[0m         \u001b[1;32mreturn\u001b[0m \u001b[0mself\u001b[0m\u001b[1;33m\u001b[0m\u001b[0m\n\u001b[0;32m    792\u001b[0m \u001b[1;33m\u001b[0m\u001b[0m\n",
      "\u001b[1;32mE:\\anaconda_install\\lib\\site-packages\\sklearn\\tree\\tree.py\u001b[0m in \u001b[0;36mfit\u001b[1;34m(self, X, y, sample_weight, check_input, X_idx_sorted)\u001b[0m\n\u001b[0;32m    114\u001b[0m         \u001b[0mrandom_state\u001b[0m \u001b[1;33m=\u001b[0m \u001b[0mcheck_random_state\u001b[0m\u001b[1;33m(\u001b[0m\u001b[0mself\u001b[0m\u001b[1;33m.\u001b[0m\u001b[0mrandom_state\u001b[0m\u001b[1;33m)\u001b[0m\u001b[1;33m\u001b[0m\u001b[0m\n\u001b[0;32m    115\u001b[0m         \u001b[1;32mif\u001b[0m \u001b[0mcheck_input\u001b[0m\u001b[1;33m:\u001b[0m\u001b[1;33m\u001b[0m\u001b[0m\n\u001b[1;32m--> 116\u001b[1;33m             \u001b[0mX\u001b[0m \u001b[1;33m=\u001b[0m \u001b[0mcheck_array\u001b[0m\u001b[1;33m(\u001b[0m\u001b[0mX\u001b[0m\u001b[1;33m,\u001b[0m \u001b[0mdtype\u001b[0m\u001b[1;33m=\u001b[0m\u001b[0mDTYPE\u001b[0m\u001b[1;33m,\u001b[0m \u001b[0maccept_sparse\u001b[0m\u001b[1;33m=\u001b[0m\u001b[1;34m\"csc\"\u001b[0m\u001b[1;33m)\u001b[0m\u001b[1;33m\u001b[0m\u001b[0m\n\u001b[0m\u001b[0;32m    117\u001b[0m             \u001b[0my\u001b[0m \u001b[1;33m=\u001b[0m \u001b[0mcheck_array\u001b[0m\u001b[1;33m(\u001b[0m\u001b[0my\u001b[0m\u001b[1;33m,\u001b[0m \u001b[0mensure_2d\u001b[0m\u001b[1;33m=\u001b[0m\u001b[1;32mFalse\u001b[0m\u001b[1;33m,\u001b[0m \u001b[0mdtype\u001b[0m\u001b[1;33m=\u001b[0m\u001b[1;32mNone\u001b[0m\u001b[1;33m)\u001b[0m\u001b[1;33m\u001b[0m\u001b[0m\n\u001b[0;32m    118\u001b[0m             \u001b[1;32mif\u001b[0m \u001b[0missparse\u001b[0m\u001b[1;33m(\u001b[0m\u001b[0mX\u001b[0m\u001b[1;33m)\u001b[0m\u001b[1;33m:\u001b[0m\u001b[1;33m\u001b[0m\u001b[0m\n",
      "\u001b[1;32mE:\\anaconda_install\\lib\\site-packages\\sklearn\\utils\\validation.py\u001b[0m in \u001b[0;36mcheck_array\u001b[1;34m(array, accept_sparse, dtype, order, copy, force_all_finite, ensure_2d, allow_nd, ensure_min_samples, ensure_min_features, warn_on_dtype, estimator)\u001b[0m\n\u001b[0;32m    431\u001b[0m                                       force_all_finite)\n\u001b[0;32m    432\u001b[0m     \u001b[1;32melse\u001b[0m\u001b[1;33m:\u001b[0m\u001b[1;33m\u001b[0m\u001b[0m\n\u001b[1;32m--> 433\u001b[1;33m         \u001b[0marray\u001b[0m \u001b[1;33m=\u001b[0m \u001b[0mnp\u001b[0m\u001b[1;33m.\u001b[0m\u001b[0marray\u001b[0m\u001b[1;33m(\u001b[0m\u001b[0marray\u001b[0m\u001b[1;33m,\u001b[0m \u001b[0mdtype\u001b[0m\u001b[1;33m=\u001b[0m\u001b[0mdtype\u001b[0m\u001b[1;33m,\u001b[0m \u001b[0morder\u001b[0m\u001b[1;33m=\u001b[0m\u001b[0morder\u001b[0m\u001b[1;33m,\u001b[0m \u001b[0mcopy\u001b[0m\u001b[1;33m=\u001b[0m\u001b[0mcopy\u001b[0m\u001b[1;33m)\u001b[0m\u001b[1;33m\u001b[0m\u001b[0m\n\u001b[0m\u001b[0;32m    434\u001b[0m \u001b[1;33m\u001b[0m\u001b[0m\n\u001b[0;32m    435\u001b[0m         \u001b[1;32mif\u001b[0m \u001b[0mensure_2d\u001b[0m\u001b[1;33m:\u001b[0m\u001b[1;33m\u001b[0m\u001b[0m\n",
      "\u001b[1;31mValueError\u001b[0m: could not convert string to float: 'BK00020'"
     ]
    }
   ],
   "source": [
    "from sklearn.tree import DecisionTreeClassifier\n",
    "DTC_model = DecisionTreeClassifier()\n",
    "DTC_model.fit(train,target)"
   ]
  },
  {
   "cell_type": "markdown",
   "metadata": {},
   "source": [
    "- catboost"
   ]
  },
  {
   "cell_type": "code",
   "execution_count": null,
   "metadata": {},
   "outputs": [],
   "source": [
    "import catboost as cat\n",
    "ctb_params = {\n",
    "\n",
    "    'iterations': 700,\n",
    "    'learning_rate': 0.02,\n",
    "    'depth': 12,\n",
    "    'eval_metric': 'RMSE',\n",
    "    'random_seed' : 23,\n",
    "    'bagging_temperature': 0.2,\n",
    "    'od_type': 'Iter',\n",
    "    'metric_period':  75,\n",
    "    'od_wait': 100\n",
    "    }\n",
    "\n",
    "folds = KFold(n_splits=5, shuffle=True, random_state=2333)\n",
    "\n",
    "oof_cat = np.zeros(len(train))\n",
    "predictions_cat = np.zeros(len(test))\n",
    "feature_importance_df = pd.DataFrame()\n",
    "\n",
    "for fold_, (trn_idx, val_idx) in enumerate(folds.split(train.values, target.values)):\n",
    "    print(\"fold {}\".format(fold_))\n",
    "#     trn_data = lgb.Dataset(train.iloc[trn_idx], label=target.iloc[trn_idx])\n",
    "#     val_data = lgb.Dataset(train.iloc[val_idx], label=target.iloc[val_idx])\n",
    "#     trn_data = lgb.Dataset(train.iloc[trn_idx], label=target.iloc[trn_idx], categorical_feature=categorical_feats)\n",
    "#     val_data = lgb.Dataset(train.iloc[val_idx], label=target.iloc[val_idx], categorical_feature=categorical_feats)\n",
    "\n",
    "#     num_round = 10000\n",
    "    clf = cat.CatBoostRegressor(**ctb_params)\n",
    "    clf.fit(train.iloc[trn_idx], target.iloc[trn_idx], early_stopping_rounds=200, verbose_eval=3000,\n",
    "                use_best_model=True,eval_set=(train.iloc[val_idx], target.iloc[val_idx]))\n",
    "    oof_cat[val_idx] = clf.predict(train.iloc[val_idx])\n",
    "    predictions_cat += clf.predict(test) / folds.n_splits\n",
    "    predictions_cat += clf.predict(test, num_iteration=clf.best_iteration) / folds.n_splits\n",
    "    \n",
    "print(\"CV Score: {:<8.5f}\".format(r2_score(target, oof_cat)))"
   ]
  },
  {
   "cell_type": "markdown",
   "metadata": {},
   "source": [
    "- hyperopt"
   ]
  },
  {
   "cell_type": "code",
   "execution_count": null,
   "metadata": {},
   "outputs": [],
   "source": [
    "# https://www.jianshu.com/p/35eed1567463"
   ]
  },
  {
   "cell_type": "markdown",
   "metadata": {},
   "source": [
    "- Gridsearch"
   ]
  },
  {
   "cell_type": "code",
   "execution_count": null,
   "metadata": {},
   "outputs": [],
   "source": [
    "cv_params = {'n_estimators': [20,40,60]}\n",
    "other_params = {'random_state': 2019}\n",
    "\n",
    "model =  RandomForestClassifier(**other_params)\n",
    "optimized_rf = GridSearchCV(estimator=model, param_grid = cv_params,scoring ='roc_auc', cv=5)\n",
    "optimized_rf.fit(x_train, y_train)\n",
    "evalute_result = optimized_rf.cv_results_\n",
    "print('每轮迭代运行结果:{0}'.format(evalute_result))\n",
    "print('参数的最佳取值：{0}'.format(optimized_rf.best_params_))\n",
    "print('最佳模型得分:{0}'.format(optimized_rf.best_score_))\n",
    "print(\"test结果\",optimized_rf.score(x_test, y_test))"
   ]
  },
  {
   "cell_type": "code",
   "execution_count": null,
   "metadata": {},
   "outputs": [],
   "source": [
    "8月2日 下午补充"
   ]
  },
  {
   "cell_type": "markdown",
   "metadata": {},
   "source": [
    "## 总结"
   ]
  }
 ],
 "metadata": {
  "kernelspec": {
   "display_name": "Python 3",
   "language": "python",
   "name": "python3"
  },
  "language_info": {
   "codemirror_mode": {
    "name": "ipython",
    "version": 3
   },
   "file_extension": ".py",
   "mimetype": "text/x-python",
   "name": "python",
   "nbconvert_exporter": "python",
   "pygments_lexer": "ipython3",
   "version": "3.7.0"
  }
 },
 "nbformat": 4,
 "nbformat_minor": 2
}
