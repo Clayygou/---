{
 "cells": [
  {
   "cell_type": "code",
   "execution_count": 1,
   "metadata": {},
   "outputs": [],
   "source": [
    "import sys"
   ]
  },
  {
   "cell_type": "markdown",
   "metadata": {},
   "source": [
    "- 电脑重装问题\n",
    "- 不行就卸载重装"
   ]
  },
  {
   "cell_type": "code",
   "execution_count": 2,
   "metadata": {},
   "outputs": [
    {
     "data": {
      "text/plain": [
       "['',\n",
       " 'F:\\\\AI比赛\\\\DataWhle',\n",
       " 'E:\\\\anaconda_install\\\\python37.zip',\n",
       " 'E:\\\\anaconda_install\\\\DLLs',\n",
       " 'E:\\\\anaconda_install\\\\lib',\n",
       " 'E:\\\\anaconda_install',\n",
       " 'E:\\\\anaconda_install\\\\lib\\\\site-packages',\n",
       " 'E:\\\\anaconda_install\\\\lib\\\\site-packages\\\\win32',\n",
       " 'E:\\\\anaconda_install\\\\lib\\\\site-packages\\\\win32\\\\lib',\n",
       " 'E:\\\\anaconda_install\\\\lib\\\\site-packages\\\\Pythonwin',\n",
       " 'E:\\\\anaconda_install\\\\lib\\\\site-packages\\\\IPython\\\\extensions',\n",
       " 'C:\\\\Users\\\\mzy\\\\.ipython']"
      ]
     },
     "execution_count": 2,
     "metadata": {},
     "output_type": "execute_result"
    }
   ],
   "source": [
    "sys.path"
   ]
  },
  {
   "cell_type": "markdown",
   "metadata": {},
   "source": [
    "- 重新安装之后需要添加路径\n",
    "- 新建的anaconda环境为什么就不行呢？"
   ]
  },
  {
   "cell_type": "code",
   "execution_count": 3,
   "metadata": {},
   "outputs": [],
   "source": [
    "# sys.path.append(\"E:\\\\anaconda_install\\\\envs\\\\AI\")\n",
    "# sys.path.append(\"E:\\\\anaconda_install\\\\envs\\\\AI\\\\Lib\\\\site-packages\")\n",
    "# sys.path.append(\"E:\\\\anaconda_install\\\\xgboost\\\\xgboost.dll\")\n",
    "# sys.path.append(\"E:\\\\anaconda_install\\\\envs\\\\AI\\\\Lib\\\\site-packages\\\\xgboost\")"
   ]
  },
  {
   "cell_type": "code",
   "execution_count": 4,
   "metadata": {},
   "outputs": [],
   "source": [
    "import pandas as pd\n",
    "import numpy as np\n",
    "import matplotlib.pyplot as plt\n",
    "import seaborn as sns\n",
    "import warnings\n",
    "warnings.filterwarnings(\"ignore\")"
   ]
  },
  {
   "cell_type": "code",
   "execution_count": 5,
   "metadata": {},
   "outputs": [],
   "source": [
    "from sklearn.preprocessing import LabelEncoder\n",
    "from sklearn.model_selection import KFold\n",
    "from sklearn.metrics import r2_score\n",
    "import lightgbm as lgb\n",
    "\n",
    "from sklearn.ensemble import RandomForestRegressor,  GradientBoostingRegressor"
   ]
  },
  {
   "cell_type": "code",
   "execution_count": 6,
   "metadata": {},
   "outputs": [],
   "source": [
    "pd.set_option('display.max_columns', None)"
   ]
  },
  {
   "cell_type": "code",
   "execution_count": 7,
   "metadata": {},
   "outputs": [],
   "source": [
    "train_data = pd.read_csv(\"./train_data.csv\")\n",
    "test_data = pd.read_csv(\"./test_a.csv\")"
   ]
  },
  {
   "cell_type": "code",
   "execution_count": 8,
   "metadata": {},
   "outputs": [],
   "source": [
    "train_data = train_data.drop([\"ID\",\"city\"],axis = 1)\n",
    "test_data = test_data.drop([\"ID\",\"city\"],axis = 1)"
   ]
  },
  {
   "cell_type": "code",
   "execution_count": 9,
   "metadata": {},
   "outputs": [],
   "source": [
    "for df in [train_data,test_data]:\n",
    "    df['rentType'][df['rentType']=='--'] = '未知方式'\n",
    "    # 转换object类型数据\n",
    "    columns = ['rentType', 'houseFloor', 'houseToward', 'houseDecoration', 'communityName', 'region', 'plate']\n",
    "    for col in columns:\n",
    "        df[col] = df[col].astype('category')"
   ]
  },
  {
   "cell_type": "code",
   "execution_count": 10,
   "metadata": {},
   "outputs": [],
   "source": [
    "for df in [train_data,test_data]:\n",
    "    tmp = df['buildYear'].copy()\n",
    "    tmp2 = tmp[tmp!='暂无信息'].astype('int')\n",
    "    tmp[tmp=='暂无信息'] = tmp2.mode().iloc[0]\n",
    "    df['buildYear'] = tmp\n",
    "    df['buildYear'] = df['buildYear'].astype('int')\n",
    "    \n",
    "    df['pv'].fillna(df['pv'].mean(),inplace=True)\n",
    "    df['uv'].fillna(df['uv'].mean(),inplace=True)\n",
    "    df['pv'] = df['pv'].astype('int')\n",
    "    df['uv'] = df['uv'].astype('int')\n",
    "    df.drop('communityName',axis=1, inplace=True)"
   ]
  },
  {
   "cell_type": "code",
   "execution_count": 11,
   "metadata": {},
   "outputs": [],
   "source": [
    "for df in [train_data,test_data]:\n",
    "    # 将houseType转化为‘房间数’，‘厅数’，‘卫生间数’\n",
    "    def parseRoom(info, index):\n",
    "        res = int(info[index*2])\n",
    "        return res\n",
    "    df.insert(3,'室',None)\n",
    "    df.insert(4, '厅', None)\n",
    "    df.insert(5, '卫', None)\n",
    "    df['室'] = df['houseType'].apply(parseRoom, index=0)\n",
    "    df['厅'] = df['houseType'].apply(parseRoom, index=1)\n",
    "    df['卫'] = df['houseType'].apply(parseRoom, index=2)\n",
    "    \n",
    "    df['交易月份'] = df['tradeTime'].apply(lambda x: int(x.split('/')[1]))\n",
    "#     df['pv/uv'] = df['pv'] / df['uv']\n",
    "#     df['房间总数'] = df['室'] + df['厅'] + df['卫']\n",
    "    \n",
    "    df.drop('houseType', axis=1, inplace=True)\n",
    "    df.drop('tradeTime', axis=1, inplace=True)"
   ]
  },
  {
   "cell_type": "markdown",
   "metadata": {},
   "source": [
    "### 简单数据清洗"
   ]
  },
  {
   "cell_type": "code",
   "execution_count": 12,
   "metadata": {},
   "outputs": [],
   "source": [
    "train_data = train_data[train_data['area']<=700]\n",
    "train_data = train_data[train_data['tradeMoney']<=100000]"
   ]
  },
  {
   "cell_type": "markdown",
   "metadata": {},
   "source": [
    "### new1 删除离群点"
   ]
  },
  {
   "cell_type": "code",
   "execution_count": 13,
   "metadata": {},
   "outputs": [],
   "source": [
    "train_data = train_data[train_data[\"area\"]<400]\n",
    "train_data = train_data[(train_data[\"area\"]<400)&(train_data[\"tradeMoney\"]<60000)]\n",
    "train_data = train_data.drop(train_data[(train_data['area']<130)&(train_data[\"tradeMoney\"]>40000)].index)\n",
    "train_data = train_data.drop(train_data[(train_data['area']>350)&(train_data[\"tradeMoney\"]<5000)].index)\n",
    "train_data = train_data.drop(train_data[train_data[\"tradeMoney\"]<1].index)\n",
    "train_data = train_data.drop(train_data[train_data[\"area\"]<10].index)"
   ]
  },
  {
   "cell_type": "markdown",
   "metadata": {},
   "source": [
    "### new2 删除test中没有的值"
   ]
  },
  {
   "cell_type": "code",
   "execution_count": 14,
   "metadata": {},
   "outputs": [],
   "source": [
    "train_data = train_data.drop(train_data[train_data['室']==0].index)\n",
    "train_data = train_data.drop(train_data[train_data['室']==7].index)\n",
    "train_data = train_data.drop(train_data[train_data['室']==8].index)\n",
    "train_data = train_data.drop(train_data[train_data['室']==9].index)\n",
    "\n",
    "train_data = train_data.drop(train_data[train_data['厅']==4].index)\n",
    "train_data = train_data.drop(train_data[train_data['厅']==5].index)\n",
    "\n",
    "train_data = train_data.drop(train_data[train_data['卫']==8].index)\n",
    "train_data = train_data.drop(train_data[train_data['卫']==7].index)\n",
    "train_data = train_data.drop(train_data[train_data['卫']==5].index)"
   ]
  },
  {
   "cell_type": "markdown",
   "metadata": {},
   "source": [
    "### new3 删除test中没有的值"
   ]
  },
  {
   "cell_type": "code",
   "execution_count": 15,
   "metadata": {},
   "outputs": [],
   "source": [
    "train_data = train_data.drop(train_data[train_data['region']==\"RG00015\"].index)"
   ]
  },
  {
   "cell_type": "markdown",
   "metadata": {},
   "source": [
    "### new4 删除test中没有的值"
   ]
  },
  {
   "cell_type": "code",
   "execution_count": 16,
   "metadata": {},
   "outputs": [],
   "source": [
    "train_data = train_data.drop(train_data[(train_data[\"plate\"] == \"BK00058\")|(train_data[\"plate\"] == \"BK00032\")].index)"
   ]
  },
  {
   "cell_type": "markdown",
   "metadata": {},
   "source": [
    "### 特征工程"
   ]
  },
  {
   "cell_type": "code",
   "execution_count": 17,
   "metadata": {},
   "outputs": [
    {
     "data": {
      "text/html": [
       "<div>\n",
       "<style scoped>\n",
       "    .dataframe tbody tr th:only-of-type {\n",
       "        vertical-align: middle;\n",
       "    }\n",
       "\n",
       "    .dataframe tbody tr th {\n",
       "        vertical-align: top;\n",
       "    }\n",
       "\n",
       "    .dataframe thead th {\n",
       "        text-align: right;\n",
       "    }\n",
       "</style>\n",
       "<table border=\"1\" class=\"dataframe\">\n",
       "  <thead>\n",
       "    <tr style=\"text-align: right;\">\n",
       "      <th></th>\n",
       "      <th>area</th>\n",
       "      <th>rentType</th>\n",
       "      <th>室</th>\n",
       "      <th>厅</th>\n",
       "      <th>卫</th>\n",
       "      <th>houseFloor</th>\n",
       "      <th>totalFloor</th>\n",
       "      <th>houseToward</th>\n",
       "      <th>houseDecoration</th>\n",
       "      <th>region</th>\n",
       "      <th>plate</th>\n",
       "      <th>buildYear</th>\n",
       "      <th>saleSecHouseNum</th>\n",
       "      <th>subwayStationNum</th>\n",
       "      <th>busStationNum</th>\n",
       "      <th>interSchoolNum</th>\n",
       "      <th>schoolNum</th>\n",
       "      <th>privateSchoolNum</th>\n",
       "      <th>hospitalNum</th>\n",
       "      <th>drugStoreNum</th>\n",
       "      <th>gymNum</th>\n",
       "      <th>bankNum</th>\n",
       "      <th>shopNum</th>\n",
       "      <th>parkNum</th>\n",
       "      <th>mallNum</th>\n",
       "      <th>superMarketNum</th>\n",
       "      <th>totalTradeMoney</th>\n",
       "      <th>totalTradeArea</th>\n",
       "      <th>tradeMeanPrice</th>\n",
       "      <th>tradeSecNum</th>\n",
       "      <th>totalNewTradeMoney</th>\n",
       "      <th>totalNewTradeArea</th>\n",
       "      <th>tradeNewMeanPrice</th>\n",
       "      <th>tradeNewNum</th>\n",
       "      <th>remainNewNum</th>\n",
       "      <th>supplyNewNum</th>\n",
       "      <th>supplyLandNum</th>\n",
       "      <th>supplyLandArea</th>\n",
       "      <th>tradeLandNum</th>\n",
       "      <th>tradeLandArea</th>\n",
       "      <th>landTotalPrice</th>\n",
       "      <th>landMeanPrice</th>\n",
       "      <th>totalWorkers</th>\n",
       "      <th>newWorkers</th>\n",
       "      <th>residentPopulation</th>\n",
       "      <th>pv</th>\n",
       "      <th>uv</th>\n",
       "      <th>lookNum</th>\n",
       "      <th>tradeMoney</th>\n",
       "      <th>交易月份</th>\n",
       "    </tr>\n",
       "  </thead>\n",
       "  <tbody>\n",
       "    <tr>\n",
       "      <th>0</th>\n",
       "      <td>68.06</td>\n",
       "      <td>未知方式</td>\n",
       "      <td>2</td>\n",
       "      <td>1</td>\n",
       "      <td>1</td>\n",
       "      <td>低</td>\n",
       "      <td>16</td>\n",
       "      <td>暂无数据</td>\n",
       "      <td>其他</td>\n",
       "      <td>RG00001</td>\n",
       "      <td>BK00064</td>\n",
       "      <td>1953</td>\n",
       "      <td>0</td>\n",
       "      <td>7</td>\n",
       "      <td>36</td>\n",
       "      <td>0</td>\n",
       "      <td>28</td>\n",
       "      <td>1</td>\n",
       "      <td>1</td>\n",
       "      <td>12</td>\n",
       "      <td>15</td>\n",
       "      <td>16</td>\n",
       "      <td>76</td>\n",
       "      <td>5</td>\n",
       "      <td>3</td>\n",
       "      <td>22</td>\n",
       "      <td>355584000</td>\n",
       "      <td>7411.98</td>\n",
       "      <td>47974.22551</td>\n",
       "      <td>111</td>\n",
       "      <td>810967373</td>\n",
       "      <td>7755</td>\n",
       "      <td>104573.48460</td>\n",
       "      <td>25</td>\n",
       "      <td>264</td>\n",
       "      <td>0</td>\n",
       "      <td>0</td>\n",
       "      <td>0.0</td>\n",
       "      <td>0</td>\n",
       "      <td>0.0</td>\n",
       "      <td>0</td>\n",
       "      <td>0.0000</td>\n",
       "      <td>28248</td>\n",
       "      <td>614</td>\n",
       "      <td>111546</td>\n",
       "      <td>1124</td>\n",
       "      <td>284</td>\n",
       "      <td>0</td>\n",
       "      <td>2000.0</td>\n",
       "      <td>11</td>\n",
       "    </tr>\n",
       "    <tr>\n",
       "      <th>1</th>\n",
       "      <td>125.55</td>\n",
       "      <td>未知方式</td>\n",
       "      <td>3</td>\n",
       "      <td>2</td>\n",
       "      <td>2</td>\n",
       "      <td>中</td>\n",
       "      <td>14</td>\n",
       "      <td>暂无数据</td>\n",
       "      <td>简装</td>\n",
       "      <td>RG00002</td>\n",
       "      <td>BK00049</td>\n",
       "      <td>2007</td>\n",
       "      <td>0</td>\n",
       "      <td>2</td>\n",
       "      <td>184</td>\n",
       "      <td>0</td>\n",
       "      <td>26</td>\n",
       "      <td>0</td>\n",
       "      <td>1</td>\n",
       "      <td>27</td>\n",
       "      <td>5</td>\n",
       "      <td>16</td>\n",
       "      <td>163</td>\n",
       "      <td>6</td>\n",
       "      <td>4</td>\n",
       "      <td>51</td>\n",
       "      <td>5000000</td>\n",
       "      <td>122.83</td>\n",
       "      <td>40706.66775</td>\n",
       "      <td>2</td>\n",
       "      <td>9668955</td>\n",
       "      <td>286</td>\n",
       "      <td>33807.53497</td>\n",
       "      <td>2</td>\n",
       "      <td>4</td>\n",
       "      <td>0</td>\n",
       "      <td>0</td>\n",
       "      <td>0.0</td>\n",
       "      <td>0</td>\n",
       "      <td>0.0</td>\n",
       "      <td>0</td>\n",
       "      <td>0.0000</td>\n",
       "      <td>14823</td>\n",
       "      <td>148</td>\n",
       "      <td>157552</td>\n",
       "      <td>701</td>\n",
       "      <td>22</td>\n",
       "      <td>1</td>\n",
       "      <td>2000.0</td>\n",
       "      <td>12</td>\n",
       "    </tr>\n",
       "    <tr>\n",
       "      <th>2</th>\n",
       "      <td>132.00</td>\n",
       "      <td>未知方式</td>\n",
       "      <td>3</td>\n",
       "      <td>2</td>\n",
       "      <td>2</td>\n",
       "      <td>低</td>\n",
       "      <td>32</td>\n",
       "      <td>暂无数据</td>\n",
       "      <td>其他</td>\n",
       "      <td>RG00002</td>\n",
       "      <td>BK00050</td>\n",
       "      <td>1994</td>\n",
       "      <td>3</td>\n",
       "      <td>6</td>\n",
       "      <td>60</td>\n",
       "      <td>1</td>\n",
       "      <td>43</td>\n",
       "      <td>2</td>\n",
       "      <td>3</td>\n",
       "      <td>24</td>\n",
       "      <td>35</td>\n",
       "      <td>37</td>\n",
       "      <td>85</td>\n",
       "      <td>6</td>\n",
       "      <td>4</td>\n",
       "      <td>30</td>\n",
       "      <td>1687284798</td>\n",
       "      <td>49071.30</td>\n",
       "      <td>34384.35089</td>\n",
       "      <td>555</td>\n",
       "      <td>344894466</td>\n",
       "      <td>3143</td>\n",
       "      <td>109734.16040</td>\n",
       "      <td>11</td>\n",
       "      <td>159</td>\n",
       "      <td>126</td>\n",
       "      <td>0</td>\n",
       "      <td>0.0</td>\n",
       "      <td>0</td>\n",
       "      <td>0.0</td>\n",
       "      <td>0</td>\n",
       "      <td>0.0000</td>\n",
       "      <td>77645</td>\n",
       "      <td>520</td>\n",
       "      <td>131744</td>\n",
       "      <td>57</td>\n",
       "      <td>20</td>\n",
       "      <td>1</td>\n",
       "      <td>16000.0</td>\n",
       "      <td>12</td>\n",
       "    </tr>\n",
       "    <tr>\n",
       "      <th>3</th>\n",
       "      <td>57.00</td>\n",
       "      <td>未知方式</td>\n",
       "      <td>1</td>\n",
       "      <td>1</td>\n",
       "      <td>1</td>\n",
       "      <td>中</td>\n",
       "      <td>17</td>\n",
       "      <td>暂无数据</td>\n",
       "      <td>精装</td>\n",
       "      <td>RG00002</td>\n",
       "      <td>BK00051</td>\n",
       "      <td>1994</td>\n",
       "      <td>0</td>\n",
       "      <td>3</td>\n",
       "      <td>364</td>\n",
       "      <td>2</td>\n",
       "      <td>60</td>\n",
       "      <td>1</td>\n",
       "      <td>8</td>\n",
       "      <td>83</td>\n",
       "      <td>30</td>\n",
       "      <td>47</td>\n",
       "      <td>358</td>\n",
       "      <td>3</td>\n",
       "      <td>1</td>\n",
       "      <td>131</td>\n",
       "      <td>468272888</td>\n",
       "      <td>22809.70</td>\n",
       "      <td>20529.55050</td>\n",
       "      <td>260</td>\n",
       "      <td>196307819</td>\n",
       "      <td>6418</td>\n",
       "      <td>30587.07058</td>\n",
       "      <td>58</td>\n",
       "      <td>730</td>\n",
       "      <td>0</td>\n",
       "      <td>1</td>\n",
       "      <td>108037.8</td>\n",
       "      <td>1</td>\n",
       "      <td>108037.8</td>\n",
       "      <td>332760000</td>\n",
       "      <td>3080.0331</td>\n",
       "      <td>8750</td>\n",
       "      <td>1665</td>\n",
       "      <td>253337</td>\n",
       "      <td>888</td>\n",
       "      <td>279</td>\n",
       "      <td>9</td>\n",
       "      <td>1600.0</td>\n",
       "      <td>12</td>\n",
       "    </tr>\n",
       "    <tr>\n",
       "      <th>4</th>\n",
       "      <td>129.00</td>\n",
       "      <td>未知方式</td>\n",
       "      <td>3</td>\n",
       "      <td>2</td>\n",
       "      <td>3</td>\n",
       "      <td>低</td>\n",
       "      <td>2</td>\n",
       "      <td>暂无数据</td>\n",
       "      <td>毛坯</td>\n",
       "      <td>RG00003</td>\n",
       "      <td>BK00044</td>\n",
       "      <td>1994</td>\n",
       "      <td>1</td>\n",
       "      <td>0</td>\n",
       "      <td>141</td>\n",
       "      <td>0</td>\n",
       "      <td>15</td>\n",
       "      <td>0</td>\n",
       "      <td>0</td>\n",
       "      <td>21</td>\n",
       "      <td>5</td>\n",
       "      <td>10</td>\n",
       "      <td>100</td>\n",
       "      <td>5</td>\n",
       "      <td>2</td>\n",
       "      <td>34</td>\n",
       "      <td>108851470</td>\n",
       "      <td>4463.62</td>\n",
       "      <td>24386.36577</td>\n",
       "      <td>38</td>\n",
       "      <td>286722058</td>\n",
       "      <td>5608</td>\n",
       "      <td>51127.32846</td>\n",
       "      <td>34</td>\n",
       "      <td>851</td>\n",
       "      <td>216</td>\n",
       "      <td>0</td>\n",
       "      <td>0.0</td>\n",
       "      <td>0</td>\n",
       "      <td>0.0</td>\n",
       "      <td>0</td>\n",
       "      <td>0.0000</td>\n",
       "      <td>800</td>\n",
       "      <td>117</td>\n",
       "      <td>125309</td>\n",
       "      <td>2038</td>\n",
       "      <td>480</td>\n",
       "      <td>0</td>\n",
       "      <td>2900.0</td>\n",
       "      <td>11</td>\n",
       "    </tr>\n",
       "  </tbody>\n",
       "</table>\n",
       "</div>"
      ],
      "text/plain": [
       "     area rentType  室  厅  卫 houseFloor  totalFloor houseToward  \\\n",
       "0   68.06     未知方式  2  1  1          低          16        暂无数据   \n",
       "1  125.55     未知方式  3  2  2          中          14        暂无数据   \n",
       "2  132.00     未知方式  3  2  2          低          32        暂无数据   \n",
       "3   57.00     未知方式  1  1  1          中          17        暂无数据   \n",
       "4  129.00     未知方式  3  2  3          低           2        暂无数据   \n",
       "\n",
       "  houseDecoration   region    plate  buildYear  saleSecHouseNum  \\\n",
       "0              其他  RG00001  BK00064       1953                0   \n",
       "1              简装  RG00002  BK00049       2007                0   \n",
       "2              其他  RG00002  BK00050       1994                3   \n",
       "3              精装  RG00002  BK00051       1994                0   \n",
       "4              毛坯  RG00003  BK00044       1994                1   \n",
       "\n",
       "   subwayStationNum  busStationNum  interSchoolNum  schoolNum  \\\n",
       "0                 7             36               0         28   \n",
       "1                 2            184               0         26   \n",
       "2                 6             60               1         43   \n",
       "3                 3            364               2         60   \n",
       "4                 0            141               0         15   \n",
       "\n",
       "   privateSchoolNum  hospitalNum  drugStoreNum  gymNum  bankNum  shopNum  \\\n",
       "0                 1            1            12      15       16       76   \n",
       "1                 0            1            27       5       16      163   \n",
       "2                 2            3            24      35       37       85   \n",
       "3                 1            8            83      30       47      358   \n",
       "4                 0            0            21       5       10      100   \n",
       "\n",
       "   parkNum  mallNum  superMarketNum  totalTradeMoney  totalTradeArea  \\\n",
       "0        5        3              22        355584000         7411.98   \n",
       "1        6        4              51          5000000          122.83   \n",
       "2        6        4              30       1687284798        49071.30   \n",
       "3        3        1             131        468272888        22809.70   \n",
       "4        5        2              34        108851470         4463.62   \n",
       "\n",
       "   tradeMeanPrice  tradeSecNum  totalNewTradeMoney  totalNewTradeArea  \\\n",
       "0     47974.22551          111           810967373               7755   \n",
       "1     40706.66775            2             9668955                286   \n",
       "2     34384.35089          555           344894466               3143   \n",
       "3     20529.55050          260           196307819               6418   \n",
       "4     24386.36577           38           286722058               5608   \n",
       "\n",
       "   tradeNewMeanPrice  tradeNewNum  remainNewNum  supplyNewNum  supplyLandNum  \\\n",
       "0       104573.48460           25           264             0              0   \n",
       "1        33807.53497            2             4             0              0   \n",
       "2       109734.16040           11           159           126              0   \n",
       "3        30587.07058           58           730             0              1   \n",
       "4        51127.32846           34           851           216              0   \n",
       "\n",
       "   supplyLandArea  tradeLandNum  tradeLandArea  landTotalPrice  landMeanPrice  \\\n",
       "0             0.0             0            0.0               0         0.0000   \n",
       "1             0.0             0            0.0               0         0.0000   \n",
       "2             0.0             0            0.0               0         0.0000   \n",
       "3        108037.8             1       108037.8       332760000      3080.0331   \n",
       "4             0.0             0            0.0               0         0.0000   \n",
       "\n",
       "   totalWorkers  newWorkers  residentPopulation    pv   uv  lookNum  \\\n",
       "0         28248         614              111546  1124  284        0   \n",
       "1         14823         148              157552   701   22        1   \n",
       "2         77645         520              131744    57   20        1   \n",
       "3          8750        1665              253337   888  279        9   \n",
       "4           800         117              125309  2038  480        0   \n",
       "\n",
       "   tradeMoney  交易月份  \n",
       "0      2000.0    11  \n",
       "1      2000.0    12  \n",
       "2     16000.0    12  \n",
       "3      1600.0    12  \n",
       "4      2900.0    11  "
      ]
     },
     "execution_count": 17,
     "metadata": {},
     "output_type": "execute_result"
    }
   ],
   "source": [
    "train_data.head()"
   ]
  },
  {
   "cell_type": "markdown",
   "metadata": {},
   "source": [
    "- 房间总数"
   ]
  },
  {
   "cell_type": "code",
   "execution_count": 18,
   "metadata": {},
   "outputs": [],
   "source": [
    "train_data[\"HomeNum\"] = train_data[\"室\"] + train_data[\"卫\"] + train_data[\"厅\"]"
   ]
  },
  {
   "cell_type": "code",
   "execution_count": 19,
   "metadata": {},
   "outputs": [
    {
     "data": {
      "text/plain": [
       "0"
      ]
     },
     "execution_count": 19,
     "metadata": {},
     "output_type": "execute_result"
    }
   ],
   "source": [
    "train_data[\"HomeNum\"].isnull().sum()"
   ]
  },
  {
   "cell_type": "code",
   "execution_count": 20,
   "metadata": {},
   "outputs": [
    {
     "data": {
      "text/plain": [
       "0"
      ]
     },
     "execution_count": 20,
     "metadata": {},
     "output_type": "execute_result"
    }
   ],
   "source": [
    "train_data[\"室\"].isnull().sum()"
   ]
  },
  {
   "cell_type": "code",
   "execution_count": 21,
   "metadata": {},
   "outputs": [
    {
     "data": {
      "text/plain": [
       "0"
      ]
     },
     "execution_count": 21,
     "metadata": {},
     "output_type": "execute_result"
    }
   ],
   "source": [
    "train_data[\"卫\"].isnull().sum()"
   ]
  },
  {
   "cell_type": "code",
   "execution_count": 22,
   "metadata": {},
   "outputs": [
    {
     "data": {
      "text/plain": [
       "0"
      ]
     },
     "execution_count": 22,
     "metadata": {},
     "output_type": "execute_result"
    }
   ],
   "source": [
    "train_data[\"厅\"].isnull().sum()"
   ]
  },
  {
   "cell_type": "markdown",
   "metadata": {},
   "source": [
    "- 成交均价"
   ]
  },
  {
   "cell_type": "code",
   "execution_count": 23,
   "metadata": {},
   "outputs": [],
   "source": [
    "train_data[\"tradeMean\"] = train_data[\"totalTradeMoney\"]/(1 + train_data[\"totalTradeArea\"])\n",
    "train_data[\"tradeNewMean\"] = train_data[\"totalNewTradeMoney\"]/(1+train_data[\"totalNewTradeArea\"])\n",
    "train_data[\"landMean\"] = train_data[\"landTotalPrice\"]/(1+train_data[\"tradeLandArea\"])"
   ]
  },
  {
   "cell_type": "markdown",
   "metadata": {},
   "source": [
    "- 总数量"
   ]
  },
  {
   "cell_type": "code",
   "execution_count": 24,
   "metadata": {},
   "outputs": [],
   "source": [
    "train_data[\"bus\"] = train_data[\"subwayStationNum\"] + train_data[\"busStationNum\"]"
   ]
  },
  {
   "cell_type": "code",
   "execution_count": 25,
   "metadata": {},
   "outputs": [],
   "source": [
    "train_data[\"school\"]  = train_data[\"interSchoolNum\"]+train_data[\"schoolNum\"]+train_data[\"privateSchoolNum\"]"
   ]
  },
  {
   "cell_type": "code",
   "execution_count": 26,
   "metadata": {},
   "outputs": [],
   "source": [
    "train_data[\"docter\"] = train_data[\"hospitalNum\"] + train_data[\"drugStoreNum\"]"
   ]
  },
  {
   "cell_type": "code",
   "execution_count": 27,
   "metadata": {},
   "outputs": [],
   "source": [
    "train_data[\"shop\"] = train_data[\"shopNum\"] + train_data[\"superMarketNum\"]+ train_data[\"mallNum\"]"
   ]
  },
  {
   "cell_type": "code",
   "execution_count": 28,
   "metadata": {},
   "outputs": [],
   "source": [
    "train_data[\"sport\"] = train_data[\"gymNum\"] + train_data[\"parkNum\"]"
   ]
  },
  {
   "cell_type": "markdown",
   "metadata": {},
   "source": [
    "- test"
   ]
  },
  {
   "cell_type": "code",
   "execution_count": 29,
   "metadata": {},
   "outputs": [],
   "source": [
    "test_data[\"HomeNum\"] = test_data[\"室\"] + test_data[\"卫\"] + test_data[\"厅\"]\n",
    "\n",
    "test_data[\"tradeMean\"] = test_data[\"totalTradeMoney\"]/(test_data[\"totalTradeArea\"] + 1)\n",
    "test_data[\"tradeNewMean\"] = test_data[\"totalNewTradeMoney\"]/(test_data[\"totalNewTradeArea\"]+1)\n",
    "test_data[\"landMean\"] = test_data[\"landTotalPrice\"]/(test_data[\"tradeLandArea\"] + 1)\n",
    "\n",
    "test_data[\"bus\"] = test_data[\"subwayStationNum\"] + test_data[\"busStationNum\"]\n",
    "test_data[\"school\"]  = test_data[\"interSchoolNum\"]+test_data[\"schoolNum\"]+test_data[\"privateSchoolNum\"]\n",
    "test_data[\"docter\"] = test_data[\"hospitalNum\"] + test_data[\"drugStoreNum\"]\n",
    "test_data[\"shop\"] = test_data[\"shopNum\"] + test_data[\"superMarketNum\"]+ test_data[\"mallNum\"]\n",
    "test_data[\"sport\"] = test_data[\"gymNum\"] + test_data[\"parkNum\"]"
   ]
  },
  {
   "cell_type": "code",
   "execution_count": 30,
   "metadata": {},
   "outputs": [],
   "source": [
    "# train_data[\"tradeMoney\"] = np.log1p(train_data[\"tradeMoney\"])"
   ]
  },
  {
   "cell_type": "code",
   "execution_count": 31,
   "metadata": {
    "scrolled": true
   },
   "outputs": [
    {
     "data": {
      "text/plain": [
       "area                  0\n",
       "rentType              0\n",
       "室                     0\n",
       "厅                     0\n",
       "卫                     0\n",
       "houseFloor            0\n",
       "totalFloor            0\n",
       "houseToward           0\n",
       "houseDecoration       0\n",
       "region                0\n",
       "plate                 0\n",
       "buildYear             0\n",
       "saleSecHouseNum       0\n",
       "subwayStationNum      0\n",
       "busStationNum         0\n",
       "interSchoolNum        0\n",
       "schoolNum             0\n",
       "privateSchoolNum      0\n",
       "hospitalNum           0\n",
       "drugStoreNum          0\n",
       "gymNum                0\n",
       "bankNum               0\n",
       "shopNum               0\n",
       "parkNum               0\n",
       "mallNum               0\n",
       "superMarketNum        0\n",
       "totalTradeMoney       0\n",
       "totalTradeArea        0\n",
       "tradeMeanPrice        0\n",
       "tradeSecNum           0\n",
       "totalNewTradeMoney    0\n",
       "totalNewTradeArea     0\n",
       "tradeNewMeanPrice     0\n",
       "tradeNewNum           0\n",
       "remainNewNum          0\n",
       "supplyNewNum          0\n",
       "supplyLandNum         0\n",
       "supplyLandArea        0\n",
       "tradeLandNum          0\n",
       "tradeLandArea         0\n",
       "landTotalPrice        0\n",
       "landMeanPrice         0\n",
       "totalWorkers          0\n",
       "newWorkers            0\n",
       "residentPopulation    0\n",
       "pv                    0\n",
       "uv                    0\n",
       "lookNum               0\n",
       "tradeMoney            0\n",
       "交易月份                  0\n",
       "HomeNum               0\n",
       "tradeMean             0\n",
       "tradeNewMean          0\n",
       "landMean              0\n",
       "bus                   0\n",
       "school                0\n",
       "docter                0\n",
       "shop                  0\n",
       "sport                 0\n",
       "dtype: int64"
      ]
     },
     "execution_count": 31,
     "metadata": {},
     "output_type": "execute_result"
    }
   ],
   "source": [
    "train_data.isnull().sum()"
   ]
  },
  {
   "cell_type": "code",
   "execution_count": 32,
   "metadata": {
    "scrolled": true
   },
   "outputs": [
    {
     "data": {
      "text/plain": [
       "area                  0\n",
       "rentType              0\n",
       "室                     0\n",
       "厅                     0\n",
       "卫                     0\n",
       "houseFloor            0\n",
       "totalFloor            0\n",
       "houseToward           0\n",
       "houseDecoration       0\n",
       "region                0\n",
       "plate                 0\n",
       "buildYear             0\n",
       "saleSecHouseNum       0\n",
       "subwayStationNum      0\n",
       "busStationNum         0\n",
       "interSchoolNum        0\n",
       "schoolNum             0\n",
       "privateSchoolNum      0\n",
       "hospitalNum           0\n",
       "drugStoreNum          0\n",
       "gymNum                0\n",
       "bankNum               0\n",
       "shopNum               0\n",
       "parkNum               0\n",
       "mallNum               0\n",
       "superMarketNum        0\n",
       "totalTradeMoney       0\n",
       "totalTradeArea        0\n",
       "tradeMeanPrice        0\n",
       "tradeSecNum           0\n",
       "totalNewTradeMoney    0\n",
       "totalNewTradeArea     0\n",
       "tradeNewMeanPrice     0\n",
       "tradeNewNum           0\n",
       "remainNewNum          0\n",
       "supplyNewNum          0\n",
       "supplyLandNum         0\n",
       "supplyLandArea        0\n",
       "tradeLandNum          0\n",
       "tradeLandArea         0\n",
       "landTotalPrice        0\n",
       "landMeanPrice         0\n",
       "totalWorkers          0\n",
       "newWorkers            0\n",
       "residentPopulation    0\n",
       "pv                    0\n",
       "uv                    0\n",
       "lookNum               0\n",
       "交易月份                  0\n",
       "HomeNum               0\n",
       "tradeMean             0\n",
       "tradeNewMean          0\n",
       "landMean              0\n",
       "bus                   0\n",
       "school                0\n",
       "docter                0\n",
       "shop                  0\n",
       "sport                 0\n",
       "dtype: int64"
      ]
     },
     "execution_count": 32,
     "metadata": {},
     "output_type": "execute_result"
    }
   ],
   "source": [
    "test_data.isnull().sum()"
   ]
  },
  {
   "cell_type": "code",
   "execution_count": 33,
   "metadata": {},
   "outputs": [
    {
     "data": {
      "text/html": [
       "<div>\n",
       "<style scoped>\n",
       "    .dataframe tbody tr th:only-of-type {\n",
       "        vertical-align: middle;\n",
       "    }\n",
       "\n",
       "    .dataframe tbody tr th {\n",
       "        vertical-align: top;\n",
       "    }\n",
       "\n",
       "    .dataframe thead th {\n",
       "        text-align: right;\n",
       "    }\n",
       "</style>\n",
       "<table border=\"1\" class=\"dataframe\">\n",
       "  <thead>\n",
       "    <tr style=\"text-align: right;\">\n",
       "      <th></th>\n",
       "      <th>area</th>\n",
       "      <th>rentType</th>\n",
       "      <th>室</th>\n",
       "      <th>厅</th>\n",
       "      <th>卫</th>\n",
       "      <th>houseFloor</th>\n",
       "      <th>totalFloor</th>\n",
       "      <th>houseToward</th>\n",
       "      <th>houseDecoration</th>\n",
       "      <th>region</th>\n",
       "      <th>plate</th>\n",
       "      <th>buildYear</th>\n",
       "      <th>saleSecHouseNum</th>\n",
       "      <th>subwayStationNum</th>\n",
       "      <th>busStationNum</th>\n",
       "      <th>interSchoolNum</th>\n",
       "      <th>schoolNum</th>\n",
       "      <th>privateSchoolNum</th>\n",
       "      <th>hospitalNum</th>\n",
       "      <th>drugStoreNum</th>\n",
       "      <th>gymNum</th>\n",
       "      <th>bankNum</th>\n",
       "      <th>shopNum</th>\n",
       "      <th>parkNum</th>\n",
       "      <th>mallNum</th>\n",
       "      <th>superMarketNum</th>\n",
       "      <th>totalTradeMoney</th>\n",
       "      <th>totalTradeArea</th>\n",
       "      <th>tradeMeanPrice</th>\n",
       "      <th>tradeSecNum</th>\n",
       "      <th>totalNewTradeMoney</th>\n",
       "      <th>totalNewTradeArea</th>\n",
       "      <th>tradeNewMeanPrice</th>\n",
       "      <th>tradeNewNum</th>\n",
       "      <th>remainNewNum</th>\n",
       "      <th>supplyNewNum</th>\n",
       "      <th>supplyLandNum</th>\n",
       "      <th>supplyLandArea</th>\n",
       "      <th>tradeLandNum</th>\n",
       "      <th>tradeLandArea</th>\n",
       "      <th>landTotalPrice</th>\n",
       "      <th>landMeanPrice</th>\n",
       "      <th>totalWorkers</th>\n",
       "      <th>newWorkers</th>\n",
       "      <th>residentPopulation</th>\n",
       "      <th>pv</th>\n",
       "      <th>uv</th>\n",
       "      <th>lookNum</th>\n",
       "      <th>tradeMoney</th>\n",
       "      <th>交易月份</th>\n",
       "      <th>HomeNum</th>\n",
       "      <th>tradeMean</th>\n",
       "      <th>tradeNewMean</th>\n",
       "      <th>landMean</th>\n",
       "      <th>bus</th>\n",
       "      <th>school</th>\n",
       "      <th>docter</th>\n",
       "      <th>shop</th>\n",
       "      <th>sport</th>\n",
       "    </tr>\n",
       "  </thead>\n",
       "  <tbody>\n",
       "    <tr>\n",
       "      <th>0</th>\n",
       "      <td>68.06</td>\n",
       "      <td>未知方式</td>\n",
       "      <td>2</td>\n",
       "      <td>1</td>\n",
       "      <td>1</td>\n",
       "      <td>低</td>\n",
       "      <td>16</td>\n",
       "      <td>暂无数据</td>\n",
       "      <td>其他</td>\n",
       "      <td>RG00001</td>\n",
       "      <td>BK00064</td>\n",
       "      <td>1953</td>\n",
       "      <td>0</td>\n",
       "      <td>7</td>\n",
       "      <td>36</td>\n",
       "      <td>0</td>\n",
       "      <td>28</td>\n",
       "      <td>1</td>\n",
       "      <td>1</td>\n",
       "      <td>12</td>\n",
       "      <td>15</td>\n",
       "      <td>16</td>\n",
       "      <td>76</td>\n",
       "      <td>5</td>\n",
       "      <td>3</td>\n",
       "      <td>22</td>\n",
       "      <td>355584000</td>\n",
       "      <td>7411.98</td>\n",
       "      <td>47974.22551</td>\n",
       "      <td>111</td>\n",
       "      <td>810967373</td>\n",
       "      <td>7755</td>\n",
       "      <td>104573.48460</td>\n",
       "      <td>25</td>\n",
       "      <td>264</td>\n",
       "      <td>0</td>\n",
       "      <td>0</td>\n",
       "      <td>0.0</td>\n",
       "      <td>0</td>\n",
       "      <td>0.0</td>\n",
       "      <td>0</td>\n",
       "      <td>0.0000</td>\n",
       "      <td>28248</td>\n",
       "      <td>614</td>\n",
       "      <td>111546</td>\n",
       "      <td>1124</td>\n",
       "      <td>284</td>\n",
       "      <td>0</td>\n",
       "      <td>2000.0</td>\n",
       "      <td>11</td>\n",
       "      <td>4</td>\n",
       "      <td>47967.753859</td>\n",
       "      <td>104560.001676</td>\n",
       "      <td>0.000000</td>\n",
       "      <td>43</td>\n",
       "      <td>29</td>\n",
       "      <td>13</td>\n",
       "      <td>101</td>\n",
       "      <td>20</td>\n",
       "    </tr>\n",
       "    <tr>\n",
       "      <th>1</th>\n",
       "      <td>125.55</td>\n",
       "      <td>未知方式</td>\n",
       "      <td>3</td>\n",
       "      <td>2</td>\n",
       "      <td>2</td>\n",
       "      <td>中</td>\n",
       "      <td>14</td>\n",
       "      <td>暂无数据</td>\n",
       "      <td>简装</td>\n",
       "      <td>RG00002</td>\n",
       "      <td>BK00049</td>\n",
       "      <td>2007</td>\n",
       "      <td>0</td>\n",
       "      <td>2</td>\n",
       "      <td>184</td>\n",
       "      <td>0</td>\n",
       "      <td>26</td>\n",
       "      <td>0</td>\n",
       "      <td>1</td>\n",
       "      <td>27</td>\n",
       "      <td>5</td>\n",
       "      <td>16</td>\n",
       "      <td>163</td>\n",
       "      <td>6</td>\n",
       "      <td>4</td>\n",
       "      <td>51</td>\n",
       "      <td>5000000</td>\n",
       "      <td>122.83</td>\n",
       "      <td>40706.66775</td>\n",
       "      <td>2</td>\n",
       "      <td>9668955</td>\n",
       "      <td>286</td>\n",
       "      <td>33807.53497</td>\n",
       "      <td>2</td>\n",
       "      <td>4</td>\n",
       "      <td>0</td>\n",
       "      <td>0</td>\n",
       "      <td>0.0</td>\n",
       "      <td>0</td>\n",
       "      <td>0.0</td>\n",
       "      <td>0</td>\n",
       "      <td>0.0000</td>\n",
       "      <td>14823</td>\n",
       "      <td>148</td>\n",
       "      <td>157552</td>\n",
       "      <td>701</td>\n",
       "      <td>22</td>\n",
       "      <td>1</td>\n",
       "      <td>2000.0</td>\n",
       "      <td>12</td>\n",
       "      <td>7</td>\n",
       "      <td>40377.937495</td>\n",
       "      <td>33689.738676</td>\n",
       "      <td>0.000000</td>\n",
       "      <td>186</td>\n",
       "      <td>26</td>\n",
       "      <td>28</td>\n",
       "      <td>218</td>\n",
       "      <td>11</td>\n",
       "    </tr>\n",
       "    <tr>\n",
       "      <th>2</th>\n",
       "      <td>132.00</td>\n",
       "      <td>未知方式</td>\n",
       "      <td>3</td>\n",
       "      <td>2</td>\n",
       "      <td>2</td>\n",
       "      <td>低</td>\n",
       "      <td>32</td>\n",
       "      <td>暂无数据</td>\n",
       "      <td>其他</td>\n",
       "      <td>RG00002</td>\n",
       "      <td>BK00050</td>\n",
       "      <td>1994</td>\n",
       "      <td>3</td>\n",
       "      <td>6</td>\n",
       "      <td>60</td>\n",
       "      <td>1</td>\n",
       "      <td>43</td>\n",
       "      <td>2</td>\n",
       "      <td>3</td>\n",
       "      <td>24</td>\n",
       "      <td>35</td>\n",
       "      <td>37</td>\n",
       "      <td>85</td>\n",
       "      <td>6</td>\n",
       "      <td>4</td>\n",
       "      <td>30</td>\n",
       "      <td>1687284798</td>\n",
       "      <td>49071.30</td>\n",
       "      <td>34384.35089</td>\n",
       "      <td>555</td>\n",
       "      <td>344894466</td>\n",
       "      <td>3143</td>\n",
       "      <td>109734.16040</td>\n",
       "      <td>11</td>\n",
       "      <td>159</td>\n",
       "      <td>126</td>\n",
       "      <td>0</td>\n",
       "      <td>0.0</td>\n",
       "      <td>0</td>\n",
       "      <td>0.0</td>\n",
       "      <td>0</td>\n",
       "      <td>0.0000</td>\n",
       "      <td>77645</td>\n",
       "      <td>520</td>\n",
       "      <td>131744</td>\n",
       "      <td>57</td>\n",
       "      <td>20</td>\n",
       "      <td>1</td>\n",
       "      <td>16000.0</td>\n",
       "      <td>12</td>\n",
       "      <td>7</td>\n",
       "      <td>34383.650206</td>\n",
       "      <td>109699.257634</td>\n",
       "      <td>0.000000</td>\n",
       "      <td>66</td>\n",
       "      <td>46</td>\n",
       "      <td>27</td>\n",
       "      <td>119</td>\n",
       "      <td>41</td>\n",
       "    </tr>\n",
       "    <tr>\n",
       "      <th>3</th>\n",
       "      <td>57.00</td>\n",
       "      <td>未知方式</td>\n",
       "      <td>1</td>\n",
       "      <td>1</td>\n",
       "      <td>1</td>\n",
       "      <td>中</td>\n",
       "      <td>17</td>\n",
       "      <td>暂无数据</td>\n",
       "      <td>精装</td>\n",
       "      <td>RG00002</td>\n",
       "      <td>BK00051</td>\n",
       "      <td>1994</td>\n",
       "      <td>0</td>\n",
       "      <td>3</td>\n",
       "      <td>364</td>\n",
       "      <td>2</td>\n",
       "      <td>60</td>\n",
       "      <td>1</td>\n",
       "      <td>8</td>\n",
       "      <td>83</td>\n",
       "      <td>30</td>\n",
       "      <td>47</td>\n",
       "      <td>358</td>\n",
       "      <td>3</td>\n",
       "      <td>1</td>\n",
       "      <td>131</td>\n",
       "      <td>468272888</td>\n",
       "      <td>22809.70</td>\n",
       "      <td>20529.55050</td>\n",
       "      <td>260</td>\n",
       "      <td>196307819</td>\n",
       "      <td>6418</td>\n",
       "      <td>30587.07058</td>\n",
       "      <td>58</td>\n",
       "      <td>730</td>\n",
       "      <td>0</td>\n",
       "      <td>1</td>\n",
       "      <td>108037.8</td>\n",
       "      <td>1</td>\n",
       "      <td>108037.8</td>\n",
       "      <td>332760000</td>\n",
       "      <td>3080.0331</td>\n",
       "      <td>8750</td>\n",
       "      <td>1665</td>\n",
       "      <td>253337</td>\n",
       "      <td>888</td>\n",
       "      <td>279</td>\n",
       "      <td>9</td>\n",
       "      <td>1600.0</td>\n",
       "      <td>12</td>\n",
       "      <td>3</td>\n",
       "      <td>20528.650502</td>\n",
       "      <td>30582.305499</td>\n",
       "      <td>3080.004591</td>\n",
       "      <td>367</td>\n",
       "      <td>63</td>\n",
       "      <td>91</td>\n",
       "      <td>490</td>\n",
       "      <td>33</td>\n",
       "    </tr>\n",
       "    <tr>\n",
       "      <th>4</th>\n",
       "      <td>129.00</td>\n",
       "      <td>未知方式</td>\n",
       "      <td>3</td>\n",
       "      <td>2</td>\n",
       "      <td>3</td>\n",
       "      <td>低</td>\n",
       "      <td>2</td>\n",
       "      <td>暂无数据</td>\n",
       "      <td>毛坯</td>\n",
       "      <td>RG00003</td>\n",
       "      <td>BK00044</td>\n",
       "      <td>1994</td>\n",
       "      <td>1</td>\n",
       "      <td>0</td>\n",
       "      <td>141</td>\n",
       "      <td>0</td>\n",
       "      <td>15</td>\n",
       "      <td>0</td>\n",
       "      <td>0</td>\n",
       "      <td>21</td>\n",
       "      <td>5</td>\n",
       "      <td>10</td>\n",
       "      <td>100</td>\n",
       "      <td>5</td>\n",
       "      <td>2</td>\n",
       "      <td>34</td>\n",
       "      <td>108851470</td>\n",
       "      <td>4463.62</td>\n",
       "      <td>24386.36577</td>\n",
       "      <td>38</td>\n",
       "      <td>286722058</td>\n",
       "      <td>5608</td>\n",
       "      <td>51127.32846</td>\n",
       "      <td>34</td>\n",
       "      <td>851</td>\n",
       "      <td>216</td>\n",
       "      <td>0</td>\n",
       "      <td>0.0</td>\n",
       "      <td>0</td>\n",
       "      <td>0.0</td>\n",
       "      <td>0</td>\n",
       "      <td>0.0000</td>\n",
       "      <td>800</td>\n",
       "      <td>117</td>\n",
       "      <td>125309</td>\n",
       "      <td>2038</td>\n",
       "      <td>480</td>\n",
       "      <td>0</td>\n",
       "      <td>2900.0</td>\n",
       "      <td>11</td>\n",
       "      <td>8</td>\n",
       "      <td>24380.903638</td>\n",
       "      <td>51118.213229</td>\n",
       "      <td>0.000000</td>\n",
       "      <td>141</td>\n",
       "      <td>15</td>\n",
       "      <td>21</td>\n",
       "      <td>136</td>\n",
       "      <td>10</td>\n",
       "    </tr>\n",
       "  </tbody>\n",
       "</table>\n",
       "</div>"
      ],
      "text/plain": [
       "     area rentType  室  厅  卫 houseFloor  totalFloor houseToward  \\\n",
       "0   68.06     未知方式  2  1  1          低          16        暂无数据   \n",
       "1  125.55     未知方式  3  2  2          中          14        暂无数据   \n",
       "2  132.00     未知方式  3  2  2          低          32        暂无数据   \n",
       "3   57.00     未知方式  1  1  1          中          17        暂无数据   \n",
       "4  129.00     未知方式  3  2  3          低           2        暂无数据   \n",
       "\n",
       "  houseDecoration   region    plate  buildYear  saleSecHouseNum  \\\n",
       "0              其他  RG00001  BK00064       1953                0   \n",
       "1              简装  RG00002  BK00049       2007                0   \n",
       "2              其他  RG00002  BK00050       1994                3   \n",
       "3              精装  RG00002  BK00051       1994                0   \n",
       "4              毛坯  RG00003  BK00044       1994                1   \n",
       "\n",
       "   subwayStationNum  busStationNum  interSchoolNum  schoolNum  \\\n",
       "0                 7             36               0         28   \n",
       "1                 2            184               0         26   \n",
       "2                 6             60               1         43   \n",
       "3                 3            364               2         60   \n",
       "4                 0            141               0         15   \n",
       "\n",
       "   privateSchoolNum  hospitalNum  drugStoreNum  gymNum  bankNum  shopNum  \\\n",
       "0                 1            1            12      15       16       76   \n",
       "1                 0            1            27       5       16      163   \n",
       "2                 2            3            24      35       37       85   \n",
       "3                 1            8            83      30       47      358   \n",
       "4                 0            0            21       5       10      100   \n",
       "\n",
       "   parkNum  mallNum  superMarketNum  totalTradeMoney  totalTradeArea  \\\n",
       "0        5        3              22        355584000         7411.98   \n",
       "1        6        4              51          5000000          122.83   \n",
       "2        6        4              30       1687284798        49071.30   \n",
       "3        3        1             131        468272888        22809.70   \n",
       "4        5        2              34        108851470         4463.62   \n",
       "\n",
       "   tradeMeanPrice  tradeSecNum  totalNewTradeMoney  totalNewTradeArea  \\\n",
       "0     47974.22551          111           810967373               7755   \n",
       "1     40706.66775            2             9668955                286   \n",
       "2     34384.35089          555           344894466               3143   \n",
       "3     20529.55050          260           196307819               6418   \n",
       "4     24386.36577           38           286722058               5608   \n",
       "\n",
       "   tradeNewMeanPrice  tradeNewNum  remainNewNum  supplyNewNum  supplyLandNum  \\\n",
       "0       104573.48460           25           264             0              0   \n",
       "1        33807.53497            2             4             0              0   \n",
       "2       109734.16040           11           159           126              0   \n",
       "3        30587.07058           58           730             0              1   \n",
       "4        51127.32846           34           851           216              0   \n",
       "\n",
       "   supplyLandArea  tradeLandNum  tradeLandArea  landTotalPrice  landMeanPrice  \\\n",
       "0             0.0             0            0.0               0         0.0000   \n",
       "1             0.0             0            0.0               0         0.0000   \n",
       "2             0.0             0            0.0               0         0.0000   \n",
       "3        108037.8             1       108037.8       332760000      3080.0331   \n",
       "4             0.0             0            0.0               0         0.0000   \n",
       "\n",
       "   totalWorkers  newWorkers  residentPopulation    pv   uv  lookNum  \\\n",
       "0         28248         614              111546  1124  284        0   \n",
       "1         14823         148              157552   701   22        1   \n",
       "2         77645         520              131744    57   20        1   \n",
       "3          8750        1665              253337   888  279        9   \n",
       "4           800         117              125309  2038  480        0   \n",
       "\n",
       "   tradeMoney  交易月份  HomeNum     tradeMean   tradeNewMean     landMean  bus  \\\n",
       "0      2000.0    11        4  47967.753859  104560.001676     0.000000   43   \n",
       "1      2000.0    12        7  40377.937495   33689.738676     0.000000  186   \n",
       "2     16000.0    12        7  34383.650206  109699.257634     0.000000   66   \n",
       "3      1600.0    12        3  20528.650502   30582.305499  3080.004591  367   \n",
       "4      2900.0    11        8  24380.903638   51118.213229     0.000000  141   \n",
       "\n",
       "   school  docter  shop  sport  \n",
       "0      29      13   101     20  \n",
       "1      26      28   218     11  \n",
       "2      46      27   119     41  \n",
       "3      63      91   490     33  \n",
       "4      15      21   136     10  "
      ]
     },
     "execution_count": 33,
     "metadata": {},
     "output_type": "execute_result"
    }
   ],
   "source": [
    "train_data.head()"
   ]
  },
  {
   "cell_type": "code",
   "execution_count": 34,
   "metadata": {},
   "outputs": [
    {
     "data": {
      "text/plain": [
       "(40124, 59)"
      ]
     },
     "execution_count": 34,
     "metadata": {},
     "output_type": "execute_result"
    }
   ],
   "source": [
    "train_data.shape"
   ]
  },
  {
   "cell_type": "code",
   "execution_count": 35,
   "metadata": {},
   "outputs": [],
   "source": [
    "columns = ['rentType', 'houseFloor', 'houseToward', 'houseDecoration', 'region', 'plate']\n",
    "for col in columns:\n",
    "    train_data[col] = train_data[col].astype('category')\n",
    "    test_data[col] = test_data[col].astype('category')"
   ]
  },
  {
   "cell_type": "code",
   "execution_count": 36,
   "metadata": {
    "scrolled": true
   },
   "outputs": [
    {
     "name": "stdout",
     "output_type": "stream",
     "text": [
      "rentType\n",
      "houseFloor\n",
      "houseToward\n",
      "houseDecoration\n",
      "region\n",
      "plate\n"
     ]
    }
   ],
   "source": [
    "for col in train_data.columns:\n",
    "    if train_data[col].dtype.name == \"category\":\n",
    "        print(col)\n"
   ]
  },
  {
   "cell_type": "markdown",
   "metadata": {},
   "source": [
    "### 需要的数据\n",
    "- train\n",
    "- target\n",
    "- test\n",
    "- features\n",
    "- categorical_feats"
   ]
  },
  {
   "cell_type": "markdown",
   "metadata": {},
   "source": [
    "### lightgbm"
   ]
  },
  {
   "cell_type": "code",
   "execution_count": 38,
   "metadata": {},
   "outputs": [],
   "source": [
    "train = train_data.drop([\"tradeMoney\"],axis = 1)\n",
    "target = train_data[\"tradeMoney\"]"
   ]
  },
  {
   "cell_type": "code",
   "execution_count": 39,
   "metadata": {},
   "outputs": [],
   "source": [
    "test = test_data"
   ]
  },
  {
   "cell_type": "code",
   "execution_count": 40,
   "metadata": {},
   "outputs": [],
   "source": [
    "features = train.columns"
   ]
  },
  {
   "cell_type": "code",
   "execution_count": 41,
   "metadata": {},
   "outputs": [],
   "source": [
    "categorical_feats = ['rentType', 'houseFloor', 'houseToward', 'houseDecoration', 'region', 'plate']"
   ]
  },
  {
   "cell_type": "code",
   "execution_count": 76,
   "metadata": {},
   "outputs": [],
   "source": [
    "params = {\n",
    "    'num_leaves': 31,\n",
    "    'min_data_in_leaf': 20,\n",
    "    'min_child_samples':20,\n",
    "    'objective': 'regression',\n",
    "    'learning_rate': 0.01,\n",
    "    \"boosting\": \"gbdt\",\n",
    "    \"feature_fraction\": 0.8,\n",
    "    \"bagging_freq\": 1,\n",
    "    \"bagging_fraction\": 0.85,\n",
    "    \"bagging_seed\": 23,\n",
    "    \"metric\": 'rmse',\n",
    "    \"lambda_l1\": 0.2,\n",
    "    \"nthread\": 4,\n",
    "}"
   ]
  },
  {
   "cell_type": "code",
   "execution_count": 77,
   "metadata": {
    "scrolled": true
   },
   "outputs": [
    {
     "name": "stdout",
     "output_type": "stream",
     "text": [
      "fold 0\n",
      "Training until validation scores don't improve for 200 rounds.\n",
      "[500]\ttraining's rmse: 1150.5\tvalid_1's rmse: 1384.87\n",
      "[1000]\ttraining's rmse: 1005.94\tvalid_1's rmse: 1339.85\n",
      "[1500]\ttraining's rmse: 920.064\tvalid_1's rmse: 1323.89\n",
      "[2000]\ttraining's rmse: 859.489\tvalid_1's rmse: 1315.3\n",
      "[2500]\ttraining's rmse: 810.925\tvalid_1's rmse: 1309.59\n",
      "[3000]\ttraining's rmse: 771.227\tvalid_1's rmse: 1306.56\n",
      "[3500]\ttraining's rmse: 737.967\tvalid_1's rmse: 1302.7\n",
      "[4000]\ttraining's rmse: 709.059\tvalid_1's rmse: 1301.13\n",
      "Early stopping, best iteration is:\n",
      "[4200]\ttraining's rmse: 698.527\tvalid_1's rmse: 1300.36\n",
      "fold 1\n",
      "Training until validation scores don't improve for 200 rounds.\n",
      "[500]\ttraining's rmse: 1141.36\tvalid_1's rmse: 1456.32\n",
      "[1000]\ttraining's rmse: 1001.45\tvalid_1's rmse: 1416.45\n",
      "[1500]\ttraining's rmse: 918.773\tvalid_1's rmse: 1401.15\n",
      "[2000]\ttraining's rmse: 857.632\tvalid_1's rmse: 1392.34\n",
      "[2500]\ttraining's rmse: 809.992\tvalid_1's rmse: 1387.26\n",
      "[3000]\ttraining's rmse: 772.177\tvalid_1's rmse: 1384.18\n",
      "[3500]\ttraining's rmse: 740.683\tvalid_1's rmse: 1382.67\n",
      "[4000]\ttraining's rmse: 712.54\tvalid_1's rmse: 1380.83\n",
      "[4500]\ttraining's rmse: 687.925\tvalid_1's rmse: 1379.71\n",
      "Early stopping, best iteration is:\n",
      "[4327]\ttraining's rmse: 695.921\tvalid_1's rmse: 1379.39\n",
      "fold 2\n",
      "Training until validation scores don't improve for 200 rounds.\n",
      "[500]\ttraining's rmse: 1142.43\tvalid_1's rmse: 1442.6\n",
      "[1000]\ttraining's rmse: 1000.29\tvalid_1's rmse: 1398.72\n",
      "[1500]\ttraining's rmse: 918.78\tvalid_1's rmse: 1382.74\n",
      "[2000]\ttraining's rmse: 860.347\tvalid_1's rmse: 1372.84\n",
      "[2500]\ttraining's rmse: 814.325\tvalid_1's rmse: 1365.25\n",
      "[3000]\ttraining's rmse: 777.304\tvalid_1's rmse: 1361.94\n",
      "[3500]\ttraining's rmse: 746.349\tvalid_1's rmse: 1358.82\n",
      "[4000]\ttraining's rmse: 720.268\tvalid_1's rmse: 1356.39\n",
      "[4500]\ttraining's rmse: 694.743\tvalid_1's rmse: 1354.91\n",
      "Early stopping, best iteration is:\n",
      "[4664]\ttraining's rmse: 687.203\tvalid_1's rmse: 1354.39\n",
      "fold 3\n",
      "Training until validation scores don't improve for 200 rounds.\n",
      "[500]\ttraining's rmse: 1161.62\tvalid_1's rmse: 1252.06\n",
      "[1000]\ttraining's rmse: 1016.87\tvalid_1's rmse: 1217.58\n",
      "[1500]\ttraining's rmse: 931.273\tvalid_1's rmse: 1202.1\n",
      "[2000]\ttraining's rmse: 870.809\tvalid_1's rmse: 1191.91\n",
      "[2500]\ttraining's rmse: 822.578\tvalid_1's rmse: 1185.66\n",
      "[3000]\ttraining's rmse: 783.676\tvalid_1's rmse: 1182.19\n",
      "[3500]\ttraining's rmse: 751.642\tvalid_1's rmse: 1179.76\n",
      "[4000]\ttraining's rmse: 723.143\tvalid_1's rmse: 1178.53\n",
      "Early stopping, best iteration is:\n",
      "[4047]\ttraining's rmse: 720.358\tvalid_1's rmse: 1178.35\n",
      "fold 4\n",
      "Training until validation scores don't improve for 200 rounds.\n",
      "[500]\ttraining's rmse: 1163.28\tvalid_1's rmse: 1305.45\n",
      "[1000]\ttraining's rmse: 1019.55\tvalid_1's rmse: 1261.63\n",
      "[1500]\ttraining's rmse: 934.423\tvalid_1's rmse: 1238.85\n",
      "[2000]\ttraining's rmse: 872.975\tvalid_1's rmse: 1226.62\n",
      "[2500]\ttraining's rmse: 824.864\tvalid_1's rmse: 1218.01\n",
      "[3000]\ttraining's rmse: 784.91\tvalid_1's rmse: 1212.8\n",
      "[3500]\ttraining's rmse: 752.409\tvalid_1's rmse: 1209.58\n",
      "[4000]\ttraining's rmse: 723.525\tvalid_1's rmse: 1206.24\n",
      "[4500]\ttraining's rmse: 698.457\tvalid_1's rmse: 1204.31\n",
      "Early stopping, best iteration is:\n",
      "[4587]\ttraining's rmse: 694.365\tvalid_1's rmse: 1203.84\n",
      "CV Score: 0.88135 \n"
     ]
    }
   ],
   "source": [
    "folds = KFold(n_splits=5, shuffle=True, random_state=2333)\n",
    "\n",
    "oof_lgb = np.zeros(len(train))\n",
    "predictions_lgb = np.zeros(len(test))\n",
    "feature_importance_df = pd.DataFrame()\n",
    "\n",
    "for fold_, (trn_idx, val_idx) in enumerate(folds.split(train.values, target.values)):\n",
    "    print(\"fold {}\".format(fold_))\n",
    "    trn_data = lgb.Dataset(train.iloc[trn_idx], label=target.iloc[trn_idx])# categorical_feature=categorical_feats)\n",
    "    val_data = lgb.Dataset(train.iloc[val_idx], label=target.iloc[val_idx])#, categorical_feature=categorical_feats)\n",
    "\n",
    "    num_round = 10000\n",
    "    clf = lgb.train(params, trn_data, num_round, valid_sets = [trn_data, val_data], verbose_eval=500, early_stopping_rounds = 200)\n",
    "    \n",
    "    oof_lgb[val_idx] = clf.predict(train.iloc[val_idx], num_iteration=clf.best_iteration)\n",
    "    \n",
    "    fold_importance_df = pd.DataFrame()\n",
    "    fold_importance_df[\"feature\"] = features\n",
    "    fold_importance_df[\"importance\"] = clf.feature_importance()\n",
    "    fold_importance_df[\"fold\"] = fold_ + 1\n",
    "    feature_importance_df = pd.concat([feature_importance_df, fold_importance_df], axis=0)\n",
    "    \n",
    "    predictions_lgb += clf.predict(test, num_iteration=clf.best_iteration) / folds.n_splits\n",
    "    \n",
    "print(\"CV Score: {:<8.5f}\".format(r2_score(target, oof_lgb)))"
   ]
  },
  {
   "cell_type": "code",
   "execution_count": 78,
   "metadata": {},
   "outputs": [
    {
     "data": {
      "image/png": "[encoded data removed]",
      "text/plain": [
       "<Figure size 1008x2880 with 1 Axes>"
      ]
     },
     "metadata": {
      "needs_background": "light"
     },
     "output_type": "display_data"
    }
   ],
   "source": [
    "cols = (feature_importance_df[[\"feature\", \"importance\"]]\n",
    "        .groupby(\"feature\")\n",
    "        .mean()\n",
    "        .sort_values(by=\"importance\", ascending=False)[:1000].index)\n",
    "\n",
    "best_features = feature_importance_df.loc[feature_importance_df.feature.isin(cols)]\n",
    "\n",
    "plt.figure(figsize=(14,40))\n",
    "sns.barplot(x=\"importance\",\n",
    "            y=\"feature\",\n",
    "            data=best_features.sort_values(by=\"importance\",\n",
    "                                           ascending=False))\n",
    "plt.title('LightGBM Features (avg over folds)')\n",
    "plt.tight_layout()"
   ]
  },
  {
   "cell_type": "code",
   "execution_count": 46,
   "metadata": {},
   "outputs": [],
   "source": [
    "from sklearn.metrics import r2_score\n",
    "def online_score(pred):\n",
    "    print(\"预测结果最大值：{},预测结果最小值：{}\".format(pred.max(),pred.min()))\n",
    "    # a榜测分\n",
    "    conmbine1 = pd.read_csv(\"./label.csv\",engine = \"python\")#,header=None)\n",
    "    score1 = r2_score(pred, conmbine1)\n",
    "    print(score1)\n",
    "    return score1\n",
    "#     # b榜测分\n",
    "#     conmbine3 = pd.read_csv(\"D:/城市-房产租金预测/best_result/sub_b_9194.csv\",engine = \"python\",header=None)\n",
    "#     score3= r2_score(pred, conmbine3)\n",
    "#     print(\"对比919分数:{}\".format(score3))"
   ]
  },
  {
   "cell_type": "code",
   "execution_count": 80,
   "metadata": {},
   "outputs": [],
   "source": [
    "# predictions_lgb = np.expm1(predictions_lgb)"
   ]
  },
  {
   "cell_type": "code",
   "execution_count": 81,
   "metadata": {},
   "outputs": [
    {
     "name": "stdout",
     "output_type": "stream",
     "text": [
      "预测结果最大值：18226.475106024467,预测结果最小值：1188.721374288075\n",
      "0.9443776536929804\n"
     ]
    },
    {
     "data": {
      "text/plain": [
       "0.9443776536929804"
      ]
     },
     "execution_count": 81,
     "metadata": {},
     "output_type": "execute_result"
    }
   ],
   "source": [
    "online_score(predictions_lgb)"
   ]
  },
  {
   "cell_type": "markdown",
   "metadata": {},
   "source": [
    "### xgboost"
   ]
  },
  {
   "cell_type": "markdown",
   "metadata": {},
   "source": [
    "- 不能有字符串"
   ]
  },
  {
   "cell_type": "code",
   "execution_count": 86,
   "metadata": {
    "scrolled": true
   },
   "outputs": [],
   "source": [
    "from xgboost import XGBClassifier\n",
    "xgb_model = XGBClassifier(\n",
    " learning_rate =0.05,\n",
    " n_estimators=1000,\n",
    " max_depth=5,\n",
    " min_child_weight=2,\n",
    " gamma=0,\n",
    " subsample=0.8,\n",
    " colsample_bytree=0.8,\n",
    " nthread=3,\n",
    " seed=2019)"
   ]
  },
  {
   "cell_type": "code",
   "execution_count": null,
   "metadata": {},
   "outputs": [],
   "source": [
    "xgb_model.fit(train,target)\n",
    "# xgb_model.score(x_test,y_test)"
   ]
  },
  {
   "cell_type": "code",
   "execution_count": null,
   "metadata": {},
   "outputs": [],
   "source": [
    "predictions_lgb = xgb_model.predict(test)"
   ]
  },
  {
   "cell_type": "code",
   "execution_count": null,
   "metadata": {},
   "outputs": [],
   "source": [
    "online_score(predictions_lgb)"
   ]
  },
  {
   "cell_type": "markdown",
   "metadata": {},
   "source": [
    "- 时间太长了"
   ]
  },
  {
   "cell_type": "markdown",
   "metadata": {},
   "source": [
    "### GBDT"
   ]
  },
  {
   "cell_type": "markdown",
   "metadata": {},
   "source": [
    "- 不能有字符串"
   ]
  },
  {
   "cell_type": "code",
   "execution_count": 42,
   "metadata": {},
   "outputs": [],
   "source": [
    "for col in categorical_feats:\n",
    "    train[col] = LabelEncoder().fit_transform(train[col])\n",
    "    test[col] = LabelEncoder().fit_transform(test[col])"
   ]
  },
  {
   "cell_type": "code",
   "execution_count": 43,
   "metadata": {},
   "outputs": [
    {
     "data": {
      "text/plain": [
       "((40124, 58), (2469, 58))"
      ]
     },
     "execution_count": 43,
     "metadata": {},
     "output_type": "execute_result"
    }
   ],
   "source": [
    "train.shape,test.shape"
   ]
  },
  {
   "cell_type": "code",
   "execution_count": 84,
   "metadata": {},
   "outputs": [
    {
     "data": {
      "text/plain": [
       "GradientBoostingRegressor(alpha=0.9, criterion='friedman_mse', init=None,\n",
       "             learning_rate=0.04, loss='huber', max_depth=6,\n",
       "             max_features='sqrt', max_leaf_nodes=None,\n",
       "             min_impurity_decrease=0.0, min_impurity_split=None,\n",
       "             min_samples_leaf=15, min_samples_split=10,\n",
       "             min_weight_fraction_leaf=0.0, n_estimators=3000,\n",
       "             n_iter_no_change=None, presort='auto', random_state=2333,\n",
       "             subsample=1.0, tol=0.0001, validation_fraction=0.1, verbose=0,\n",
       "             warm_start=False)"
      ]
     },
     "execution_count": 84,
     "metadata": {},
     "output_type": "execute_result"
    }
   ],
   "source": [
    "GBoost = GradientBoostingRegressor(n_estimators=3000, learning_rate=0.04,\n",
    "                                   max_depth=6, max_features='sqrt',\n",
    "                                   min_samples_leaf=15, min_samples_split=10, \n",
    "                                   loss='huber', random_state = 2333) \n",
    "GBoost.fit(train, target)"
   ]
  },
  {
   "cell_type": "code",
   "execution_count": 85,
   "metadata": {
    "scrolled": true
   },
   "outputs": [
    {
     "name": "stdout",
     "output_type": "stream",
     "text": [
      "0.9340876524289021\n",
      "预测结果最大值：17806.351782365615,预测结果最小值：1104.4237123889602\n",
      "0.9416059842770953\n"
     ]
    },
    {
     "data": {
      "text/plain": [
       "0.9416059842770953"
      ]
     },
     "execution_count": 85,
     "metadata": {},
     "output_type": "execute_result"
    }
   ],
   "source": [
    "pred_log1p = GBoost.predict(train)\n",
    "score = r2_score(target,pred_log1p)\n",
    "print(score)\n",
    "# 对测试集预测\n",
    "GBoost_pred = GBoost.predict(test)\n",
    "# 简要分析结果\n",
    "online_score(GBoost_pred)"
   ]
  },
  {
   "cell_type": "markdown",
   "metadata": {},
   "source": [
    "### 随机森林"
   ]
  },
  {
   "cell_type": "markdown",
   "metadata": {},
   "source": [
    "- 不能有字符串"
   ]
  },
  {
   "cell_type": "code",
   "execution_count": 44,
   "metadata": {
    "scrolled": true
   },
   "outputs": [
    {
     "data": {
      "text/plain": [
       "DecisionTreeClassifier(class_weight=None, criterion='gini', max_depth=None,\n",
       "            max_features=None, max_leaf_nodes=None,\n",
       "            min_impurity_decrease=0.0, min_impurity_split=None,\n",
       "            min_samples_leaf=1, min_samples_split=2,\n",
       "            min_weight_fraction_leaf=0.0, presort=False, random_state=None,\n",
       "            splitter='best')"
      ]
     },
     "execution_count": 44,
     "metadata": {},
     "output_type": "execute_result"
    }
   ],
   "source": [
    "from sklearn.tree import DecisionTreeClassifier\n",
    "DTC_model = DecisionTreeClassifier()\n",
    "DTC_model.fit(train,target)"
   ]
  },
  {
   "cell_type": "code",
   "execution_count": 47,
   "metadata": {},
   "outputs": [
    {
     "name": "stdout",
     "output_type": "stream",
     "text": [
      "0.9997650802410651\n",
      "预测结果最大值：50000.0,预测结果最小值：300.0\n",
      "0.6737857189461727\n"
     ]
    },
    {
     "data": {
      "text/plain": [
       "0.6737857189461727"
      ]
     },
     "execution_count": 47,
     "metadata": {},
     "output_type": "execute_result"
    }
   ],
   "source": [
    "pred_log1p = DTC_model.predict(train)\n",
    "score = r2_score(target,pred_log1p)\n",
    "print(score)\n",
    "DTC_HH = DTC_model.predict(test)\n",
    "online_score(DTC_HH)"
   ]
  },
  {
   "cell_type": "markdown",
   "metadata": {},
   "source": [
    "- 过拟合了"
   ]
  },
  {
   "cell_type": "markdown",
   "metadata": {},
   "source": [
    "### catboost"
   ]
  },
  {
   "cell_type": "code",
   "execution_count": 57,
   "metadata": {},
   "outputs": [
    {
     "name": "stdout",
     "output_type": "stream",
     "text": [
      "fold 0\n"
     ]
    },
    {
     "name": "stderr",
     "output_type": "stream",
     "text": [
      "Warning: Overfitting detector is active, thus evaluation metric is calculated on every iteration. 'metric_period' is ignored for evaluation metric.\n"
     ]
    },
    {
     "name": "stdout",
     "output_type": "stream",
     "text": [
      "0:\tlearn: 6002.7573107\ttest: 6041.3792292\tbest: 6041.3792292 (0)\ttotal: 2.09s\tremaining: 24m 23s\n",
      "699:\tlearn: 1354.6110909\ttest: 1532.7567951\tbest: 1532.1922881 (631)\ttotal: 10m 7s\tremaining: 0us\n",
      "\n",
      "bestTest = 1532.192288\n",
      "bestIteration = 631\n",
      "\n",
      "Shrink model to first 632 iterations.\n",
      "fold 1\n"
     ]
    },
    {
     "name": "stderr",
     "output_type": "stream",
     "text": [
      "Warning: Overfitting detector is active, thus evaluation metric is calculated on every iteration. 'metric_period' is ignored for evaluation metric.\n"
     ]
    },
    {
     "name": "stdout",
     "output_type": "stream",
     "text": [
      "0:\tlearn: 6018.2059356\ttest: 5976.7928248\tbest: 5976.7928248 (0)\ttotal: 2.15s\tremaining: 25m 5s\n",
      "699:\tlearn: 1282.7424165\ttest: 1576.9021731\tbest: 1576.9021731 (699)\ttotal: 11m 42s\tremaining: 0us\n",
      "\n",
      "bestTest = 1576.902173\n",
      "bestIteration = 699\n",
      "\n",
      "fold 2\n"
     ]
    },
    {
     "name": "stderr",
     "output_type": "stream",
     "text": [
      "Warning: Overfitting detector is active, thus evaluation metric is calculated on every iteration. 'metric_period' is ignored for evaluation metric.\n"
     ]
    },
    {
     "name": "stdout",
     "output_type": "stream",
     "text": [
      "0:\tlearn: 5983.0533680\ttest: 6120.4743466\tbest: 6120.4743466 (0)\ttotal: 2.04s\tremaining: 23m 45s\n",
      "699:\tlearn: 1299.4010973\ttest: 1585.3425823\tbest: 1585.3425823 (699)\ttotal: 11m 52s\tremaining: 0us\n",
      "\n",
      "bestTest = 1585.342582\n",
      "bestIteration = 699\n",
      "\n",
      "fold 3\n"
     ]
    },
    {
     "name": "stderr",
     "output_type": "stream",
     "text": [
      "Warning: Overfitting detector is active, thus evaluation metric is calculated on every iteration. 'metric_period' is ignored for evaluation metric.\n"
     ]
    },
    {
     "name": "stdout",
     "output_type": "stream",
     "text": [
      "0:\tlearn: 6038.9891674\ttest: 5891.6648395\tbest: 5891.6648395 (0)\ttotal: 2.03s\tremaining: 23m 38s\n",
      "699:\tlearn: 1348.7224977\ttest: 1358.4701627\tbest: 1358.4417888 (693)\ttotal: 11m 27s\tremaining: 0us\n",
      "\n",
      "bestTest = 1358.441789\n",
      "bestIteration = 693\n",
      "\n",
      "Shrink model to first 694 iterations.\n",
      "fold 4\n"
     ]
    },
    {
     "name": "stderr",
     "output_type": "stream",
     "text": [
      "Warning: Overfitting detector is active, thus evaluation metric is calculated on every iteration. 'metric_period' is ignored for evaluation metric.\n"
     ]
    },
    {
     "name": "stdout",
     "output_type": "stream",
     "text": [
      "0:\tlearn: 6005.7716665\ttest: 6018.6627485\tbest: 6018.6627485 (0)\ttotal: 101ms\tremaining: 1m 10s\n",
      "699:\tlearn: 1311.4989933\ttest: 1372.3277219\tbest: 1372.3277219 (699)\ttotal: 13m 35s\tremaining: 0us\n",
      "\n",
      "bestTest = 1372.327722\n",
      "bestIteration = 699\n",
      "\n",
      "CV Score: 0.84101 \n"
     ]
    }
   ],
   "source": [
    "import catboost as cat\n",
    "ctb_params = {\n",
    "\n",
    "    'iterations': 700,\n",
    "    'learning_rate': 0.02,\n",
    "    'depth': 12,\n",
    "    'eval_metric': 'RMSE',\n",
    "    'random_seed' : 23,\n",
    "    'bagging_temperature': 0.2,\n",
    "    'od_type': 'Iter',\n",
    "    'metric_period':  75,\n",
    "    'od_wait': 100\n",
    "    }\n",
    "\n",
    "folds = KFold(n_splits=5, shuffle=True, random_state=2333)\n",
    "\n",
    "oof_cat = np.zeros(len(train))\n",
    "predictions_cat = np.zeros(len(test))\n",
    "feature_importance_df = pd.DataFrame()\n",
    "\n",
    "for fold_, (trn_idx, val_idx) in enumerate(folds.split(train.values, target.values)):\n",
    "    print(\"fold {}\".format(fold_))\n",
    "#     trn_data = lgb.Dataset(train.iloc[trn_idx], label=target.iloc[trn_idx])\n",
    "#     val_data = lgb.Dataset(train.iloc[val_idx], label=target.iloc[val_idx])\n",
    "#     trn_data = lgb.Dataset(train.iloc[trn_idx], label=target.iloc[trn_idx], categorical_feature=categorical_feats)\n",
    "#     val_data = lgb.Dataset(train.iloc[val_idx], label=target.iloc[val_idx], categorical_feature=categorical_feats)\n",
    "\n",
    "#     num_round = 10000\n",
    "    clf = cat.CatBoostRegressor(**ctb_params)\n",
    "    clf.fit(train.iloc[trn_idx], target.iloc[trn_idx], early_stopping_rounds=200, verbose_eval=3000,\n",
    "                use_best_model=True,eval_set=(train.iloc[val_idx], target.iloc[val_idx]))\n",
    "    oof_cat[val_idx] = clf.predict(train.iloc[val_idx])\n",
    "    predictions_cat += clf.predict(test) / folds.n_splits\n",
    "#     predictions_cat += clf.predict(test, bestIteration =clf.get_best_iteration) / folds.n_splits\n",
    "    \n",
    "print(\"CV Score: {:<8.5f}\".format(r2_score(target, oof_cat)))"
   ]
  },
  {
   "cell_type": "code",
   "execution_count": 58,
   "metadata": {},
   "outputs": [
    {
     "name": "stdout",
     "output_type": "stream",
     "text": [
      "预测结果最大值：16808.69221997673,预测结果最小值：1284.223769271045\n",
      "0.9039447939560377\n"
     ]
    },
    {
     "data": {
      "text/plain": [
       "0.9039447939560377"
      ]
     },
     "execution_count": 58,
     "metadata": {},
     "output_type": "execute_result"
    }
   ],
   "source": [
    "online_score(predictions_cat)"
   ]
  },
  {
   "cell_type": "markdown",
   "metadata": {},
   "source": [
    "### hyperopt"
   ]
  },
  {
   "cell_type": "code",
   "execution_count": null,
   "metadata": {},
   "outputs": [],
   "source": [
    "# https://www.jianshu.com/p/35eed1567463"
   ]
  },
  {
   "cell_type": "markdown",
   "metadata": {},
   "source": [
    "### Gridsearch"
   ]
  },
  {
   "cell_type": "code",
   "execution_count": null,
   "metadata": {},
   "outputs": [],
   "source": [
    "cv_params = {'n_estimators': [20,40,60]}\n",
    "other_params = {'random_state': 2019}\n",
    "\n",
    "model =  RandomForestClassifier(**other_params)\n",
    "optimized_rf = GridSearchCV(estimator=model, param_grid = cv_params,scoring ='roc_auc', cv=5)\n",
    "optimized_rf.fit(x_train, y_train)\n",
    "evalute_result = optimized_rf.cv_results_\n",
    "print('每轮迭代运行结果:{0}'.format(evalute_result))\n",
    "print('参数的最佳取值：{0}'.format(optimized_rf.best_params_))\n",
    "print('最佳模型得分:{0}'.format(optimized_rf.best_score_))\n",
    "print(\"test结果\",optimized_rf.score(x_test, y_test))"
   ]
  },
  {
   "cell_type": "code",
   "execution_count": null,
   "metadata": {},
   "outputs": [],
   "source": []
  },
  {
   "cell_type": "markdown",
   "metadata": {},
   "source": [
    "## 总结"
   ]
  }
 ],
 "metadata": {
  "kernelspec": {
   "display_name": "Python 3",
   "language": "python",
   "name": "python3"
  },
  "language_info": {
   "codemirror_mode": {
    "name": "ipython",
    "version": 3
   },
   "file_extension": ".py",
   "mimetype": "text/x-python",
   "name": "python",
   "nbconvert_exporter": "python",
   "pygments_lexer": "ipython3",
   "version": "3.7.0"
  }
 },
 "nbformat": 4,
 "nbformat_minor": 2
}
