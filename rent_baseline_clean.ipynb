{
 "cells": [
  {
   "cell_type": "code",
   "execution_count": 1,
   "metadata": {},
   "outputs": [],
   "source": [
    "import pandas as pd\n",
    "import numpy as np\n",
    "import matplotlib.pyplot as plt\n",
    "import seaborn as sns\n",
    "import warnings\n",
    "warnings.filterwarnings(\"ignore\")"
   ]
  },
  {
   "cell_type": "code",
   "execution_count": 2,
   "metadata": {},
   "outputs": [],
   "source": [
    "from sklearn.preprocessing import LabelEncoder\n",
    "from sklearn.model_selection import KFold\n",
    "from sklearn.metrics import r2_score\n",
    "import lightgbm as lgb"
   ]
  },
  {
   "cell_type": "code",
   "execution_count": 3,
   "metadata": {},
   "outputs": [],
   "source": [
    "train_data = pd.read_csv(\"./train_data.csv\")\n",
    "test_data = pd.read_csv(\"./test_a.csv\")"
   ]
  },
  {
   "cell_type": "code",
   "execution_count": 4,
   "metadata": {},
   "outputs": [],
   "source": [
    "train_data = train_data.drop([\"ID\",\"city\"],axis = 1)\n",
    "test_data = test_data.drop([\"ID\",\"city\"],axis = 1)"
   ]
  },
  {
   "cell_type": "code",
   "execution_count": 5,
   "metadata": {},
   "outputs": [],
   "source": [
    "for df in [train_data,test_data]:\n",
    "    df['rentType'][df['rentType']=='--'] = '未知方式'\n",
    "    # 转换object类型数据\n",
    "    columns = ['rentType', 'houseFloor', 'houseToward', 'houseDecoration', 'communityName', 'region', 'plate']\n",
    "    for col in columns:\n",
    "        df[col] = df[col].astype('category')"
   ]
  },
  {
   "cell_type": "code",
   "execution_count": 6,
   "metadata": {},
   "outputs": [],
   "source": [
    "for df in [train_data,test_data]:\n",
    "    tmp = df['buildYear'].copy()\n",
    "    tmp2 = tmp[tmp!='暂无信息'].astype('int')\n",
    "    tmp[tmp=='暂无信息'] = tmp2.mode().iloc[0]\n",
    "    df['buildYear'] = tmp\n",
    "    df['buildYear'] = df['buildYear'].astype('int')\n",
    "    \n",
    "    df['pv'].fillna(df['pv'].mean(),inplace=True)\n",
    "    df['uv'].fillna(df['uv'].mean(),inplace=True)\n",
    "    df['pv'] = df['pv'].astype('int')\n",
    "    df['uv'] = df['uv'].astype('int')\n",
    "    df.drop('communityName',axis=1, inplace=True)"
   ]
  },
  {
   "cell_type": "code",
   "execution_count": 7,
   "metadata": {},
   "outputs": [],
   "source": [
    "for df in [train_data,test_data]:\n",
    "    # 将houseType转化为‘房间数’，‘厅数’，‘卫生间数’\n",
    "    def parseRoom(info, index):\n",
    "        res = int(info[index*2])\n",
    "        return res\n",
    "    df.insert(3,'室',None)\n",
    "    df.insert(4, '厅', None)\n",
    "    df.insert(5, '卫', None)\n",
    "    df['室'] = df['houseType'].apply(parseRoom, index=0)\n",
    "    df['厅'] = df['houseType'].apply(parseRoom, index=1)\n",
    "    df['卫'] = df['houseType'].apply(parseRoom, index=2)\n",
    "    \n",
    "    df['交易月份'] = df['tradeTime'].apply(lambda x: int(x.split('/')[1]))\n",
    "#     df['pv/uv'] = df['pv'] / df['uv']\n",
    "#     df['房间总数'] = df['室'] + df['厅'] + df['卫']\n",
    "    \n",
    "    df.drop('houseType', axis=1, inplace=True)\n",
    "    df.drop('tradeTime', axis=1, inplace=True)"
   ]
  },
  {
   "cell_type": "markdown",
   "metadata": {},
   "source": [
    "### 简单数据清洗"
   ]
  },
  {
   "cell_type": "code",
   "execution_count": 8,
   "metadata": {},
   "outputs": [],
   "source": [
    "train_data = train_data[train_data['area']<=700]\n",
    "train_data = train_data[train_data['tradeMoney']<=100000]"
   ]
  },
  {
   "cell_type": "markdown",
   "metadata": {},
   "source": [
    "### new1 删除离群点"
   ]
  },
  {
   "cell_type": "code",
   "execution_count": 9,
   "metadata": {},
   "outputs": [],
   "source": [
    "train_data = train_data[train_data[\"area\"]<400]\n",
    "train_data = train_data[(train_data[\"area\"]<400)&(train_data[\"tradeMoney\"]<60000)]\n",
    "train_data = train_data.drop(train_data[(train_data['area']<130)&(train_data[\"tradeMoney\"]>40000)].index)\n",
    "train_data = train_data.drop(train_data[(train_data['area']>350)&(train_data[\"tradeMoney\"]<5000)].index)\n",
    "train_data = train_data.drop(train_data[train_data[\"tradeMoney\"]<1].index)\n",
    "train_data = train_data.drop(train_data[train_data[\"area\"]<10].index)"
   ]
  },
  {
   "cell_type": "markdown",
   "metadata": {},
   "source": [
    "### new2 删除test中没有的值"
   ]
  },
  {
   "cell_type": "code",
   "execution_count": 10,
   "metadata": {},
   "outputs": [],
   "source": [
    "train_data = train_data.drop(train_data[train_data['室']==0].index)\n",
    "train_data = train_data.drop(train_data[train_data['室']==7].index)\n",
    "train_data = train_data.drop(train_data[train_data['室']==8].index)\n",
    "train_data = train_data.drop(train_data[train_data['室']==9].index)\n",
    "\n",
    "train_data = train_data.drop(train_data[train_data['厅']==4].index)\n",
    "train_data = train_data.drop(train_data[train_data['厅']==5].index)\n",
    "\n",
    "train_data = train_data.drop(train_data[train_data['卫']==8].index)\n",
    "train_data = train_data.drop(train_data[train_data['卫']==7].index)\n",
    "train_data = train_data.drop(train_data[train_data['卫']==5].index)"
   ]
  },
  {
   "cell_type": "markdown",
   "metadata": {},
   "source": [
    "### new3 删除test中没有的值"
   ]
  },
  {
   "cell_type": "code",
   "execution_count": 11,
   "metadata": {},
   "outputs": [],
   "source": [
    "train_data = train_data.drop(train_data[train_data['region']==\"RG00015\"].index)"
   ]
  },
  {
   "cell_type": "markdown",
   "metadata": {},
   "source": [
    "### new4 删除test中没有的值"
   ]
  },
  {
   "cell_type": "code",
   "execution_count": 12,
   "metadata": {},
   "outputs": [],
   "source": [
    "trian_data = train_data.drop(train_data[(train_data[\"plate\"] == \"BK00058\")|(train_data[\"plate\"] == \"BK00032\")].index)"
   ]
  },
  {
   "cell_type": "code",
   "execution_count": null,
   "metadata": {},
   "outputs": [],
   "source": []
  },
  {
   "cell_type": "code",
   "execution_count": 13,
   "metadata": {},
   "outputs": [],
   "source": [
    "columns = ['rentType', 'houseFloor', 'houseToward', 'houseDecoration', 'region', 'plate']\n",
    "for col in columns:\n",
    "    train_data[col] = train_data[col].astype('category')\n",
    "    test_data[col] = test_data[col].astype('category')"
   ]
  },
  {
   "cell_type": "code",
   "execution_count": 14,
   "metadata": {},
   "outputs": [],
   "source": [
    "train = train_data.drop([\"tradeMoney\"],axis = 1)\n",
    "target = train_data[\"tradeMoney\"]"
   ]
  },
  {
   "cell_type": "code",
   "execution_count": 15,
   "metadata": {},
   "outputs": [],
   "source": [
    "test = test_data"
   ]
  },
  {
   "cell_type": "code",
   "execution_count": 16,
   "metadata": {},
   "outputs": [],
   "source": [
    "features = train.columns"
   ]
  },
  {
   "cell_type": "code",
   "execution_count": 17,
   "metadata": {},
   "outputs": [],
   "source": [
    "categorical_feats = ['rentType', 'houseFloor', 'houseToward', 'houseDecoration', 'region', 'plate']"
   ]
  },
  {
   "cell_type": "code",
   "execution_count": 18,
   "metadata": {},
   "outputs": [],
   "source": [
    "params = {\n",
    "    'num_leaves': 31,\n",
    "    'min_data_in_leaf': 20,\n",
    "    'min_child_samples':20,\n",
    "    'objective': 'regression',\n",
    "    'learning_rate': 0.01,\n",
    "    \"boosting\": \"gbdt\",\n",
    "    \"feature_fraction\": 0.8,\n",
    "    \"bagging_freq\": 1,\n",
    "    \"bagging_fraction\": 0.85,\n",
    "    \"bagging_seed\": 23,\n",
    "    \"metric\": 'rmse',\n",
    "    \"lambda_l1\": 0.2,\n",
    "    \"nthread\": 4,\n",
    "}"
   ]
  },
  {
   "cell_type": "code",
   "execution_count": 19,
   "metadata": {},
   "outputs": [
    {
     "name": "stdout",
     "output_type": "stream",
     "text": [
      "fold 0\n",
      "Training until validation scores don't improve for 200 rounds.\n",
      "[500]\ttraining's rmse: 1164.7\tvalid_1's rmse: 1248.58\n",
      "[1000]\ttraining's rmse: 1017.84\tvalid_1's rmse: 1199.14\n",
      "[1500]\ttraining's rmse: 930.705\tvalid_1's rmse: 1181.53\n",
      "[2000]\ttraining's rmse: 866.88\tvalid_1's rmse: 1170.3\n",
      "[2500]\ttraining's rmse: 817.318\tvalid_1's rmse: 1163.61\n",
      "[3000]\ttraining's rmse: 777.401\tvalid_1's rmse: 1160.06\n",
      "[3500]\ttraining's rmse: 744.026\tvalid_1's rmse: 1157.5\n",
      "[4000]\ttraining's rmse: 714.802\tvalid_1's rmse: 1155.69\n",
      "[4500]\ttraining's rmse: 689.741\tvalid_1's rmse: 1154.01\n",
      "Early stopping, best iteration is:\n",
      "[4579]\ttraining's rmse: 686.181\tvalid_1's rmse: 1153.78\n",
      "fold 1\n",
      "Training until validation scores don't improve for 200 rounds.\n",
      "[500]\ttraining's rmse: 1172.43\tvalid_1's rmse: 1276.46\n",
      "[1000]\ttraining's rmse: 1033.25\tvalid_1's rmse: 1224.48\n",
      "[1500]\ttraining's rmse: 949.048\tvalid_1's rmse: 1197.65\n",
      "[2000]\ttraining's rmse: 887.334\tvalid_1's rmse: 1181.31\n",
      "[2500]\ttraining's rmse: 839.111\tvalid_1's rmse: 1172.11\n",
      "[3000]\ttraining's rmse: 798.923\tvalid_1's rmse: 1164.64\n",
      "[3500]\ttraining's rmse: 765.966\tvalid_1's rmse: 1160.83\n",
      "[4000]\ttraining's rmse: 737.069\tvalid_1's rmse: 1157.92\n",
      "[4500]\ttraining's rmse: 711.531\tvalid_1's rmse: 1156.2\n",
      "[5000]\ttraining's rmse: 688.874\tvalid_1's rmse: 1153.44\n",
      "[5500]\ttraining's rmse: 668.509\tvalid_1's rmse: 1152.69\n",
      "Early stopping, best iteration is:\n",
      "[5524]\ttraining's rmse: 667.554\tvalid_1's rmse: 1152.5\n",
      "fold 2\n",
      "Training until validation scores don't improve for 200 rounds.\n",
      "[500]\ttraining's rmse: 1149.78\tvalid_1's rmse: 1390.17\n",
      "[1000]\ttraining's rmse: 1007.47\tvalid_1's rmse: 1355.61\n",
      "[1500]\ttraining's rmse: 924.649\tvalid_1's rmse: 1343.66\n",
      "[2000]\ttraining's rmse: 862.923\tvalid_1's rmse: 1333\n",
      "[2500]\ttraining's rmse: 816.288\tvalid_1's rmse: 1326.19\n",
      "[3000]\ttraining's rmse: 778.34\tvalid_1's rmse: 1321.44\n",
      "[3500]\ttraining's rmse: 746.455\tvalid_1's rmse: 1317.96\n",
      "[4000]\ttraining's rmse: 718.55\tvalid_1's rmse: 1315.49\n",
      "[4500]\ttraining's rmse: 694.244\tvalid_1's rmse: 1313.88\n",
      "[5000]\ttraining's rmse: 672.979\tvalid_1's rmse: 1312.52\n",
      "[5500]\ttraining's rmse: 653.689\tvalid_1's rmse: 1311.45\n",
      "[6000]\ttraining's rmse: 635.876\tvalid_1's rmse: 1310.82\n",
      "[6500]\ttraining's rmse: 619.508\tvalid_1's rmse: 1309.97\n",
      "Early stopping, best iteration is:\n",
      "[6387]\ttraining's rmse: 623.052\tvalid_1's rmse: 1309.86\n",
      "fold 3\n",
      "Training until validation scores don't improve for 200 rounds.\n",
      "[500]\ttraining's rmse: 1123.01\tvalid_1's rmse: 1480.61\n",
      "[1000]\ttraining's rmse: 983.836\tvalid_1's rmse: 1431.17\n",
      "[1500]\ttraining's rmse: 903.444\tvalid_1's rmse: 1409.34\n",
      "[2000]\ttraining's rmse: 846.013\tvalid_1's rmse: 1397.29\n",
      "[2500]\ttraining's rmse: 801.888\tvalid_1's rmse: 1389.04\n",
      "[3000]\ttraining's rmse: 766.073\tvalid_1's rmse: 1382.81\n",
      "[3500]\ttraining's rmse: 735.651\tvalid_1's rmse: 1378.69\n",
      "[4000]\ttraining's rmse: 709.178\tvalid_1's rmse: 1375.52\n",
      "[4500]\ttraining's rmse: 685.537\tvalid_1's rmse: 1373.38\n",
      "[5000]\ttraining's rmse: 664.551\tvalid_1's rmse: 1371.4\n",
      "[5500]\ttraining's rmse: 646.071\tvalid_1's rmse: 1370.13\n",
      "[6000]\ttraining's rmse: 628.981\tvalid_1's rmse: 1369.05\n",
      "[6500]\ttraining's rmse: 612.992\tvalid_1's rmse: 1367.95\n",
      "[7000]\ttraining's rmse: 598.096\tvalid_1's rmse: 1366.74\n",
      "Early stopping, best iteration is:\n",
      "[7009]\ttraining's rmse: 597.842\tvalid_1's rmse: 1366.7\n",
      "fold 4\n",
      "Training until validation scores don't improve for 200 rounds.\n",
      "[500]\ttraining's rmse: 1154.41\tvalid_1's rmse: 1330.76\n",
      "[1000]\ttraining's rmse: 1011.88\tvalid_1's rmse: 1282.5\n",
      "[1500]\ttraining's rmse: 927.685\tvalid_1's rmse: 1261.68\n",
      "[2000]\ttraining's rmse: 866.164\tvalid_1's rmse: 1249.96\n",
      "[2500]\ttraining's rmse: 818.19\tvalid_1's rmse: 1243.01\n",
      "[3000]\ttraining's rmse: 779.937\tvalid_1's rmse: 1239.56\n",
      "[3500]\ttraining's rmse: 747.057\tvalid_1's rmse: 1237.23\n",
      "[4000]\ttraining's rmse: 718.909\tvalid_1's rmse: 1235.9\n",
      "[4500]\ttraining's rmse: 694.196\tvalid_1's rmse: 1235.18\n",
      "Early stopping, best iteration is:\n",
      "[4429]\ttraining's rmse: 697.497\tvalid_1's rmse: 1234.82\n",
      "CV Score: 0.88850 \n"
     ]
    }
   ],
   "source": [
    "folds = KFold(n_splits=5, shuffle=True, random_state=2333)\n",
    "\n",
    "oof_lgb = np.zeros(len(train))\n",
    "predictions_lgb = np.zeros(len(test))\n",
    "feature_importance_df = pd.DataFrame()\n",
    "\n",
    "for fold_, (trn_idx, val_idx) in enumerate(folds.split(train.values, target.values)):\n",
    "    print(\"fold {}\".format(fold_))\n",
    "    trn_data = lgb.Dataset(train.iloc[trn_idx], label=target.iloc[trn_idx])# categorical_feature=categorical_feats)\n",
    "    val_data = lgb.Dataset(train.iloc[val_idx], label=target.iloc[val_idx])#, categorical_feature=categorical_feats)\n",
    "\n",
    "    num_round = 10000\n",
    "    clf = lgb.train(params, trn_data, num_round, valid_sets = [trn_data, val_data], verbose_eval=500, early_stopping_rounds = 200)\n",
    "    \n",
    "    oof_lgb[val_idx] = clf.predict(train.iloc[val_idx], num_iteration=clf.best_iteration)\n",
    "    \n",
    "    fold_importance_df = pd.DataFrame()\n",
    "    fold_importance_df[\"feature\"] = features\n",
    "    fold_importance_df[\"importance\"] = clf.feature_importance()\n",
    "    fold_importance_df[\"fold\"] = fold_ + 1\n",
    "    feature_importance_df = pd.concat([feature_importance_df, fold_importance_df], axis=0)\n",
    "    \n",
    "    predictions_lgb += clf.predict(test, num_iteration=clf.best_iteration) / folds.n_splits\n",
    "    \n",
    "print(\"CV Score: {:<8.5f}\".format(r2_score(target, oof_lgb)))"
   ]
  },
  {
   "cell_type": "code",
   "execution_count": 20,
   "metadata": {},
   "outputs": [
    {
     "data": {
      "image/png": "[encoded data removed]",
      "text/plain": [
       "<Figure size 1008x2880 with 1 Axes>"
      ]
     },
     "metadata": {
      "needs_background": "light"
     },
     "output_type": "display_data"
    }
   ],
   "source": [
    "cols = (feature_importance_df[[\"feature\", \"importance\"]]\n",
    "        .groupby(\"feature\")\n",
    "        .mean()\n",
    "        .sort_values(by=\"importance\", ascending=False)[:1000].index)\n",
    "\n",
    "best_features = feature_importance_df.loc[feature_importance_df.feature.isin(cols)]\n",
    "\n",
    "plt.figure(figsize=(14,40))\n",
    "sns.barplot(x=\"importance\",\n",
    "            y=\"feature\",\n",
    "            data=best_features.sort_values(by=\"importance\",\n",
    "                                           ascending=False))\n",
    "plt.title('LightGBM Features (avg over folds)')\n",
    "plt.tight_layout()"
   ]
  },
  {
   "cell_type": "code",
   "execution_count": 21,
   "metadata": {},
   "outputs": [],
   "source": [
    "from sklearn.metrics import r2_score\n",
    "def online_score(pred):\n",
    "    print(\"预测结果最大值：{},预测结果最小值：{}\".format(pred.max(),pred.min()))\n",
    "    # a榜测分\n",
    "    conmbine1 = pd.read_csv(\"./label.csv\",engine = \"python\")#,header=None)\n",
    "    score1 = r2_score(pred, conmbine1)\n",
    "    print(score1)\n",
    "    return score1\n",
    "#     # b榜测分\n",
    "#     conmbine3 = pd.read_csv(\"D:/城市-房产租金预测/best_result/sub_b_9194.csv\",engine = \"python\",header=None)\n",
    "#     score3= r2_score(pred, conmbine3)\n",
    "#     print(\"对比919分数:{}\".format(score3))"
   ]
  },
  {
   "cell_type": "code",
   "execution_count": 22,
   "metadata": {},
   "outputs": [
    {
     "name": "stdout",
     "output_type": "stream",
     "text": [
      "预测结果最大值：18426.363255970824,预测结果最小值：1185.083173384089\n",
      "0.9444507730528925\n"
     ]
    },
    {
     "data": {
      "text/plain": [
       "0.9444507730528925"
      ]
     },
     "execution_count": 22,
     "metadata": {},
     "output_type": "execute_result"
    }
   ],
   "source": [
    "online_score(predictions_lgb)"
   ]
  },
  {
   "cell_type": "markdown",
   "metadata": {},
   "source": [
    "## 总结"
   ]
  },
  {
   "cell_type": "markdown",
   "metadata": {},
   "source": [
    "- 将df['rentType']=='--'] = '整租'\n",
    "- CV Score: 0.85731   预测结果最大值：18177.733785863074,预测结果最小值：1228.779497581945  \n",
    "- 0.9442933247391354\n"
   ]
  },
  {
   "cell_type": "markdown",
   "metadata": {},
   "source": [
    "- new1 保留\n",
    "- CV Score: 0.88723  预测结果最大值：18489.997703395627,预测结果最小值：1174.9162147336515 \n",
    "- 0.944920995098575"
   ]
  },
  {
   "cell_type": "markdown",
   "metadata": {},
   "source": [
    "- new2 保留\n",
    "- CV Score: 0.88174   预测结果最大值：18489.997703395627,预测结果最小值：1174.9162147336515 \n",
    "- 0.9452379372063975"
   ]
  },
  {
   "cell_type": "markdown",
   "metadata": {},
   "source": [
    "- new3 保留\n",
    "- CV Score: 0.88804    预测结果最大值：18376.470022865135,预测结果最小值：1190.7674437768417\n",
    "- 0.9446775135402933"
   ]
  },
  {
   "cell_type": "markdown",
   "metadata": {},
   "source": [
    "- new4 \n",
    "- 无影响"
   ]
  },
  {
   "cell_type": "code",
   "execution_count": null,
   "metadata": {},
   "outputs": [],
   "source": []
  }
 ],
 "metadata": {
  "kernelspec": {
   "display_name": "Python 3",
   "language": "python",
   "name": "python3"
  },
  "language_info": {
   "codemirror_mode": {
    "name": "ipython",
    "version": 3
   },
   "file_extension": ".py",
   "mimetype": "text/x-python",
   "name": "python",
   "nbconvert_exporter": "python",
   "pygments_lexer": "ipython3",
   "version": "3.6.6"
  }
 },
 "nbformat": 4,
 "nbformat_minor": 2
}
