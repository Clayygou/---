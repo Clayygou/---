{
 "cells": [
  {
   "cell_type": "markdown",
   "metadata": {},
   "source": [
    "# 数据清洗"
   ]
  },
  {
   "cell_type": "code",
   "execution_count": 1,
   "metadata": {},
   "outputs": [],
   "source": [
    "import pandas as pd\n",
    "import numpy as np\n",
    "\n",
    "import warnings\n",
    "warnings.filterwarnings(\"ignore\")\n",
    "import matplotlib.pyplot as plt\n",
    "import seaborn as sns\n",
    "%matplotlib inline"
   ]
  },
  {
   "cell_type": "code",
   "execution_count": 2,
   "metadata": {},
   "outputs": [],
   "source": [
    "from sklearn.preprocessing import LabelEncoder"
   ]
  },
  {
   "cell_type": "code",
   "execution_count": 3,
   "metadata": {},
   "outputs": [],
   "source": [
    "pd.set_option('display.max_columns', None)"
   ]
  },
  {
   "cell_type": "code",
   "execution_count": 4,
   "metadata": {},
   "outputs": [],
   "source": [
    "train_data = pd.read_csv(\"./train_data.csv\")\n",
    "test_data = pd.read_csv(\"./test_a.csv\")"
   ]
  },
  {
   "cell_type": "code",
   "execution_count": 5,
   "metadata": {
    "scrolled": true
   },
   "outputs": [
    {
     "name": "stdout",
     "output_type": "stream",
     "text": [
      "train_data.shape = (41440, 51)\n",
      "test_data.shape = (2469, 50)\n"
     ]
    }
   ],
   "source": [
    "print('train_data.shape = {}'.format(train_data.shape)) \n",
    "print('test_data.shape = {}'.format(test_data.shape))"
   ]
  },
  {
   "cell_type": "code",
   "execution_count": 6,
   "metadata": {},
   "outputs": [
    {
     "data": {
      "text/plain": [
       "Index(['ID', 'area', 'rentType', 'houseType', 'houseFloor', 'totalFloor',\n",
       "       'houseToward', 'houseDecoration', 'communityName', 'city', 'region',\n",
       "       'plate', 'buildYear', 'saleSecHouseNum', 'subwayStationNum',\n",
       "       'busStationNum', 'interSchoolNum', 'schoolNum', 'privateSchoolNum',\n",
       "       'hospitalNum', 'drugStoreNum', 'gymNum', 'bankNum', 'shopNum',\n",
       "       'parkNum', 'mallNum', 'superMarketNum', 'totalTradeMoney',\n",
       "       'totalTradeArea', 'tradeMeanPrice', 'tradeSecNum', 'totalNewTradeMoney',\n",
       "       'totalNewTradeArea', 'tradeNewMeanPrice', 'tradeNewNum', 'remainNewNum',\n",
       "       'supplyNewNum', 'supplyLandNum', 'supplyLandArea', 'tradeLandNum',\n",
       "       'tradeLandArea', 'landTotalPrice', 'landMeanPrice', 'totalWorkers',\n",
       "       'newWorkers', 'residentPopulation', 'pv', 'uv', 'lookNum', 'tradeTime',\n",
       "       'tradeMoney'],\n",
       "      dtype='object')"
      ]
     },
     "execution_count": 6,
     "metadata": {},
     "output_type": "execute_result"
    }
   ],
   "source": [
    "train_data.columns"
   ]
  },
  {
   "cell_type": "markdown",
   "metadata": {},
   "source": [
    "## 1.缺失值"
   ]
  },
  {
   "cell_type": "code",
   "execution_count": 7,
   "metadata": {
    "scrolled": true
   },
   "outputs": [
    {
     "data": {
      "text/plain": [
       "(ID                     0\n",
       " area                   0\n",
       " rentType               0\n",
       " houseType              0\n",
       " houseFloor             0\n",
       " totalFloor             0\n",
       " houseToward            0\n",
       " houseDecoration        0\n",
       " communityName          0\n",
       " city                   0\n",
       " region                 0\n",
       " plate                  0\n",
       " buildYear              0\n",
       " saleSecHouseNum        0\n",
       " subwayStationNum       0\n",
       " busStationNum          0\n",
       " interSchoolNum         0\n",
       " schoolNum              0\n",
       " privateSchoolNum       0\n",
       " hospitalNum            0\n",
       " drugStoreNum           0\n",
       " gymNum                 0\n",
       " bankNum                0\n",
       " shopNum                0\n",
       " parkNum                0\n",
       " mallNum                0\n",
       " superMarketNum         0\n",
       " totalTradeMoney        0\n",
       " totalTradeArea         0\n",
       " tradeMeanPrice         0\n",
       " tradeSecNum            0\n",
       " totalNewTradeMoney     0\n",
       " totalNewTradeArea      0\n",
       " tradeNewMeanPrice      0\n",
       " tradeNewNum            0\n",
       " remainNewNum           0\n",
       " supplyNewNum           0\n",
       " supplyLandNum          0\n",
       " supplyLandArea         0\n",
       " tradeLandNum           0\n",
       " tradeLandArea          0\n",
       " landTotalPrice         0\n",
       " landMeanPrice          0\n",
       " totalWorkers           0\n",
       " newWorkers             0\n",
       " residentPopulation     0\n",
       " pv                    18\n",
       " uv                    18\n",
       " lookNum                0\n",
       " tradeTime              0\n",
       " tradeMoney             0\n",
       " dtype: int64, ID                    0\n",
       " area                  0\n",
       " rentType              0\n",
       " houseType             0\n",
       " houseFloor            0\n",
       " totalFloor            0\n",
       " houseToward           0\n",
       " houseDecoration       0\n",
       " communityName         0\n",
       " city                  0\n",
       " region                0\n",
       " plate                 0\n",
       " buildYear             0\n",
       " saleSecHouseNum       0\n",
       " subwayStationNum      0\n",
       " busStationNum         0\n",
       " interSchoolNum        0\n",
       " schoolNum             0\n",
       " privateSchoolNum      0\n",
       " hospitalNum           0\n",
       " drugStoreNum          0\n",
       " gymNum                0\n",
       " bankNum               0\n",
       " shopNum               0\n",
       " parkNum               0\n",
       " mallNum               0\n",
       " superMarketNum        0\n",
       " totalTradeMoney       0\n",
       " totalTradeArea        0\n",
       " tradeMeanPrice        0\n",
       " tradeSecNum           0\n",
       " totalNewTradeMoney    0\n",
       " totalNewTradeArea     0\n",
       " tradeNewMeanPrice     0\n",
       " tradeNewNum           0\n",
       " remainNewNum          0\n",
       " supplyNewNum          0\n",
       " supplyLandNum         0\n",
       " supplyLandArea        0\n",
       " tradeLandNum          0\n",
       " tradeLandArea         0\n",
       " landTotalPrice        0\n",
       " landMeanPrice         0\n",
       " totalWorkers          0\n",
       " newWorkers            0\n",
       " residentPopulation    0\n",
       " pv                    2\n",
       " uv                    2\n",
       " lookNum               0\n",
       " tradeTime             0\n",
       " dtype: int64)"
      ]
     },
     "execution_count": 7,
     "metadata": {},
     "output_type": "execute_result"
    }
   ],
   "source": [
    "train_data.isnull().sum(),test_data.isnull().sum()"
   ]
  },
  {
   "cell_type": "code",
   "execution_count": 8,
   "metadata": {
    "scrolled": true
   },
   "outputs": [
    {
     "data": {
      "text/plain": [
       "(count    41422.000000\n",
       " mean      3089.077085\n",
       " std       2954.706517\n",
       " min          6.000000\n",
       " 25%       1053.000000\n",
       " 50%       2375.000000\n",
       " 75%       4233.000000\n",
       " max      39876.000000\n",
       " Name: uv, dtype: float64, count     41422.000000\n",
       " mean      26945.663512\n",
       " std       32174.637924\n",
       " min          17.000000\n",
       " 25%        7928.000000\n",
       " 50%       20196.000000\n",
       " 75%       34485.000000\n",
       " max      621864.000000\n",
       " Name: pv, dtype: float64)"
      ]
     },
     "execution_count": 8,
     "metadata": {},
     "output_type": "execute_result"
    }
   ],
   "source": [
    "train_data[\"uv\"].describe(),train_data[\"pv\"].describe()"
   ]
  },
  {
   "cell_type": "code",
   "execution_count": 9,
   "metadata": {},
   "outputs": [
    {
     "name": "stderr",
     "output_type": "stream",
     "text": [
      "G:\\tools\\Anaconda\\lib\\site-packages\\matplotlib\\axes\\_axes.py:6521: MatplotlibDeprecationWarning: \n",
      "The 'normed' kwarg was deprecated in Matplotlib 2.1 and will be removed in 3.1. Use 'density' instead.\n",
      "  alternative=\"'density'\", removal=\"3.1\")\n",
      "G:\\tools\\Anaconda\\lib\\site-packages\\matplotlib\\axes\\_axes.py:6521: MatplotlibDeprecationWarning: \n",
      "The 'normed' kwarg was deprecated in Matplotlib 2.1 and will be removed in 3.1. Use 'density' instead.\n",
      "  alternative=\"'density'\", removal=\"3.1\")\n",
      "G:\\tools\\Anaconda\\lib\\site-packages\\matplotlib\\axes\\_axes.py:6521: MatplotlibDeprecationWarning: \n",
      "The 'normed' kwarg was deprecated in Matplotlib 2.1 and will be removed in 3.1. Use 'density' instead.\n",
      "  alternative=\"'density'\", removal=\"3.1\")\n",
      "G:\\tools\\Anaconda\\lib\\site-packages\\matplotlib\\axes\\_axes.py:6521: MatplotlibDeprecationWarning: \n",
      "The 'normed' kwarg was deprecated in Matplotlib 2.1 and will be removed in 3.1. Use 'density' instead.\n",
      "  alternative=\"'density'\", removal=\"3.1\")\n"
     ]
    },
    {
     "data": {
      "text/plain": [
       "<matplotlib.legend.Legend at 0x21d72719198>"
      ]
     },
     "execution_count": 9,
     "metadata": {},
     "output_type": "execute_result"
    },
    {
     "data": {
      "image/png": "[encoded data removed]",
      "text/plain": [
       "<Figure size 720x288 with 1 Axes>"
      ]
     },
     "metadata": {
      "needs_background": "light"
     },
     "output_type": "display_data"
    },
    {
     "data": {
      "image/png": "[encoded data removed]",
      "text/plain": [
       "<Figure size 720x288 with 1 Axes>"
      ]
     },
     "metadata": {
      "needs_background": "light"
     },
     "output_type": "display_data"
    }
   ],
   "source": [
    "plt.figure(figsize=(10,4))\n",
    "sns.distplot(train_data[\"uv\"], bins=50)\n",
    "sns.distplot(test_data[\"uv\"], bins=50) \n",
    "plt.title('uv', fontsize=20)\n",
    "plt.legend(['train','test'])\n",
    "plt.figure(figsize=(10,4))\n",
    "sns.distplot(train_data[\"pv\"], bins=50)\n",
    "sns.distplot(test_data[\"pv\"], bins=50) \n",
    "plt.title('pv', fontsize=20)\n",
    "plt.legend(['train','test'])"
   ]
  },
  {
   "cell_type": "code",
   "execution_count": 10,
   "metadata": {
    "scrolled": true
   },
   "outputs": [],
   "source": [
    "train_data[\"uv\"].fillna(train_data[\"uv\"].median(),inplace = True) \n",
    "train_data[\"pv\"].fillna(train_data[\"pv\"].median(),inplace = True) \n",
    "test_data[\"uv\"].fillna(test_data[\"uv\"].median(),inplace = True) \n",
    "test_data[\"pv\"].fillna(test_data[\"pv\"].median(),inplace = True) "
   ]
  },
  {
   "cell_type": "code",
   "execution_count": 11,
   "metadata": {},
   "outputs": [
    {
     "data": {
      "text/plain": [
       "(0, 0)"
      ]
     },
     "execution_count": 11,
     "metadata": {},
     "output_type": "execute_result"
    }
   ],
   "source": [
    "train_data.isnull().sum().sum(),test_data.isnull().sum().sum()"
   ]
  },
  {
   "cell_type": "markdown",
   "metadata": {},
   "source": [
    "### uv和pv训练集和测试集分布类似，存在长尾现象，所以用中位数填充"
   ]
  },
  {
   "cell_type": "markdown",
   "metadata": {},
   "source": [
    "## 2. 异常值处理"
   ]
  },
  {
   "cell_type": "markdown",
   "metadata": {},
   "source": [
    "- 分析面积和价格"
   ]
  },
  {
   "cell_type": "code",
   "execution_count": 12,
   "metadata": {},
   "outputs": [
    {
     "name": "stderr",
     "output_type": "stream",
     "text": [
      "G:\\tools\\Anaconda\\lib\\site-packages\\matplotlib\\axes\\_axes.py:6521: MatplotlibDeprecationWarning: \n",
      "The 'normed' kwarg was deprecated in Matplotlib 2.1 and will be removed in 3.1. Use 'density' instead.\n",
      "  alternative=\"'density'\", removal=\"3.1\")\n",
      "G:\\tools\\Anaconda\\lib\\site-packages\\matplotlib\\axes\\_axes.py:6521: MatplotlibDeprecationWarning: \n",
      "The 'normed' kwarg was deprecated in Matplotlib 2.1 and will be removed in 3.1. Use 'density' instead.\n",
      "  alternative=\"'density'\", removal=\"3.1\")\n"
     ]
    },
    {
     "data": {
      "text/plain": [
       "<matplotlib.legend.Legend at 0x21d7294c2e8>"
      ]
     },
     "execution_count": 12,
     "metadata": {},
     "output_type": "execute_result"
    },
    {
     "data": {
      "image/png": "[encoded data removed]",
      "text/plain": [
       "<Figure size 720x288 with 1 Axes>"
      ]
     },
     "metadata": {
      "needs_background": "light"
     },
     "output_type": "display_data"
    }
   ],
   "source": [
    "plt.figure(figsize=(10,4))\n",
    "sns.distplot(train_data[\"area\"], bins=50)\n",
    "sns.distplot(test_data[\"area\"], bins=50) \n",
    "plt.title('area', fontsize=20)\n",
    "plt.legend(['train','test'])"
   ]
  },
  {
   "cell_type": "code",
   "execution_count": 13,
   "metadata": {},
   "outputs": [
    {
     "data": {
      "text/plain": [
       "count    2469.000000\n",
       "mean       76.031839\n",
       "std        29.080334\n",
       "min        15.000000\n",
       "25%        53.000000\n",
       "50%        73.160000\n",
       "75%        94.320000\n",
       "max       150.000000\n",
       "Name: area, dtype: float64"
      ]
     },
     "execution_count": 13,
     "metadata": {},
     "output_type": "execute_result"
    }
   ],
   "source": [
    "test_data[\"area\"].describe()"
   ]
  },
  {
   "cell_type": "code",
   "execution_count": 14,
   "metadata": {},
   "outputs": [
    {
     "data": {
      "text/plain": [
       "<matplotlib.axes._subplots.AxesSubplot at 0x21d729b77f0>"
      ]
     },
     "execution_count": 14,
     "metadata": {},
     "output_type": "execute_result"
    },
    {
     "data": {
      "image/png": "[encoded data removed]",
      "text/plain": [
       "<Figure size 432x288 with 1 Axes>"
      ]
     },
     "metadata": {
      "needs_background": "light"
     },
     "output_type": "display_data"
    }
   ],
   "source": [
    "data = pd.concat([train_data[\"tradeMoney\"],train_data[\"area\"]],axis = 1)\n",
    "data.plot.scatter(x = \"area\",y = \"tradeMoney\",ylim=(0,80000)) #离群点？"
   ]
  },
  {
   "cell_type": "code",
   "execution_count": 15,
   "metadata": {},
   "outputs": [],
   "source": [
    "train_data = train_data[train_data[\"area\"]<400]\n",
    "train_data = train_data[(train_data[\"area\"]<400)&(train_data[\"tradeMoney\"]<60000)]\n",
    "train_data = train_data.drop(train_data[(train_data['area']<130)&(train_data[\"tradeMoney\"]>40000)].index)\n",
    "train_data = train_data.drop(train_data[(train_data['area']>350)&(train_data[\"tradeMoney\"]<5000)].index)\n",
    "train_data = train_data.drop(train_data[train_data[\"tradeMoney\"]<1].index)\n",
    "train_data = train_data.drop(train_data[train_data[\"area\"]<10].index)"
   ]
  },
  {
   "cell_type": "code",
   "execution_count": 16,
   "metadata": {
    "scrolled": true
   },
   "outputs": [
    {
     "data": {
      "text/plain": [
       "<matplotlib.axes._subplots.AxesSubplot at 0x21d72a7eac8>"
      ]
     },
     "execution_count": 16,
     "metadata": {},
     "output_type": "execute_result"
    },
    {
     "data": {
      "image/png": "[encoded data removed]",
      "text/plain": [
       "<Figure size 432x288 with 1 Axes>"
      ]
     },
     "metadata": {
      "needs_background": "light"
     },
     "output_type": "display_data"
    }
   ],
   "source": [
    "data = pd.concat([train_data[\"tradeMoney\"],train_data[\"area\"]],axis = 1)\n",
    "data.plot.scatter(x = \"area\",y = \"tradeMoney\",ylim=(0,60000)) #离群点"
   ]
  },
  {
   "cell_type": "markdown",
   "metadata": {},
   "source": [
    "### 测试集中面积是15-150之间的，所以删除训练集中面积大于400的，并且删除，面积大、价格低或面积小、价格高的异常点"
   ]
  },
  {
   "cell_type": "markdown",
   "metadata": {},
   "source": [
    "- 分析租赁房源信息"
   ]
  },
  {
   "cell_type": "markdown",
   "metadata": {},
   "source": [
    "- 1.出租方式"
   ]
  },
  {
   "cell_type": "code",
   "execution_count": 17,
   "metadata": {},
   "outputs": [],
   "source": [
    "plt.rcParams['font.sans-serif'] = ['SimHei']# 图中显示中文"
   ]
  },
  {
   "cell_type": "code",
   "execution_count": 18,
   "metadata": {},
   "outputs": [
    {
     "data": {
      "text/plain": [
       "(未知方式    30670\n",
       " 整租       5447\n",
       " 合租       4083\n",
       " --          5\n",
       " Name: rentType, dtype: int64, 未知方式    2185\n",
       " 整租       264\n",
       " 合租        20\n",
       " Name: rentType, dtype: int64)"
      ]
     },
     "execution_count": 18,
     "metadata": {},
     "output_type": "execute_result"
    }
   ],
   "source": [
    "train_data[\"rentType\"].value_counts(),test_data[\"rentType\"].value_counts()"
   ]
  },
  {
   "cell_type": "code",
   "execution_count": 19,
   "metadata": {},
   "outputs": [
    {
     "data": {
      "text/plain": [
       "(-0.5, 3.5, 0, 15000)"
      ]
     },
     "execution_count": 19,
     "metadata": {},
     "output_type": "execute_result"
    },
    {
     "data": {
      "image/png": "[encoded data removed]",
      "text/plain": [
       "<Figure size 1440x720 with 1 Axes>"
      ]
     },
     "metadata": {
      "needs_background": "light"
     },
     "output_type": "display_data"
    }
   ],
   "source": [
    "data = pd.concat([train_data[\"tradeMoney\"],train_data[\"rentType\"]],axis = 1)\n",
    "f,ax = plt.subplots(figsize=(20,10))\n",
    "fig = sns.boxplot(x = 'rentType',y = \"tradeMoney\",data = data )\n",
    "fig.axis(ymin=0,ymax = 15000)"
   ]
  },
  {
   "cell_type": "code",
   "execution_count": 20,
   "metadata": {},
   "outputs": [],
   "source": [
    "train_data['rentType'][train_data['rentType']=='--'] = '整租'"
   ]
  },
  {
   "cell_type": "code",
   "execution_count": 21,
   "metadata": {},
   "outputs": [],
   "source": [
    "lbl = LabelEncoder()\n",
    "lbl.fit(list(train_data[\"rentType\"].values))\n",
    "train_data[\"rentType\"] = lbl.transform(list(train_data[\"rentType\"].values))\n",
    "test_data[\"rentType\"] = lbl.transform(list(test_data[\"rentType\"].values))"
   ]
  },
  {
   "cell_type": "code",
   "execution_count": 22,
   "metadata": {},
   "outputs": [
    {
     "data": {
      "text/plain": [
       "(2    30670\n",
       " 1     5452\n",
       " 0     4083\n",
       " Name: rentType, dtype: int64, 2    2185\n",
       " 1     264\n",
       " 0      20\n",
       " Name: rentType, dtype: int64)"
      ]
     },
     "execution_count": 22,
     "metadata": {},
     "output_type": "execute_result"
    }
   ],
   "source": [
    "train_data[\"rentType\"].value_counts(),test_data[\"rentType\"].value_counts()"
   ]
  },
  {
   "cell_type": "code",
   "execution_count": 23,
   "metadata": {},
   "outputs": [
    {
     "name": "stderr",
     "output_type": "stream",
     "text": [
      "G:\\tools\\Anaconda\\lib\\site-packages\\matplotlib\\axes\\_axes.py:6521: MatplotlibDeprecationWarning: \n",
      "The 'normed' kwarg was deprecated in Matplotlib 2.1 and will be removed in 3.1. Use 'density' instead.\n",
      "  alternative=\"'density'\", removal=\"3.1\")\n",
      "G:\\tools\\Anaconda\\lib\\site-packages\\matplotlib\\axes\\_axes.py:6521: MatplotlibDeprecationWarning: \n",
      "The 'normed' kwarg was deprecated in Matplotlib 2.1 and will be removed in 3.1. Use 'density' instead.\n",
      "  alternative=\"'density'\", removal=\"3.1\")\n"
     ]
    },
    {
     "data": {
      "text/plain": [
       "<matplotlib.legend.Legend at 0x21d728abb00>"
      ]
     },
     "execution_count": 23,
     "metadata": {},
     "output_type": "execute_result"
    },
    {
     "data": {
      "image/png": "[encoded data removed]",
      "text/plain": [
       "<Figure size 720x288 with 1 Axes>"
      ]
     },
     "metadata": {
      "needs_background": "light"
     },
     "output_type": "display_data"
    }
   ],
   "source": [
    "plt.figure(figsize=(10,4))\n",
    "sns.distplot(train_data[\"rentType\"], bins=50)\n",
    "sns.distplot(test_data[\"rentType\"], bins=50) \n",
    "plt.title('rentType', fontsize=20)\n",
    "plt.legend(['train','test'])"
   ]
  },
  {
   "cell_type": "markdown",
   "metadata": {},
   "source": [
    "### rentType类型中，test数据中没有“—”，“—”与整租类似，所以把“—”转换为“整租”，并LabelEncoder编码"
   ]
  },
  {
   "cell_type": "markdown",
   "metadata": {},
   "source": [
    "- 2. 房型（houseType）"
   ]
  },
  {
   "cell_type": "code",
   "execution_count": 24,
   "metadata": {
    "scrolled": true
   },
   "outputs": [
    {
     "data": {
      "text/plain": [
       "(1室1厅1卫    9797\n",
       " 2室1厅1卫    8472\n",
       " 2室2厅1卫    6774\n",
       " 3室1厅1卫    3335\n",
       " 3室2厅2卫    2735\n",
       " 3室2厅1卫    1914\n",
       " 4室1厅1卫    1592\n",
       " 1室0厅1卫    1282\n",
       " 1室2厅1卫     933\n",
       " 2室2厅2卫     881\n",
       " 4室2厅2卫     432\n",
       " 2室0厅1卫     418\n",
       " 4室2厅3卫     268\n",
       " 5室1厅1卫     162\n",
       " 2室1厅2卫     154\n",
       " 3室2厅3卫     148\n",
       " 3室1厅2卫     135\n",
       " 1室0厅0卫      83\n",
       " 4室2厅4卫      52\n",
       " 6室1厅1卫      50\n",
       " 5室2厅3卫      49\n",
       " 1室1厅2卫      39\n",
       " 4室3厅3卫      33\n",
       " 4室2厅1卫      33\n",
       " 5室2厅2卫      33\n",
       " 4室3厅4卫      30\n",
       " 5室3厅3卫      30\n",
       " 5室2厅4卫      25\n",
       " 4室1厅2卫      20\n",
       " 4室3厅2卫      19\n",
       "           ... \n",
       " 7室2厅3卫       2\n",
       " 2室3厅1卫       2\n",
       " 5室4厅4卫       2\n",
       " 6室3厅2卫       2\n",
       " 5室4厅3卫       2\n",
       " 4室4厅2卫       1\n",
       " 5室1厅5卫       1\n",
       " 4室0厅2卫       1\n",
       " 3室2厅5卫       1\n",
       " 3室4厅4卫       1\n",
       " 8室4厅4卫       1\n",
       " 5室2厅6卫       1\n",
       " 6室4厅2卫       1\n",
       " 8室3厅4卫       1\n",
       " 6室1厅4卫       1\n",
       " 3室1厅0卫       1\n",
       " 7室1厅7卫       1\n",
       " 5室3厅6卫       1\n",
       " 5室5厅4卫       1\n",
       " 5室4厅2卫       1\n",
       " 2室1厅3卫       1\n",
       " 8室2厅3卫       1\n",
       " 5室1厅3卫       1\n",
       " 7室3厅4卫       1\n",
       " 6室2厅5卫       1\n",
       " 3室0厅0卫       1\n",
       " 4室1厅4卫       1\n",
       " 7室4厅3卫       1\n",
       " 7室1厅3卫       1\n",
       " 6室4厅5卫       1\n",
       " Name: houseType, Length: 96, dtype: int64, 2室1厅1卫    641\n",
       " 1室1厅1卫    577\n",
       " 2室2厅1卫    486\n",
       " 3室2厅2卫    214\n",
       " 3室2厅1卫    130\n",
       " 3室1厅1卫     99\n",
       " 1室0厅1卫     79\n",
       " 2室2厅2卫     67\n",
       " 1室2厅1卫     46\n",
       " 2室0厅1卫     42\n",
       " 4室2厅2卫     18\n",
       " 4室1厅1卫     14\n",
       " 2室1厅2卫      9\n",
       " 3室1厅2卫      9\n",
       " 4室2厅3卫      5\n",
       " 3室2厅3卫      4\n",
       " 1室0厅0卫      3\n",
       " 4室1厅2卫      3\n",
       " 3室0厅1卫      3\n",
       " 5室1厅1卫      3\n",
       " 1室1厅2卫      3\n",
       " 3室3厅2卫      2\n",
       " 5室2厅2卫      2\n",
       " 2室3厅1卫      2\n",
       " 1室2厅2卫      2\n",
       " 3室2厅0卫      1\n",
       " 4室3厅2卫      1\n",
       " 1室2厅0卫      1\n",
       " 4室1厅4卫      1\n",
       " 1室1厅0卫      1\n",
       " 6室0厅6卫      1\n",
       " Name: houseType, dtype: int64)"
      ]
     },
     "execution_count": 24,
     "metadata": {},
     "output_type": "execute_result"
    }
   ],
   "source": [
    "train_data[\"houseType\"].value_counts(),test_data[\"houseType\"].value_counts()"
   ]
  },
  {
   "cell_type": "code",
   "execution_count": 25,
   "metadata": {},
   "outputs": [
    {
     "data": {
      "text/plain": [
       "(96, 31)"
      ]
     },
     "execution_count": 25,
     "metadata": {},
     "output_type": "execute_result"
    }
   ],
   "source": [
    "train_data[\"houseType\"].nunique(),test_data[\"houseType\"].nunique()"
   ]
  },
  {
   "cell_type": "code",
   "execution_count": 26,
   "metadata": {},
   "outputs": [],
   "source": [
    "train_data['室'] = train_data['houseType'].apply(lambda x:int(x[0]))\n",
    "train_data['厅'] = train_data['houseType'].apply(lambda x:int(x[2]))\n",
    "train_data['卫'] = train_data['houseType'].apply(lambda x:int(x[4]))"
   ]
  },
  {
   "cell_type": "code",
   "execution_count": 27,
   "metadata": {},
   "outputs": [
    {
     "name": "stdout",
     "output_type": "stream",
     "text": [
      "1    34812\n",
      "2     4504\n",
      "3      575\n",
      "4      164\n",
      "0      119\n",
      "5       25\n",
      "7        4\n",
      "6        2\n",
      "Name: 卫, dtype: int64\n",
      "1    23813\n",
      "2    14369\n",
      "0     1823\n",
      "3      188\n",
      "4       11\n",
      "5        1\n",
      "Name: 厅, dtype: int64\n"
     ]
    },
    {
     "data": {
      "text/plain": [
       "2    16735\n",
       "1    12162\n",
       "3     8335\n",
       "4     2501\n",
       "5      358\n",
       "6       89\n",
       "7       22\n",
       "8        3\n",
       "Name: 室, dtype: int64"
      ]
     },
     "execution_count": 27,
     "metadata": {},
     "output_type": "execute_result"
    }
   ],
   "source": [
    "print(train_data['卫'].value_counts())\n",
    "print(train_data['厅'].value_counts())\n",
    "train_data['室'].value_counts()"
   ]
  },
  {
   "cell_type": "code",
   "execution_count": 28,
   "metadata": {},
   "outputs": [],
   "source": [
    "test_data['室'] = test_data['houseType'].apply(lambda x:int(x[0]))\n",
    "test_data['厅'] = test_data['houseType'].apply(lambda x:int(x[2]))\n",
    "test_data['卫'] = test_data['houseType'].apply(lambda x:int(x[4]))"
   ]
  },
  {
   "cell_type": "code",
   "execution_count": 29,
   "metadata": {},
   "outputs": [
    {
     "name": "stdout",
     "output_type": "stream",
     "text": [
      "1    2122\n",
      "2     330\n",
      "3       9\n",
      "0       6\n",
      "6       1\n",
      "4       1\n",
      "Name: 卫, dtype: int64\n",
      "1    1360\n",
      "2     976\n",
      "0     128\n",
      "3       5\n",
      "Name: 厅, dtype: int64\n"
     ]
    },
    {
     "data": {
      "text/plain": [
       "2    1247\n",
       "1     712\n",
       "3     462\n",
       "4      42\n",
       "5       5\n",
       "6       1\n",
       "Name: 室, dtype: int64"
      ]
     },
     "execution_count": 29,
     "metadata": {},
     "output_type": "execute_result"
    }
   ],
   "source": [
    "print(test_data['卫'].value_counts())\n",
    "print(test_data['厅'].value_counts())\n",
    "test_data['室'].value_counts()"
   ]
  },
  {
   "cell_type": "code",
   "execution_count": 30,
   "metadata": {},
   "outputs": [
    {
     "name": "stderr",
     "output_type": "stream",
     "text": [
      "G:\\tools\\Anaconda\\lib\\site-packages\\matplotlib\\axes\\_axes.py:6521: MatplotlibDeprecationWarning: \n",
      "The 'normed' kwarg was deprecated in Matplotlib 2.1 and will be removed in 3.1. Use 'density' instead.\n",
      "  alternative=\"'density'\", removal=\"3.1\")\n",
      "G:\\tools\\Anaconda\\lib\\site-packages\\matplotlib\\axes\\_axes.py:6521: MatplotlibDeprecationWarning: \n",
      "The 'normed' kwarg was deprecated in Matplotlib 2.1 and will be removed in 3.1. Use 'density' instead.\n",
      "  alternative=\"'density'\", removal=\"3.1\")\n",
      "G:\\tools\\Anaconda\\lib\\site-packages\\matplotlib\\axes\\_axes.py:6521: MatplotlibDeprecationWarning: \n",
      "The 'normed' kwarg was deprecated in Matplotlib 2.1 and will be removed in 3.1. Use 'density' instead.\n",
      "  alternative=\"'density'\", removal=\"3.1\")\n",
      "G:\\tools\\Anaconda\\lib\\site-packages\\matplotlib\\axes\\_axes.py:6521: MatplotlibDeprecationWarning: \n",
      "The 'normed' kwarg was deprecated in Matplotlib 2.1 and will be removed in 3.1. Use 'density' instead.\n",
      "  alternative=\"'density'\", removal=\"3.1\")\n",
      "G:\\tools\\Anaconda\\lib\\site-packages\\matplotlib\\axes\\_axes.py:6521: MatplotlibDeprecationWarning: \n",
      "The 'normed' kwarg was deprecated in Matplotlib 2.1 and will be removed in 3.1. Use 'density' instead.\n",
      "  alternative=\"'density'\", removal=\"3.1\")\n",
      "G:\\tools\\Anaconda\\lib\\site-packages\\matplotlib\\axes\\_axes.py:6521: MatplotlibDeprecationWarning: \n",
      "The 'normed' kwarg was deprecated in Matplotlib 2.1 and will be removed in 3.1. Use 'density' instead.\n",
      "  alternative=\"'density'\", removal=\"3.1\")\n"
     ]
    },
    {
     "data": {
      "text/plain": [
       "<matplotlib.legend.Legend at 0x21d70436f98>"
      ]
     },
     "execution_count": 30,
     "metadata": {},
     "output_type": "execute_result"
    },
    {
     "data": {
      "image/png": "[encoded data removed]",
      "text/plain": [
       "<Figure size 720x288 with 1 Axes>"
      ]
     },
     "metadata": {
      "needs_background": "light"
     },
     "output_type": "display_data"
    },
    {
     "data": {
      "image/png": "[encoded data removed]",
      "text/plain": [
       "<Figure size 720x288 with 1 Axes>"
      ]
     },
     "metadata": {
      "needs_background": "light"
     },
     "output_type": "display_data"
    },
    {
     "data": {
      "image/png": "[encoded data removed]",
      "text/plain": [
       "<Figure size 720x288 with 1 Axes>"
      ]
     },
     "metadata": {
      "needs_background": "light"
     },
     "output_type": "display_data"
    }
   ],
   "source": [
    "plt.figure(figsize=(10,4))\n",
    "sns.distplot(train_data[\"室\"], bins=50)\n",
    "sns.distplot(test_data[\"室\"], bins=50) \n",
    "plt.title('室', fontsize=20)\n",
    "plt.legend(['train','test'])\n",
    "plt.figure(figsize=(10,4))\n",
    "sns.distplot(train_data[\"厅\"], bins=50)\n",
    "sns.distplot(test_data[\"厅\"], bins=50) \n",
    "plt.title('厅', fontsize=20)\n",
    "plt.legend(['train','test'])\n",
    "plt.figure(figsize=(10,4))\n",
    "sns.distplot(train_data[\"卫\"], bins=50)\n",
    "sns.distplot(test_data[\"卫\"], bins=50) \n",
    "plt.title('卫', fontsize=20)\n",
    "plt.legend(['train','test'])"
   ]
  },
  {
   "cell_type": "code",
   "execution_count": 31,
   "metadata": {},
   "outputs": [],
   "source": [
    "train_data = train_data.drop(train_data[train_data['室']==0].index)\n",
    "train_data = train_data.drop(train_data[train_data['室']==7].index)\n",
    "train_data = train_data.drop(train_data[train_data['室']==8].index)\n",
    "train_data = train_data.drop(train_data[train_data['室']==9].index)\n",
    "\n",
    "train_data = train_data.drop(train_data[train_data['厅']==4].index)\n",
    "train_data = train_data.drop(train_data[train_data['厅']==5].index)\n",
    "\n",
    "train_data = train_data.drop(train_data[train_data['卫']==8].index)\n",
    "train_data = train_data.drop(train_data[train_data['卫']==7].index)\n",
    "train_data = train_data.drop(train_data[train_data['卫']==5].index)"
   ]
  },
  {
   "cell_type": "code",
   "execution_count": 32,
   "metadata": {},
   "outputs": [
    {
     "data": {
      "text/plain": [
       "(40143, 54)"
      ]
     },
     "execution_count": 32,
     "metadata": {},
     "output_type": "execute_result"
    }
   ],
   "source": [
    "train_data.shape"
   ]
  },
  {
   "cell_type": "code",
   "execution_count": 33,
   "metadata": {},
   "outputs": [
    {
     "name": "stderr",
     "output_type": "stream",
     "text": [
      "G:\\tools\\Anaconda\\lib\\site-packages\\matplotlib\\axes\\_axes.py:6521: MatplotlibDeprecationWarning: \n",
      "The 'normed' kwarg was deprecated in Matplotlib 2.1 and will be removed in 3.1. Use 'density' instead.\n",
      "  alternative=\"'density'\", removal=\"3.1\")\n",
      "G:\\tools\\Anaconda\\lib\\site-packages\\matplotlib\\axes\\_axes.py:6521: MatplotlibDeprecationWarning: \n",
      "The 'normed' kwarg was deprecated in Matplotlib 2.1 and will be removed in 3.1. Use 'density' instead.\n",
      "  alternative=\"'density'\", removal=\"3.1\")\n",
      "G:\\tools\\Anaconda\\lib\\site-packages\\matplotlib\\axes\\_axes.py:6521: MatplotlibDeprecationWarning: \n",
      "The 'normed' kwarg was deprecated in Matplotlib 2.1 and will be removed in 3.1. Use 'density' instead.\n",
      "  alternative=\"'density'\", removal=\"3.1\")\n",
      "G:\\tools\\Anaconda\\lib\\site-packages\\matplotlib\\axes\\_axes.py:6521: MatplotlibDeprecationWarning: \n",
      "The 'normed' kwarg was deprecated in Matplotlib 2.1 and will be removed in 3.1. Use 'density' instead.\n",
      "  alternative=\"'density'\", removal=\"3.1\")\n",
      "G:\\tools\\Anaconda\\lib\\site-packages\\matplotlib\\axes\\_axes.py:6521: MatplotlibDeprecationWarning: \n",
      "The 'normed' kwarg was deprecated in Matplotlib 2.1 and will be removed in 3.1. Use 'density' instead.\n",
      "  alternative=\"'density'\", removal=\"3.1\")\n",
      "G:\\tools\\Anaconda\\lib\\site-packages\\matplotlib\\axes\\_axes.py:6521: MatplotlibDeprecationWarning: \n",
      "The 'normed' kwarg was deprecated in Matplotlib 2.1 and will be removed in 3.1. Use 'density' instead.\n",
      "  alternative=\"'density'\", removal=\"3.1\")\n"
     ]
    },
    {
     "data": {
      "text/plain": [
       "<matplotlib.legend.Legend at 0x21d70022828>"
      ]
     },
     "execution_count": 33,
     "metadata": {},
     "output_type": "execute_result"
    },
    {
     "data": {
      "image/png": "[encoded data removed]",
      "text/plain": [
       "<Figure size 720x288 with 1 Axes>"
      ]
     },
     "metadata": {
      "needs_background": "light"
     },
     "output_type": "display_data"
    },
    {
     "data": {
      "image/png": "[encoded data removed]",
      "text/plain": [
       "<Figure size 720x288 with 1 Axes>"
      ]
     },
     "metadata": {
      "needs_background": "light"
     },
     "output_type": "display_data"
    },
    {
     "data": {
      "image/png": "[encoded data removed]",
      "text/plain": [
       "<Figure size 720x288 with 1 Axes>"
      ]
     },
     "metadata": {
      "needs_background": "light"
     },
     "output_type": "display_data"
    }
   ],
   "source": [
    "plt.figure(figsize=(10,4))\n",
    "sns.distplot(train_data[\"室\"], bins=50)\n",
    "sns.distplot(test_data[\"室\"], bins=50) \n",
    "plt.title('室', fontsize=20)\n",
    "plt.legend(['train','test'])\n",
    "plt.figure(figsize=(10,4))\n",
    "sns.distplot(train_data[\"厅\"], bins=50)\n",
    "sns.distplot(test_data[\"厅\"], bins=50) \n",
    "plt.title('厅', fontsize=20)\n",
    "plt.legend(['train','test'])\n",
    "plt.figure(figsize=(10,4))\n",
    "sns.distplot(train_data[\"卫\"], bins=50)\n",
    "sns.distplot(test_data[\"卫\"], bins=50) \n",
    "plt.title('卫', fontsize=20)\n",
    "plt.legend(['train','test'])"
   ]
  },
  {
   "cell_type": "markdown",
   "metadata": {},
   "source": [
    "### 删除掉测试集中没有的室、厅、卫。"
   ]
  },
  {
   "cell_type": "markdown",
   "metadata": {},
   "source": [
    "- 3.所在楼层"
   ]
  },
  {
   "cell_type": "code",
   "execution_count": 34,
   "metadata": {},
   "outputs": [
    {
     "name": "stdout",
     "output_type": "stream",
     "text": [
      "中    15068\n",
      "高    13596\n",
      "低    11479\n",
      "Name: houseFloor, dtype: int64\n"
     ]
    },
    {
     "data": {
      "text/plain": [
       "中    931\n",
       "高    842\n",
       "低    696\n",
       "Name: houseFloor, dtype: int64"
      ]
     },
     "execution_count": 34,
     "metadata": {},
     "output_type": "execute_result"
    }
   ],
   "source": [
    "print(train_data[\"houseFloor\"].value_counts())\n",
    "test_data[\"houseFloor\"].value_counts()"
   ]
  },
  {
   "cell_type": "code",
   "execution_count": 35,
   "metadata": {},
   "outputs": [],
   "source": [
    "lbl = LabelEncoder()\n",
    "lbl.fit(list(train_data[\"houseFloor\"].values))\n",
    "train_data[\"houseFloor\"] = lbl.transform(list(train_data[\"houseFloor\"].values))\n",
    "test_data[\"houseFloor\"] = lbl.transform(list(test_data[\"houseFloor\"].values))"
   ]
  },
  {
   "cell_type": "code",
   "execution_count": 36,
   "metadata": {},
   "outputs": [
    {
     "name": "stderr",
     "output_type": "stream",
     "text": [
      "G:\\tools\\Anaconda\\lib\\site-packages\\matplotlib\\axes\\_axes.py:6521: MatplotlibDeprecationWarning: \n",
      "The 'normed' kwarg was deprecated in Matplotlib 2.1 and will be removed in 3.1. Use 'density' instead.\n",
      "  alternative=\"'density'\", removal=\"3.1\")\n",
      "G:\\tools\\Anaconda\\lib\\site-packages\\matplotlib\\axes\\_axes.py:6521: MatplotlibDeprecationWarning: \n",
      "The 'normed' kwarg was deprecated in Matplotlib 2.1 and will be removed in 3.1. Use 'density' instead.\n",
      "  alternative=\"'density'\", removal=\"3.1\")\n"
     ]
    },
    {
     "data": {
      "text/plain": [
       "<matplotlib.legend.Legend at 0x21d72f39a20>"
      ]
     },
     "execution_count": 36,
     "metadata": {},
     "output_type": "execute_result"
    },
    {
     "data": {
      "image/png": "[encoded data removed]",
      "text/plain": [
       "<Figure size 720x288 with 1 Axes>"
      ]
     },
     "metadata": {
      "needs_background": "light"
     },
     "output_type": "display_data"
    }
   ],
   "source": [
    "plt.figure(figsize=(10,4))\n",
    "sns.distplot(train_data[\"houseFloor\"], bins=50)\n",
    "sns.distplot(test_data[\"houseFloor\"], bins=50) \n",
    "plt.title('houseFloor', fontsize=20)\n",
    "plt.legend(['train','test'])"
   ]
  },
  {
   "cell_type": "markdown",
   "metadata": {},
   "source": [
    "### 略"
   ]
  },
  {
   "cell_type": "markdown",
   "metadata": {},
   "source": [
    "### 略"
   ]
  },
  {
   "cell_type": "markdown",
   "metadata": {},
   "source": [
    "- region"
   ]
  },
  {
   "cell_type": "code",
   "execution_count": 37,
   "metadata": {},
   "outputs": [
    {
     "data": {
      "text/plain": [
       "(15, 14)"
      ]
     },
     "execution_count": 37,
     "metadata": {},
     "output_type": "execute_result"
    }
   ],
   "source": [
    "train_data[\"region\"].nunique(),test_data[\"region\"].nunique()"
   ]
  },
  {
   "cell_type": "code",
   "execution_count": 38,
   "metadata": {
    "scrolled": true
   },
   "outputs": [
    {
     "data": {
      "text/plain": [
       "(RG00002    11068\n",
       " RG00005     5607\n",
       " RG00003     3998\n",
       " RG00010     3439\n",
       " RG00012     3315\n",
       " RG00004     3160\n",
       " RG00006     1961\n",
       " RG00007     1571\n",
       " RG00008     1233\n",
       " RG00013     1198\n",
       " RG00001     1138\n",
       " RG00014     1041\n",
       " RG00011      746\n",
       " RG00009      667\n",
       " RG00015        1\n",
       " Name: region, dtype: int64, RG00002    724\n",
       " RG00005    311\n",
       " RG00012    262\n",
       " RG00010    194\n",
       " RG00003    178\n",
       " RG00004    153\n",
       " RG00007    142\n",
       " RG00013     97\n",
       " RG00014     86\n",
       " RG00008     86\n",
       " RG00001     77\n",
       " RG00009     61\n",
       " RG00006     55\n",
       " RG00011     43\n",
       " Name: region, dtype: int64)"
      ]
     },
     "execution_count": 38,
     "metadata": {},
     "output_type": "execute_result"
    }
   ],
   "source": [
    "train_data[\"region\"].value_counts(),test_data[\"region\"].value_counts()"
   ]
  },
  {
   "cell_type": "code",
   "execution_count": 39,
   "metadata": {},
   "outputs": [],
   "source": [
    "train_reg = train_data[\"region\"].value_counts().keys()\n",
    "test_reg = test_data[\"region\"].value_counts().keys()"
   ]
  },
  {
   "cell_type": "code",
   "execution_count": 40,
   "metadata": {},
   "outputs": [
    {
     "name": "stdout",
     "output_type": "stream",
     "text": [
      "RG00015\n"
     ]
    }
   ],
   "source": [
    "# find different\n",
    "for i in train_reg:\n",
    "    if i not in test_reg:\n",
    "        print(i)"
   ]
  },
  {
   "cell_type": "code",
   "execution_count": 41,
   "metadata": {},
   "outputs": [],
   "source": [
    "train_data = train_data.drop(train_data[train_data['region']==\"RG00015\"].index)"
   ]
  },
  {
   "cell_type": "code",
   "execution_count": 42,
   "metadata": {},
   "outputs": [
    {
     "data": {
      "text/plain": [
       "(40142, 54)"
      ]
     },
     "execution_count": 42,
     "metadata": {},
     "output_type": "execute_result"
    }
   ],
   "source": [
    "train_data.shape"
   ]
  },
  {
   "cell_type": "code",
   "execution_count": 43,
   "metadata": {},
   "outputs": [
    {
     "data": {
      "text/plain": [
       "(-0.5, 13.5, 0, 15000)"
      ]
     },
     "execution_count": 43,
     "metadata": {},
     "output_type": "execute_result"
    },
    {
     "data": {
      "image/png": "[encoded data removed]",
      "text/plain": [
       "<Figure size 1440x720 with 1 Axes>"
      ]
     },
     "metadata": {
      "needs_background": "light"
     },
     "output_type": "display_data"
    }
   ],
   "source": [
    "data = pd.concat([train_data[\"tradeMoney\"],train_data[\"region\"]],axis = 1)\n",
    "f,ax = plt.subplots(figsize=(20,10))\n",
    "fig = sns.boxplot(x = 'region',y = \"tradeMoney\",data = data )\n",
    "fig.axis(ymin=0,ymax = 15000)"
   ]
  },
  {
   "cell_type": "code",
   "execution_count": null,
   "metadata": {},
   "outputs": [],
   "source": []
  },
  {
   "cell_type": "code",
   "execution_count": 44,
   "metadata": {},
   "outputs": [],
   "source": [
    "reg_a_t = train_data.groupby(\"region\")[\"area\",\"tradeMoney\"].agg({\"mean\",\"median\",\"max\",\"min\"})"
   ]
  },
  {
   "cell_type": "code",
   "execution_count": 45,
   "metadata": {
    "scrolled": false
   },
   "outputs": [
    {
     "data": {
      "text/html": [
       "<div>\n",
       "<style scoped>\n",
       "    .dataframe tbody tr th:only-of-type {\n",
       "        vertical-align: middle;\n",
       "    }\n",
       "\n",
       "    .dataframe tbody tr th {\n",
       "        vertical-align: top;\n",
       "    }\n",
       "\n",
       "    .dataframe thead tr th {\n",
       "        text-align: left;\n",
       "    }\n",
       "\n",
       "    .dataframe thead tr:last-of-type th {\n",
       "        text-align: right;\n",
       "    }\n",
       "</style>\n",
       "<table border=\"1\" class=\"dataframe\">\n",
       "  <thead>\n",
       "    <tr>\n",
       "      <th></th>\n",
       "      <th colspan=\"4\" halign=\"left\">area</th>\n",
       "      <th colspan=\"4\" halign=\"left\">tradeMoney</th>\n",
       "    </tr>\n",
       "    <tr>\n",
       "      <th></th>\n",
       "      <th>min</th>\n",
       "      <th>mean</th>\n",
       "      <th>max</th>\n",
       "      <th>median</th>\n",
       "      <th>min</th>\n",
       "      <th>mean</th>\n",
       "      <th>max</th>\n",
       "      <th>median</th>\n",
       "    </tr>\n",
       "    <tr>\n",
       "      <th>region</th>\n",
       "      <th></th>\n",
       "      <th></th>\n",
       "      <th></th>\n",
       "      <th></th>\n",
       "      <th></th>\n",
       "      <th></th>\n",
       "      <th></th>\n",
       "      <th></th>\n",
       "    </tr>\n",
       "  </thead>\n",
       "  <tbody>\n",
       "    <tr>\n",
       "      <th>RG00001</th>\n",
       "      <td>10.0</td>\n",
       "      <td>58.913752</td>\n",
       "      <td>276.00</td>\n",
       "      <td>49.20</td>\n",
       "      <td>300.0</td>\n",
       "      <td>5180.412127</td>\n",
       "      <td>48000.0</td>\n",
       "      <td>4200.0</td>\n",
       "    </tr>\n",
       "    <tr>\n",
       "      <th>RG00002</th>\n",
       "      <td>10.0</td>\n",
       "      <td>73.056039</td>\n",
       "      <td>395.75</td>\n",
       "      <td>68.00</td>\n",
       "      <td>100.0</td>\n",
       "      <td>5272.816317</td>\n",
       "      <td>58000.0</td>\n",
       "      <td>4300.0</td>\n",
       "    </tr>\n",
       "    <tr>\n",
       "      <th>RG00003</th>\n",
       "      <td>10.0</td>\n",
       "      <td>77.839540</td>\n",
       "      <td>387.00</td>\n",
       "      <td>77.45</td>\n",
       "      <td>140.0</td>\n",
       "      <td>3939.671086</td>\n",
       "      <td>35861.0</td>\n",
       "      <td>3700.0</td>\n",
       "    </tr>\n",
       "    <tr>\n",
       "      <th>RG00004</th>\n",
       "      <td>10.0</td>\n",
       "      <td>72.277633</td>\n",
       "      <td>340.00</td>\n",
       "      <td>73.69</td>\n",
       "      <td>200.0</td>\n",
       "      <td>3809.108228</td>\n",
       "      <td>16000.0</td>\n",
       "      <td>3600.0</td>\n",
       "    </tr>\n",
       "    <tr>\n",
       "      <th>RG00005</th>\n",
       "      <td>10.0</td>\n",
       "      <td>78.331953</td>\n",
       "      <td>385.43</td>\n",
       "      <td>70.70</td>\n",
       "      <td>300.0</td>\n",
       "      <td>5322.538969</td>\n",
       "      <td>57000.0</td>\n",
       "      <td>4300.0</td>\n",
       "    </tr>\n",
       "    <tr>\n",
       "      <th>RG00006</th>\n",
       "      <td>20.0</td>\n",
       "      <td>83.153427</td>\n",
       "      <td>300.74</td>\n",
       "      <td>84.00</td>\n",
       "      <td>140.0</td>\n",
       "      <td>2034.853136</td>\n",
       "      <td>9000.0</td>\n",
       "      <td>1900.0</td>\n",
       "    </tr>\n",
       "    <tr>\n",
       "      <th>RG00007</th>\n",
       "      <td>10.0</td>\n",
       "      <td>51.501082</td>\n",
       "      <td>228.16</td>\n",
       "      <td>43.00</td>\n",
       "      <td>370.0</td>\n",
       "      <td>4647.781668</td>\n",
       "      <td>25000.0</td>\n",
       "      <td>4100.0</td>\n",
       "    </tr>\n",
       "    <tr>\n",
       "      <th>RG00008</th>\n",
       "      <td>10.0</td>\n",
       "      <td>69.133106</td>\n",
       "      <td>265.00</td>\n",
       "      <td>63.33</td>\n",
       "      <td>600.0</td>\n",
       "      <td>6825.931062</td>\n",
       "      <td>41000.0</td>\n",
       "      <td>6000.0</td>\n",
       "    </tr>\n",
       "    <tr>\n",
       "      <th>RG00009</th>\n",
       "      <td>10.0</td>\n",
       "      <td>69.225607</td>\n",
       "      <td>362.00</td>\n",
       "      <td>52.49</td>\n",
       "      <td>650.0</td>\n",
       "      <td>7703.037481</td>\n",
       "      <td>50000.0</td>\n",
       "      <td>6200.0</td>\n",
       "    </tr>\n",
       "    <tr>\n",
       "      <th>RG00010</th>\n",
       "      <td>10.0</td>\n",
       "      <td>65.893286</td>\n",
       "      <td>380.00</td>\n",
       "      <td>66.25</td>\n",
       "      <td>320.0</td>\n",
       "      <td>3705.768247</td>\n",
       "      <td>30000.0</td>\n",
       "      <td>3500.0</td>\n",
       "    </tr>\n",
       "    <tr>\n",
       "      <th>RG00011</th>\n",
       "      <td>10.0</td>\n",
       "      <td>106.247480</td>\n",
       "      <td>377.00</td>\n",
       "      <td>89.60</td>\n",
       "      <td>160.0</td>\n",
       "      <td>6088.037534</td>\n",
       "      <td>55000.0</td>\n",
       "      <td>4200.0</td>\n",
       "    </tr>\n",
       "    <tr>\n",
       "      <th>RG00012</th>\n",
       "      <td>10.0</td>\n",
       "      <td>51.863493</td>\n",
       "      <td>223.25</td>\n",
       "      <td>44.17</td>\n",
       "      <td>600.0</td>\n",
       "      <td>4442.732428</td>\n",
       "      <td>24000.0</td>\n",
       "      <td>3800.0</td>\n",
       "    </tr>\n",
       "    <tr>\n",
       "      <th>RG00013</th>\n",
       "      <td>10.0</td>\n",
       "      <td>72.785442</td>\n",
       "      <td>298.05</td>\n",
       "      <td>55.48</td>\n",
       "      <td>1100.0</td>\n",
       "      <td>8429.321369</td>\n",
       "      <td>38000.0</td>\n",
       "      <td>5700.0</td>\n",
       "    </tr>\n",
       "    <tr>\n",
       "      <th>RG00014</th>\n",
       "      <td>10.0</td>\n",
       "      <td>64.003199</td>\n",
       "      <td>350.00</td>\n",
       "      <td>55.14</td>\n",
       "      <td>800.0</td>\n",
       "      <td>5148.324688</td>\n",
       "      <td>36000.0</td>\n",
       "      <td>4200.0</td>\n",
       "    </tr>\n",
       "  </tbody>\n",
       "</table>\n",
       "</div>"
      ],
      "text/plain": [
       "         area                            tradeMoney                        \\\n",
       "          min        mean     max median        min         mean      max   \n",
       "region                                                                      \n",
       "RG00001  10.0   58.913752  276.00  49.20      300.0  5180.412127  48000.0   \n",
       "RG00002  10.0   73.056039  395.75  68.00      100.0  5272.816317  58000.0   \n",
       "RG00003  10.0   77.839540  387.00  77.45      140.0  3939.671086  35861.0   \n",
       "RG00004  10.0   72.277633  340.00  73.69      200.0  3809.108228  16000.0   \n",
       "RG00005  10.0   78.331953  385.43  70.70      300.0  5322.538969  57000.0   \n",
       "RG00006  20.0   83.153427  300.74  84.00      140.0  2034.853136   9000.0   \n",
       "RG00007  10.0   51.501082  228.16  43.00      370.0  4647.781668  25000.0   \n",
       "RG00008  10.0   69.133106  265.00  63.33      600.0  6825.931062  41000.0   \n",
       "RG00009  10.0   69.225607  362.00  52.49      650.0  7703.037481  50000.0   \n",
       "RG00010  10.0   65.893286  380.00  66.25      320.0  3705.768247  30000.0   \n",
       "RG00011  10.0  106.247480  377.00  89.60      160.0  6088.037534  55000.0   \n",
       "RG00012  10.0   51.863493  223.25  44.17      600.0  4442.732428  24000.0   \n",
       "RG00013  10.0   72.785442  298.05  55.48     1100.0  8429.321369  38000.0   \n",
       "RG00014  10.0   64.003199  350.00  55.14      800.0  5148.324688  36000.0   \n",
       "\n",
       "                 \n",
       "         median  \n",
       "region           \n",
       "RG00001  4200.0  \n",
       "RG00002  4300.0  \n",
       "RG00003  3700.0  \n",
       "RG00004  3600.0  \n",
       "RG00005  4300.0  \n",
       "RG00006  1900.0  \n",
       "RG00007  4100.0  \n",
       "RG00008  6000.0  \n",
       "RG00009  6200.0  \n",
       "RG00010  3500.0  \n",
       "RG00011  4200.0  \n",
       "RG00012  3800.0  \n",
       "RG00013  5700.0  \n",
       "RG00014  4200.0  "
      ]
     },
     "execution_count": 45,
     "metadata": {},
     "output_type": "execute_result"
    }
   ],
   "source": [
    "reg_a_t"
   ]
  },
  {
   "cell_type": "markdown",
   "metadata": {},
   "source": [
    "- communityName"
   ]
  },
  {
   "cell_type": "code",
   "execution_count": 46,
   "metadata": {},
   "outputs": [
    {
     "data": {
      "text/plain": [
       "(4189, 2469)"
      ]
     },
     "execution_count": 46,
     "metadata": {},
     "output_type": "execute_result"
    }
   ],
   "source": [
    "train_data[\"communityName\"].nunique(),test_data[\"communityName\"].nunique()"
   ]
  },
  {
   "cell_type": "code",
   "execution_count": 47,
   "metadata": {},
   "outputs": [],
   "source": [
    "train_com = train_data[\"communityName\"].value_counts().keys()\n",
    "test_com = test_data[\"communityName\"].value_counts().keys()"
   ]
  },
  {
   "cell_type": "code",
   "execution_count": 48,
   "metadata": {},
   "outputs": [
    {
     "data": {
      "text/plain": [
       "1723"
      ]
     },
     "execution_count": 48,
     "metadata": {},
     "output_type": "execute_result"
    }
   ],
   "source": [
    "# find different\n",
    "add1 = 0\n",
    "for i in train_com:\n",
    "    if i not in test_com:\n",
    "        add1+=1\n",
    "add1"
   ]
  },
  {
   "cell_type": "code",
   "execution_count": 49,
   "metadata": {},
   "outputs": [
    {
     "data": {
      "text/plain": [
       "1720"
      ]
     },
     "execution_count": 49,
     "metadata": {},
     "output_type": "execute_result"
    }
   ],
   "source": [
    "4189-2469"
   ]
  },
  {
   "cell_type": "markdown",
   "metadata": {},
   "source": [
    "### 训练集中有一半的小区名字没有出现在测试集合中，咋办"
   ]
  },
  {
   "cell_type": "markdown",
   "metadata": {},
   "source": [
    "- city"
   ]
  },
  {
   "cell_type": "code",
   "execution_count": 50,
   "metadata": {},
   "outputs": [
    {
     "data": {
      "text/plain": [
       "(SH    40142\n",
       " Name: city, dtype: int64, SH    2469\n",
       " Name: city, dtype: int64)"
      ]
     },
     "execution_count": 50,
     "metadata": {},
     "output_type": "execute_result"
    }
   ],
   "source": [
    "train_data[\"city\"].value_counts(),test_data[\"city\"].value_counts()"
   ]
  },
  {
   "cell_type": "code",
   "execution_count": 51,
   "metadata": {},
   "outputs": [],
   "source": [
    "train_data = train_data.drop([\"city\"],axis = 1)"
   ]
  },
  {
   "cell_type": "markdown",
   "metadata": {},
   "source": [
    "- plate"
   ]
  },
  {
   "cell_type": "code",
   "execution_count": 52,
   "metadata": {
    "scrolled": true
   },
   "outputs": [
    {
     "name": "stdout",
     "output_type": "stream",
     "text": [
      "BK00031    1958\n",
      "BK00033    1798\n",
      "BK00045    1748\n",
      "BK00055    1522\n",
      "BK00056    1473\n",
      "BK00052    1321\n",
      "BK00051    1252\n",
      "BK00017    1244\n",
      "BK00054    1216\n",
      "BK00041    1208\n",
      "BK00046    1179\n",
      "BK00035    1143\n",
      "BK00042    1051\n",
      "BK00009    1005\n",
      "BK00050     952\n",
      "BK00043     901\n",
      "BK00026     889\n",
      "BK00013     822\n",
      "BK00034     821\n",
      "BK00047     817\n",
      "BK00053     750\n",
      "BK00028     719\n",
      "BK00040     669\n",
      "BK00060     644\n",
      "BK00010     639\n",
      "BK00029     636\n",
      "BK00018     606\n",
      "BK00062     587\n",
      "BK00064     577\n",
      "BK00005     539\n",
      "           ... \n",
      "BK00011     454\n",
      "BK00037     433\n",
      "BK00012     395\n",
      "BK00024     390\n",
      "BK00038     382\n",
      "BK00020     381\n",
      "BK00002     345\n",
      "BK00027     344\n",
      "BK00065     342\n",
      "BK00039     334\n",
      "BK00063     275\n",
      "BK00057     265\n",
      "BK00015     249\n",
      "BK00006     228\n",
      "BK00007     222\n",
      "BK00066     219\n",
      "BK00030     216\n",
      "BK00021     212\n",
      "BK00049     211\n",
      "BK00008     209\n",
      "BK00004     188\n",
      "BK00048     164\n",
      "BK00025     151\n",
      "BK00023     126\n",
      "BK00059     122\n",
      "BK00044      90\n",
      "BK00016      40\n",
      "BK00036      27\n",
      "BK00058      15\n",
      "BK00032       3\n",
      "Name: plate, Length: 65, dtype: int64\n"
     ]
    },
    {
     "data": {
      "text/plain": [
       "BK00056    125\n",
       "BK00054    114\n",
       "BK00052     99\n",
       "BK00055     99\n",
       "BK00033     92\n",
       "BK00028     79\n",
       "BK00045     78\n",
       "BK00009     66\n",
       "BK00010     64\n",
       "BK00035     61\n",
       "BK00017     60\n",
       "BK00041     57\n",
       "BK00013     57\n",
       "BK00031     55\n",
       "BK00051     54\n",
       "BK00034     53\n",
       "BK00043     52\n",
       "BK00026     50\n",
       "BK00064     49\n",
       "BK00047     46\n",
       "BK00042     44\n",
       "BK00005     44\n",
       "BK00050     44\n",
       "BK00060     44\n",
       "BK00012     43\n",
       "BK00029     42\n",
       "BK00053     41\n",
       "BK00018     38\n",
       "BK00046     37\n",
       "BK00024     36\n",
       "          ... \n",
       "BK00011     32\n",
       "BK00002     31\n",
       "BK00037     31\n",
       "BK00022     31\n",
       "BK00061     30\n",
       "BK00062     30\n",
       "BK00038     27\n",
       "BK00040     24\n",
       "BK00039     22\n",
       "BK00014     22\n",
       "BK00007     21\n",
       "BK00030     21\n",
       "BK00004     20\n",
       "BK00006     19\n",
       "BK00020     19\n",
       "BK00015     18\n",
       "BK00057     16\n",
       "BK00065     15\n",
       "BK00008     13\n",
       "BK00025     13\n",
       "BK00066     13\n",
       "BK00023     12\n",
       "BK00063     11\n",
       "BK00021     11\n",
       "BK00048     10\n",
       "BK00049      9\n",
       "BK00059      8\n",
       "BK00044      7\n",
       "BK00016      3\n",
       "BK00036      1\n",
       "Name: plate, Length: 63, dtype: int64"
      ]
     },
     "execution_count": 52,
     "metadata": {},
     "output_type": "execute_result"
    }
   ],
   "source": [
    "print(train_data[\"plate\"].value_counts())\n",
    "test_data[\"plate\"].value_counts()"
   ]
  },
  {
   "cell_type": "code",
   "execution_count": 53,
   "metadata": {},
   "outputs": [
    {
     "name": "stdout",
     "output_type": "stream",
     "text": [
      "BK00058\n",
      "BK00032\n"
     ]
    }
   ],
   "source": [
    "train_pla = train_data[\"plate\"].value_counts().keys()\n",
    "test_pla = test_data[\"plate\"].value_counts().keys()\n",
    "\n",
    "# find different\n",
    "for i in train_pla:\n",
    "    if i not in test_pla:\n",
    "        print(i)"
   ]
  },
  {
   "cell_type": "code",
   "execution_count": 54,
   "metadata": {},
   "outputs": [],
   "source": [
    "for i in test_pla:\n",
    "    if i not in train_pla:\n",
    "        print(i)"
   ]
  },
  {
   "cell_type": "code",
   "execution_count": 55,
   "metadata": {},
   "outputs": [],
   "source": [
    "trian_data = train_data.drop(train_data[(train_data[\"plate\"] == \"BK00058\")|(train_data[\"plate\"] == \"BK00032\")].index)"
   ]
  },
  {
   "cell_type": "code",
   "execution_count": 56,
   "metadata": {},
   "outputs": [
    {
     "data": {
      "text/plain": [
       "(-0.5, 64.5, 0, 23000)"
      ]
     },
     "execution_count": 56,
     "metadata": {},
     "output_type": "execute_result"
    },
    {
     "data": {
      "image/png": "[encoded data removed]",
      "text/plain": [
       "<Figure size 1440x720 with 1 Axes>"
      ]
     },
     "metadata": {
      "needs_background": "light"
     },
     "output_type": "display_data"
    }
   ],
   "source": [
    "data = pd.concat([train_data[\"tradeMoney\"],train_data[\"plate\"]],axis = 1)\n",
    "f,ax = plt.subplots(figsize=(20,10))\n",
    "fig = sns.boxplot(x = 'plate',y = \"tradeMoney\",data = data )\n",
    "fig.axis(ymin=0,ymax = 23000)"
   ]
  },
  {
   "cell_type": "markdown",
   "metadata": {},
   "source": [
    "## 总结"
   ]
  },
  {
   "cell_type": "markdown",
   "metadata": {},
   "source": [
    "- 删除数据分布不同的值"
   ]
  },
  {
   "cell_type": "code",
   "execution_count": null,
   "metadata": {},
   "outputs": [],
   "source": []
  }
 ],
 "metadata": {
  "kernelspec": {
   "display_name": "Python 3",
   "language": "python",
   "name": "python3"
  },
  "language_info": {
   "codemirror_mode": {
    "name": "ipython",
    "version": 3
   },
   "file_extension": ".py",
   "mimetype": "text/x-python",
   "name": "python",
   "nbconvert_exporter": "python",
   "pygments_lexer": "ipython3",
   "version": "3.6.6"
  }
 },
 "nbformat": 4,
 "nbformat_minor": 2
}
